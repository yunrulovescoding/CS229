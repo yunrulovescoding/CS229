{
 "cells": [
  {
   "cell_type": "code",
   "execution_count": 1,
   "metadata": {},
   "outputs": [],
   "source": [
    "import numpy as np\n",
    "import pandas as pd\n",
    "import matplotlib.pyplot as plt\n",
    "from datetime import datetime\n",
    "\n",
    "from sklearn.metrics import classification_report\n",
    "from sklearn.metrics import roc_auc_score\n",
    "\n",
    "import lightgbm as lgb\n",
    "import xgboost as xgb\n",
    "import catboost as cb\n",
    "from catboost import CatBoostClassifier, Pool\n",
    "\n",
    "import sklearn.datasets\n",
    "import gc"
   ]
  },
  {
   "cell_type": "markdown",
   "metadata": {},
   "source": [
    "### Data Prep."
   ]
  },
  {
   "cell_type": "code",
   "execution_count": 2,
   "metadata": {},
   "outputs": [],
   "source": [
    "# train_X = pd.read_csv('music_data/train_X.csv')\n",
    "train_X = pd.read_csv('music_data/train_X_date_converted.csv')\n",
    "train_y = pd.read_csv('music_data/train_Y.csv')\n",
    "\n",
    "# val_X = pd.read_csv('music_data/valid_X.csv')\n",
    "val_X = pd.read_csv('music_data/valid_X_date_converted.csv')\n",
    "val_y = pd.read_csv('music_data/valid_Y.csv')\n",
    "\n",
    "# test_X = pd.read_csv('music_data/test_X.csv')\n",
    "test_X = pd.read_csv('music_data/test_X_date_converted.csv')\n",
    "test_y = pd.read_csv('music_data/test_Y.csv')"
   ]
  },
  {
   "cell_type": "code",
   "execution_count": 3,
   "metadata": {},
   "outputs": [],
   "source": [
    "# train_tiny_X = pd.read_csv('music_data/train_tiny_X.csv')\n",
    "train_tiny_X = train_X[:10000].copy()\n",
    "train_tiny_y = train_y[:10000].copy()\n",
    "\n",
    "val_tiny_X = val_X[:1000].copy()\n",
    "#val_tiny_X = pd.read_csv('music_data/val_tiny_X_date_converted.csv')\n",
    "val_tiny_y = val_y[:1000].copy()"
   ]
  },
  {
   "cell_type": "code",
   "execution_count": 11,
   "metadata": {},
   "outputs": [
    {
     "name": "stdout",
     "output_type": "stream",
     "text": [
      "train x 2004-03-26 1970-01-01\n",
      "val x 2004-03-26 1970-01-01\n",
      "test x 2004-03-26 2004-10-16\n",
      "1 1970-01-01 in train set\n",
      "2 1970-01-01 in val set\n",
      "1 smaller than 2000-01-01 in train set\n",
      "2 smaller than 2000-01-01 in val set\n"
     ]
    }
   ],
   "source": [
    "# Observing reasonable date for date time conversion\n",
    "# 2004 seems to be the earliest date. '1970-01-01' is essentially null value (1 in train).\n",
    "print('train x', train_X['registration_init_time'].min(), train_X['expiration_date'].min())\n",
    "print('val x', val_X['registration_init_time'].min(), val_X['expiration_date'].min())\n",
    "print('test x', test_X['registration_init_time'].min(), test_X['expiration_date'].min())\n",
    "\n",
    "\n",
    "# Not many records smaller than '2000-01-01'. Reasonable to not treat them specially\n",
    "print(train_X['expiration_date'].apply(lambda date: date == '1970-01-01').sum(), '1970-01-01 in train set')\n",
    "print(val_X['expiration_date'].apply(lambda date: date == '1970-01-01').sum(), '1970-01-01 in val set')\n",
    "\n",
    "print(train_X['expiration_date'].apply(lambda date: date < '2000-01-01').sum(), 'smaller than 2000-01-01 in train set')\n",
    "print(val_X['expiration_date'].apply(lambda date: date < '2000-01-01').sum(), 'smaller than 2000-01-01 in val set')"
   ]
  },
  {
   "cell_type": "code",
   "execution_count": null,
   "metadata": {},
   "outputs": [],
   "source": [
    "def date_to_int(column, base_date=datetime.strptime('2000-01-01', \"%Y-%m-%d\")):\n",
    "    \"\"\"\n",
    "    Convert date to day counts since base_date for given columns.\n",
    "    \n",
    "    :param column: pandas column containing date representations as str value\n",
    "    :param base_date: base date from which date is counted. i.e. 2000-01-02 will be day '1' comparing to '2000-01-01'\n",
    "    \"\"\"\n",
    "    \n",
    "    def date_diff(date):\n",
    "        date = datetime.strptime(date, \"%Y-%m-%d\")\n",
    "        return (date - base_date).days\n",
    "    \n",
    "    return column.apply(date_diff)\n",
    "\n",
    "def convert_date_columns_to_int(dataframes, cols=['registration_init_time', 'expiration_date'], saving=True):\n",
    "    count = 0\n",
    "    total = len(dataframes)\n",
    "    for df_name, df in dataframes.items():\n",
    "        count += 1\n",
    "        print(\"Starting {} ...\".format(df_name))\n",
    "        for col in cols:\n",
    "            df[col+'_int'] = date_to_int(df[col])\n",
    "        df = df.drop(columns=cols)\n",
    "        dataframes[df_name] = df\n",
    "        \n",
    "        if saving:\n",
    "            print(\"Saving {} ...\".format(df_name))\n",
    "            df.to_csv('music_data/'+ df_name + '_date_converted.csv')\n",
    "        \n",
    "        print(\"====== Done {} / {} ======\".format(count, total))\n",
    "    return dataframes\n"
   ]
  },
  {
   "cell_type": "code",
   "execution_count": null,
   "metadata": {},
   "outputs": [
    {
     "name": "stdout",
     "output_type": "stream",
     "text": [
      "Starting val_tiny_X ...\n",
      "Saving val_tiny_X ...\n",
      "====== Done 1 / 5 ======\n",
      "Starting train_X ...\n",
      "Saving train_X ...\n"
     ]
    }
   ],
   "source": [
    "# Converting all data\n",
    "converted_dfs = convert_date_columns_to_int({\n",
    "    'train_X': train_X,\n",
    "    'valid_X': val_X,\n",
    "    'test_X': test_X,\n",
    "    'train_tiny_X': train_tiny_X,\n",
    "    'val_tiny_X': val_tiny_X,\n",
    "})\n",
    "train_X = converted_dfs['train_X']\n",
    "val_X = converted_dfs['valid_X']\n",
    "test_X = converted_dfs['test_X']\n",
    "train_tiny_X = converted_dfs['train_tiny_X']\n",
    "val_tiny_X = converted_dfs['val_tiny_X']"
   ]
  },
  {
   "cell_type": "markdown",
   "metadata": {},
   "source": [
    "## Gradient Boosting"
   ]
  },
  {
   "cell_type": "markdown",
   "metadata": {},
   "source": [
    "### LightGBM"
   ]
  },
  {
   "cell_type": "code",
   "execution_count": 19,
   "metadata": {},
   "outputs": [],
   "source": [
    "def run_lgbc(train_X, train_y, val_X, val_y):\n",
    "    params = {\n",
    "        \"objective\" : \"binary\",\n",
    "        \"metric\" : \"binary_logloss\", \n",
    "        \"num_leaves\" : 30,\n",
    "        \"min_child_samples\" : 100,\n",
    "        \"learning_rate\" : 0.1,\n",
    "        \"bagging_fraction\" : 0.7,\n",
    "        \"feature_fraction\" : 0.5,\n",
    "        \"bagging_frequency\" : 5,\n",
    "        \"bagging_seed\" : 2018,\n",
    "    }\n",
    "    \n",
    "    lgtrain = lgb.Dataset(train_X, label=train_y)\n",
    "    lgval = lgb.Dataset(val_X, label=val_y)\n",
    "    model = lgb.train(params, lgtrain, 1000, valid_sets=[lgval], early_stopping_rounds=100, verbose_eval=100)\n",
    "\n",
    "    pred_val_y = model.predict(val_X, num_iteration=model.best_iteration)\n",
    "    return model, pred_val_y"
   ]
  },
  {
   "cell_type": "markdown",
   "metadata": {},
   "source": [
    "#### Testing on tiny dataset"
   ]
  },
  {
   "cell_type": "code",
   "execution_count": 31,
   "metadata": {},
   "outputs": [
    {
     "name": "stdout",
     "output_type": "stream",
     "text": [
      "Training until validation scores don't improve for 100 rounds.\n",
      "[100]\tvalid_0's binary_logloss: 0.651618\n",
      "Early stopping, best iteration is:\n",
      "[30]\tvalid_0's binary_logloss: 0.639451\n",
      "              precision    recall  f1-score   support\n",
      "\n",
      "         0.0       0.58      0.69      0.63       477\n",
      "         1.0       0.66      0.55      0.60       523\n",
      "\n",
      "   micro avg       0.62      0.62      0.62      1000\n",
      "   macro avg       0.62      0.62      0.62      1000\n",
      "weighted avg       0.62      0.62      0.61      1000\n",
      "\n",
      "0.6819830761892165\n"
     ]
    }
   ],
   "source": [
    "modelC, pred_val_y = run_lgbc(train_tiny_X, train_tiny_y['target'], val_tiny_X, val_tiny_y['target'])\n",
    "print(classification_report(val_tiny_y['target'], modelC.predict(val_tiny_X)>0.5))\n",
    "print(roc_auc_score(val_tiny_y['target'], modelC.predict(val_tiny_X)))"
   ]
  },
  {
   "cell_type": "markdown",
   "metadata": {},
   "source": [
    "#### Running large data"
   ]
  },
  {
   "cell_type": "code",
   "execution_count": 32,
   "metadata": {
    "scrolled": true
   },
   "outputs": [
    {
     "name": "stdout",
     "output_type": "stream",
     "text": [
      "Training until validation scores don't improve for 100 rounds.\n",
      "[100]\tvalid_0's binary_logloss: 0.6224\n",
      "[200]\tvalid_0's binary_logloss: 0.616636\n",
      "[300]\tvalid_0's binary_logloss: 0.612586\n",
      "[400]\tvalid_0's binary_logloss: 0.609499\n",
      "[500]\tvalid_0's binary_logloss: 0.606984\n",
      "[600]\tvalid_0's binary_logloss: 0.604466\n",
      "[700]\tvalid_0's binary_logloss: 0.602129\n",
      "[800]\tvalid_0's binary_logloss: 0.60016\n",
      "[900]\tvalid_0's binary_logloss: 0.598241\n",
      "[1000]\tvalid_0's binary_logloss: 0.596447\n",
      "Did not meet early stopping. Best iteration is:\n",
      "[1000]\tvalid_0's binary_logloss: 0.596447\n",
      "              precision    recall  f1-score   support\n",
      "\n",
      "         0.0       0.67      0.70      0.68    732500\n",
      "         1.0       0.69      0.66      0.67    742961\n",
      "\n",
      "   micro avg       0.68      0.68      0.68   1475461\n",
      "   macro avg       0.68      0.68      0.68   1475461\n",
      "weighted avg       0.68      0.68      0.68   1475461\n",
      "\n",
      "0.7449332780580912\n"
     ]
    }
   ],
   "source": [
    "modelC, pred_val_y = run_lgbc(train_X, train_y['target'], val_X, val_y['target'])\n",
    "print(classification_report(val_y['target'], modelC.predict(val_X)>0.5))\n",
    "print(roc_auc_score(val_y['target'], modelC.predict(val_X)))"
   ]
  },
  {
   "cell_type": "markdown",
   "metadata": {},
   "source": [
    "### CatBoosting"
   ]
  },
  {
   "cell_type": "code",
   "execution_count": 4,
   "metadata": {},
   "outputs": [
    {
     "data": {
      "text/html": [
       "<div>\n",
       "<style scoped>\n",
       "    .dataframe tbody tr th:only-of-type {\n",
       "        vertical-align: middle;\n",
       "    }\n",
       "\n",
       "    .dataframe tbody tr th {\n",
       "        vertical-align: top;\n",
       "    }\n",
       "\n",
       "    .dataframe thead th {\n",
       "        text-align: right;\n",
       "    }\n",
       "</style>\n",
       "<table border=\"1\" class=\"dataframe\">\n",
       "  <thead>\n",
       "    <tr style=\"text-align: right;\">\n",
       "      <th></th>\n",
       "      <th>Unnamed: 0</th>\n",
       "      <th>Unnamed: 0.1</th>\n",
       "      <th>msno</th>\n",
       "      <th>song_id</th>\n",
       "      <th>source_screen_name</th>\n",
       "      <th>source_system_tab</th>\n",
       "      <th>source_type</th>\n",
       "      <th>song_length</th>\n",
       "      <th>genre_ids</th>\n",
       "      <th>artist_name</th>\n",
       "      <th>composer</th>\n",
       "      <th>lyricist</th>\n",
       "      <th>language</th>\n",
       "      <th>city</th>\n",
       "      <th>bd</th>\n",
       "      <th>gender</th>\n",
       "      <th>registered_via</th>\n",
       "      <th>time</th>\n",
       "      <th>registration_init_time_int</th>\n",
       "      <th>expiration_date_int</th>\n",
       "    </tr>\n",
       "  </thead>\n",
       "  <tbody>\n",
       "    <tr>\n",
       "      <th>0</th>\n",
       "      <td>4014890</td>\n",
       "      <td>7039846</td>\n",
       "      <td>785</td>\n",
       "      <td>141648</td>\n",
       "      <td>18</td>\n",
       "      <td>7</td>\n",
       "      <td>7</td>\n",
       "      <td>219454.0</td>\n",
       "      <td>371</td>\n",
       "      <td>44988</td>\n",
       "      <td>20734</td>\n",
       "      <td>4032</td>\n",
       "      <td>2</td>\n",
       "      <td>0</td>\n",
       "      <td>0</td>\n",
       "      <td>2</td>\n",
       "      <td>2</td>\n",
       "      <td>0.708647</td>\n",
       "      <td>4155</td>\n",
       "      <td>6465</td>\n",
       "    </tr>\n",
       "    <tr>\n",
       "      <th>1</th>\n",
       "      <td>865446</td>\n",
       "      <td>2067552</td>\n",
       "      <td>9176</td>\n",
       "      <td>156565</td>\n",
       "      <td>16</td>\n",
       "      <td>6</td>\n",
       "      <td>8</td>\n",
       "      <td>270001.0</td>\n",
       "      <td>127</td>\n",
       "      <td>8947</td>\n",
       "      <td>74276</td>\n",
       "      <td>26024</td>\n",
       "      <td>9</td>\n",
       "      <td>0</td>\n",
       "      <td>0</td>\n",
       "      <td>2</td>\n",
       "      <td>2</td>\n",
       "      <td>0.208124</td>\n",
       "      <td>4384</td>\n",
       "      <td>6487</td>\n",
       "    </tr>\n",
       "    <tr>\n",
       "      <th>2</th>\n",
       "      <td>1151370</td>\n",
       "      <td>5503771</td>\n",
       "      <td>31040</td>\n",
       "      <td>43786</td>\n",
       "      <td>11</td>\n",
       "      <td>0</td>\n",
       "      <td>7</td>\n",
       "      <td>265822.0</td>\n",
       "      <td>371</td>\n",
       "      <td>40039</td>\n",
       "      <td>84290</td>\n",
       "      <td>35947</td>\n",
       "      <td>2</td>\n",
       "      <td>12</td>\n",
       "      <td>33</td>\n",
       "      <td>1</td>\n",
       "      <td>3</td>\n",
       "      <td>0.554022</td>\n",
       "      <td>2890</td>\n",
       "      <td>6479</td>\n",
       "    </tr>\n",
       "    <tr>\n",
       "      <th>3</th>\n",
       "      <td>575108</td>\n",
       "      <td>639057</td>\n",
       "      <td>26412</td>\n",
       "      <td>387047</td>\n",
       "      <td>8</td>\n",
       "      <td>3</td>\n",
       "      <td>4</td>\n",
       "      <td>266031.0</td>\n",
       "      <td>364</td>\n",
       "      <td>42827</td>\n",
       "      <td>71260</td>\n",
       "      <td>26024</td>\n",
       "      <td>2</td>\n",
       "      <td>0</td>\n",
       "      <td>0</td>\n",
       "      <td>2</td>\n",
       "      <td>2</td>\n",
       "      <td>0.064329</td>\n",
       "      <td>6153</td>\n",
       "      <td>6486</td>\n",
       "    </tr>\n",
       "    <tr>\n",
       "      <th>4</th>\n",
       "      <td>460130</td>\n",
       "      <td>6368926</td>\n",
       "      <td>24075</td>\n",
       "      <td>136842</td>\n",
       "      <td>4</td>\n",
       "      <td>0</td>\n",
       "      <td>7</td>\n",
       "      <td>280346.0</td>\n",
       "      <td>364</td>\n",
       "      <td>43072</td>\n",
       "      <td>81070</td>\n",
       "      <td>31877</td>\n",
       "      <td>2</td>\n",
       "      <td>0</td>\n",
       "      <td>0</td>\n",
       "      <td>2</td>\n",
       "      <td>3</td>\n",
       "      <td>0.641111</td>\n",
       "      <td>5634</td>\n",
       "      <td>6874</td>\n",
       "    </tr>\n",
       "  </tbody>\n",
       "</table>\n",
       "</div>"
      ],
      "text/plain": [
       "   Unnamed: 0  Unnamed: 0.1   msno  song_id  source_screen_name  \\\n",
       "0     4014890       7039846    785   141648                  18   \n",
       "1      865446       2067552   9176   156565                  16   \n",
       "2     1151370       5503771  31040    43786                  11   \n",
       "3      575108        639057  26412   387047                   8   \n",
       "4      460130       6368926  24075   136842                   4   \n",
       "\n",
       "   source_system_tab  source_type  song_length  genre_ids  artist_name  \\\n",
       "0                  7            7     219454.0        371        44988   \n",
       "1                  6            8     270001.0        127         8947   \n",
       "2                  0            7     265822.0        371        40039   \n",
       "3                  3            4     266031.0        364        42827   \n",
       "4                  0            7     280346.0        364        43072   \n",
       "\n",
       "   composer  lyricist  language  city  bd  gender  registered_via      time  \\\n",
       "0     20734      4032         2     0   0       2               2  0.708647   \n",
       "1     74276     26024         9     0   0       2               2  0.208124   \n",
       "2     84290     35947         2    12  33       1               3  0.554022   \n",
       "3     71260     26024         2     0   0       2               2  0.064329   \n",
       "4     81070     31877         2     0   0       2               3  0.641111   \n",
       "\n",
       "   registration_init_time_int  expiration_date_int  \n",
       "0                        4155                 6465  \n",
       "1                        4384                 6487  \n",
       "2                        2890                 6479  \n",
       "3                        6153                 6486  \n",
       "4                        5634                 6874  "
      ]
     },
     "execution_count": 4,
     "metadata": {},
     "output_type": "execute_result"
    }
   ],
   "source": [
    "train_X.head()"
   ]
  },
  {
   "cell_type": "code",
   "execution_count": 5,
   "metadata": {},
   "outputs": [
    {
     "data": {
      "text/html": [
       "<div>\n",
       "<style scoped>\n",
       "    .dataframe tbody tr th:only-of-type {\n",
       "        vertical-align: middle;\n",
       "    }\n",
       "\n",
       "    .dataframe tbody tr th {\n",
       "        vertical-align: top;\n",
       "    }\n",
       "\n",
       "    .dataframe thead th {\n",
       "        text-align: right;\n",
       "    }\n",
       "</style>\n",
       "<table border=\"1\" class=\"dataframe\">\n",
       "  <thead>\n",
       "    <tr style=\"text-align: right;\">\n",
       "      <th></th>\n",
       "      <th>Unnamed: 0</th>\n",
       "      <th>Unnamed: 0.1</th>\n",
       "      <th>msno</th>\n",
       "      <th>song_id</th>\n",
       "      <th>source_screen_name</th>\n",
       "      <th>source_system_tab</th>\n",
       "      <th>source_type</th>\n",
       "      <th>song_length</th>\n",
       "      <th>genre_ids</th>\n",
       "      <th>artist_name</th>\n",
       "      <th>composer</th>\n",
       "      <th>lyricist</th>\n",
       "      <th>language</th>\n",
       "      <th>city</th>\n",
       "      <th>bd</th>\n",
       "      <th>gender</th>\n",
       "      <th>registered_via</th>\n",
       "      <th>time</th>\n",
       "      <th>registration_init_time_int</th>\n",
       "      <th>expiration_date_int</th>\n",
       "    </tr>\n",
       "  </thead>\n",
       "  <tbody>\n",
       "    <tr>\n",
       "      <th>0</th>\n",
       "      <td>481907</td>\n",
       "      <td>1914774</td>\n",
       "      <td>16381</td>\n",
       "      <td>209587</td>\n",
       "      <td>11</td>\n",
       "      <td>3</td>\n",
       "      <td>3</td>\n",
       "      <td>296542.0</td>\n",
       "      <td>364</td>\n",
       "      <td>42827</td>\n",
       "      <td>72356</td>\n",
       "      <td>26024</td>\n",
       "      <td>2</td>\n",
       "      <td>0</td>\n",
       "      <td>0</td>\n",
       "      <td>1</td>\n",
       "      <td>2</td>\n",
       "      <td>0.192746</td>\n",
       "      <td>4884</td>\n",
       "      <td>6467</td>\n",
       "    </tr>\n",
       "    <tr>\n",
       "      <th>1</th>\n",
       "      <td>1001872</td>\n",
       "      <td>2221821</td>\n",
       "      <td>22888</td>\n",
       "      <td>410176</td>\n",
       "      <td>8</td>\n",
       "      <td>3</td>\n",
       "      <td>3</td>\n",
       "      <td>333740.0</td>\n",
       "      <td>127</td>\n",
       "      <td>22395</td>\n",
       "      <td>74276</td>\n",
       "      <td>26024</td>\n",
       "      <td>9</td>\n",
       "      <td>13</td>\n",
       "      <td>26</td>\n",
       "      <td>1</td>\n",
       "      <td>3</td>\n",
       "      <td>0.223654</td>\n",
       "      <td>4148</td>\n",
       "      <td>6458</td>\n",
       "    </tr>\n",
       "    <tr>\n",
       "      <th>2</th>\n",
       "      <td>2468130</td>\n",
       "      <td>5800477</td>\n",
       "      <td>28551</td>\n",
       "      <td>102966</td>\n",
       "      <td>8</td>\n",
       "      <td>3</td>\n",
       "      <td>4</td>\n",
       "      <td>82464.0</td>\n",
       "      <td>608</td>\n",
       "      <td>27715</td>\n",
       "      <td>39002</td>\n",
       "      <td>26024</td>\n",
       "      <td>1</td>\n",
       "      <td>0</td>\n",
       "      <td>0</td>\n",
       "      <td>2</td>\n",
       "      <td>1</td>\n",
       "      <td>0.583889</td>\n",
       "      <td>6142</td>\n",
       "      <td>6487</td>\n",
       "    </tr>\n",
       "    <tr>\n",
       "      <th>3</th>\n",
       "      <td>1795430</td>\n",
       "      <td>349540</td>\n",
       "      <td>33321</td>\n",
       "      <td>181586</td>\n",
       "      <td>8</td>\n",
       "      <td>3</td>\n",
       "      <td>4</td>\n",
       "      <td>235075.0</td>\n",
       "      <td>371</td>\n",
       "      <td>36867</td>\n",
       "      <td>74276</td>\n",
       "      <td>26024</td>\n",
       "      <td>9</td>\n",
       "      <td>0</td>\n",
       "      <td>0</td>\n",
       "      <td>2</td>\n",
       "      <td>2</td>\n",
       "      <td>0.035185</td>\n",
       "      <td>6091</td>\n",
       "      <td>6486</td>\n",
       "    </tr>\n",
       "    <tr>\n",
       "      <th>4</th>\n",
       "      <td>621167</td>\n",
       "      <td>2966646</td>\n",
       "      <td>16427</td>\n",
       "      <td>73221</td>\n",
       "      <td>8</td>\n",
       "      <td>3</td>\n",
       "      <td>3</td>\n",
       "      <td>173557.0</td>\n",
       "      <td>364</td>\n",
       "      <td>43595</td>\n",
       "      <td>85837</td>\n",
       "      <td>34739</td>\n",
       "      <td>2</td>\n",
       "      <td>0</td>\n",
       "      <td>0</td>\n",
       "      <td>2</td>\n",
       "      <td>2</td>\n",
       "      <td>0.298629</td>\n",
       "      <td>6101</td>\n",
       "      <td>6465</td>\n",
       "    </tr>\n",
       "  </tbody>\n",
       "</table>\n",
       "</div>"
      ],
      "text/plain": [
       "   Unnamed: 0  Unnamed: 0.1   msno  song_id  source_screen_name  \\\n",
       "0      481907       1914774  16381   209587                  11   \n",
       "1     1001872       2221821  22888   410176                   8   \n",
       "2     2468130       5800477  28551   102966                   8   \n",
       "3     1795430        349540  33321   181586                   8   \n",
       "4      621167       2966646  16427    73221                   8   \n",
       "\n",
       "   source_system_tab  source_type  song_length  genre_ids  artist_name  \\\n",
       "0                  3            3     296542.0        364        42827   \n",
       "1                  3            3     333740.0        127        22395   \n",
       "2                  3            4      82464.0        608        27715   \n",
       "3                  3            4     235075.0        371        36867   \n",
       "4                  3            3     173557.0        364        43595   \n",
       "\n",
       "   composer  lyricist  language  city  bd  gender  registered_via      time  \\\n",
       "0     72356     26024         2     0   0       1               2  0.192746   \n",
       "1     74276     26024         9    13  26       1               3  0.223654   \n",
       "2     39002     26024         1     0   0       2               1  0.583889   \n",
       "3     74276     26024         9     0   0       2               2  0.035185   \n",
       "4     85837     34739         2     0   0       2               2  0.298629   \n",
       "\n",
       "   registration_init_time_int  expiration_date_int  \n",
       "0                        4884                 6467  \n",
       "1                        4148                 6458  \n",
       "2                        6142                 6487  \n",
       "3                        6091                 6486  \n",
       "4                        6101                 6465  "
      ]
     },
     "execution_count": 5,
     "metadata": {},
     "output_type": "execute_result"
    }
   ],
   "source": [
    "val_X.head()"
   ]
  },
  {
   "cell_type": "code",
   "execution_count": 6,
   "metadata": {},
   "outputs": [
    {
     "data": {
      "text/plain": [
       "(552909, 20)"
      ]
     },
     "execution_count": 6,
     "metadata": {},
     "output_type": "execute_result"
    }
   ],
   "source": [
    "train_X.shape"
   ]
  },
  {
   "cell_type": "code",
   "execution_count": 113,
   "metadata": {},
   "outputs": [],
   "source": [
    "cat_features = [2,3,4,5,6,8,9,10,11,12,13,14,15,16]"
   ]
  },
  {
   "cell_type": "code",
   "execution_count": 87,
   "metadata": {},
   "outputs": [],
   "source": [
    "def run_cb(train_X, train_y, val_X, val_y, cat_features, iterations=20, learning_rate=0.1, depth=6):\n",
    "    model_cb = cb.CatBoostClassifier(\n",
    "        iterations=iterations, \n",
    "        learning_rate=learning_rate, \n",
    "        depth=depth, \n",
    "        loss_function='Logloss',\n",
    "        thread_count=30,\n",
    "        random_seed=229,\n",
    "        use_best_model = True,\n",
    "        l2_leaf_reg = 2\n",
    "        *kwargs\n",
    "    )\n",
    "    eval_dataset = Pool(val_X,val_y,cat_features=cat_features)\n",
    "    \n",
    "    model = model_cb.fit(train_X, train_y, cat_features, eval_set=eval_dataset,\n",
    "                         verbose_eval=25, early_stopping_rounds = 10)\n",
    "\n",
    "    pred_val_y = model.predict(val_X)\n",
    "    return model, pred_val_y"
   ]
  },
  {
   "cell_type": "markdown",
   "metadata": {},
   "source": [
    "### Testing on Tiny Dataset"
   ]
  },
  {
   "cell_type": "code",
   "execution_count": 91,
   "metadata": {},
   "outputs": [
    {
     "name": "stdout",
     "output_type": "stream",
     "text": [
      "0:\tlearn: 0.6831207\ttest: 0.6836009\tbest: 0.6836009 (0)\ttotal: 155ms\tremaining: 46.3s\n",
      "25:\tlearn: 0.6197703\ttest: 0.6200814\tbest: 0.6200814 (25)\ttotal: 2.46s\tremaining: 26s\n",
      "50:\tlearn: 0.6059473\ttest: 0.6125745\tbest: 0.6123165 (49)\ttotal: 4.54s\tremaining: 22.2s\n",
      "75:\tlearn: 0.5958593\ttest: 0.6109585\tbest: 0.6109585 (75)\ttotal: 6.84s\tremaining: 20.2s\n",
      "100:\tlearn: 0.5861887\ttest: 0.6098933\tbest: 0.6094656 (96)\ttotal: 9.03s\tremaining: 17.8s\n",
      "125:\tlearn: 0.5759205\ttest: 0.6099270\tbest: 0.6094656 (96)\ttotal: 11.2s\tremaining: 15.5s\n",
      "150:\tlearn: 0.5659411\ttest: 0.6100231\tbest: 0.6094656 (96)\ttotal: 13.6s\tremaining: 13.4s\n",
      "175:\tlearn: 0.5563937\ttest: 0.6119087\tbest: 0.6094656 (96)\ttotal: 16.1s\tremaining: 11.3s\n",
      "Stopped by overfitting detector  (100 iterations wait)\n",
      "\n",
      "bestTest = 0.609465602\n",
      "bestIteration = 96\n",
      "\n",
      "Shrink model to first 97 iterations.\n"
     ]
    }
   ],
   "source": [
    "# Tiny dataset\n",
    "model_cb, pred_val_y = run_cb(train_tiny_X, train_tiny_y['target'], val_tiny_X, val_tiny_y['target'],cat_features)\n"
   ]
  },
  {
   "cell_type": "code",
   "execution_count": 93,
   "metadata": {},
   "outputs": [
    {
     "name": "stdout",
     "output_type": "stream",
     "text": [
      "              precision    recall  f1-score   support\n",
      "\n",
      "         0.0       0.65      0.74      0.69       477\n",
      "         1.0       0.73      0.63      0.68       523\n",
      "\n",
      "   micro avg       0.68      0.68      0.68      1000\n",
      "   macro avg       0.69      0.69      0.68      1000\n",
      "weighted avg       0.69      0.68      0.68      1000\n",
      "\n",
      "0.6854163409775085\n"
     ]
    }
   ],
   "source": [
    "#Analysis\n",
    "print(classification_report(val_tiny_y['target'], pred_val_y>0.5))\n",
    "print(roc_auc_score(val_tiny_y['target'],pred_val_y))"
   ]
  },
  {
   "cell_type": "code",
   "execution_count": 101,
   "metadata": {},
   "outputs": [
    {
     "data": {
      "text/plain": [
       "array([ 2.01723401,  8.75170032,  3.26461969, 11.93417377,  6.74938415,\n",
       "       11.20750328, 12.10402081,  2.41687205,  3.02796949,  4.01081244,\n",
       "        2.43845576,  0.73392845,  3.13813829,  3.8346574 ,  4.28264634,\n",
       "        2.37046235,  2.26047314,  8.30894994,  1.86662922,  5.2813691 ])"
      ]
     },
     "execution_count": 101,
     "metadata": {},
     "output_type": "execute_result"
    }
   ],
   "source": [
    "model_cb.get_feature_importance()"
   ]
  },
  {
   "cell_type": "code",
   "execution_count": 95,
   "metadata": {},
   "outputs": [],
   "source": [
    "#save score\n",
    "np.savez('output/catboost_small.npz', val_target=val_tiny_y['target'], val_preds= pred_val_y)"
   ]
  },
  {
   "cell_type": "code",
   "execution_count": 97,
   "metadata": {},
   "outputs": [
    {
     "data": {
      "text/plain": [
       "['val_target', 'val_preds']"
      ]
     },
     "execution_count": 97,
     "metadata": {},
     "output_type": "execute_result"
    }
   ],
   "source": [
    "#load score\n",
    "val_scores = np.load('output/catboost_small.npz')\n",
    "val_scores.files"
   ]
  },
  {
   "cell_type": "code",
   "execution_count": 99,
   "metadata": {},
   "outputs": [
    {
     "data": {
      "text/plain": [
       "array([0., 1., 1., 1., 0., 0., 1., 0., 0., 0.])"
      ]
     },
     "execution_count": 99,
     "metadata": {},
     "output_type": "execute_result"
    }
   ],
   "source": [
    "val_scores['val_preds'][:10]"
   ]
  },
  {
   "cell_type": "markdown",
   "metadata": {},
   "source": [
    "### Testing on Full Dataset (Old data)"
   ]
  },
  {
   "cell_type": "code",
   "execution_count": 6,
   "metadata": {},
   "outputs": [
    {
     "name": "stdout",
     "output_type": "stream",
     "text": [
      "0:\tlearn: 0.6284429\ttest: 0.6235821\tbest: 0.6235821 (0)\ttotal: 9.48s\tremaining: 5h 15m 52s\n",
      "25:\tlearn: 0.5141280\ttest: 0.4905989\tbest: 0.4905989 (25)\ttotal: 3m 27s\tremaining: 4h 22m 15s\n",
      "50:\tlearn: 0.5065182\ttest: 0.4815930\tbest: 0.4815930 (50)\ttotal: 6m 47s\tremaining: 4h 19m 36s\n",
      "75:\tlearn: 0.5030026\ttest: 0.4775023\tbest: 0.4775023 (75)\ttotal: 10m 8s\tremaining: 4h 16m 38s\n",
      "100:\tlearn: 0.5004828\ttest: 0.4747343\tbest: 0.4747343 (100)\ttotal: 13m 33s\tremaining: 4h 14m 56s\n",
      "125:\tlearn: 0.4986242\ttest: 0.4727999\tbest: 0.4727999 (125)\ttotal: 16m 54s\tremaining: 4h 11m 26s\n",
      "150:\tlearn: 0.4969893\ttest: 0.4710671\tbest: 0.4710671 (150)\ttotal: 20m 27s\tremaining: 4h 10m 32s\n",
      "175:\tlearn: 0.4952983\ttest: 0.4692347\tbest: 0.4692347 (175)\ttotal: 23m 54s\tremaining: 4h 7m 49s\n",
      "200:\tlearn: 0.4940872\ttest: 0.4679293\tbest: 0.4679293 (200)\ttotal: 27m 15s\tremaining: 4h 3m 57s\n",
      "225:\tlearn: 0.4931417\ttest: 0.4669468\tbest: 0.4669468 (225)\ttotal: 30m 38s\tremaining: 4h 34s\n",
      "250:\tlearn: 0.4920234\ttest: 0.4657479\tbest: 0.4657479 (250)\ttotal: 34m 4s\tremaining: 3h 57m 26s\n",
      "275:\tlearn: 0.4914686\ttest: 0.4652272\tbest: 0.4652272 (275)\ttotal: 37m 21s\tremaining: 3h 53m 23s\n",
      "300:\tlearn: 0.4910086\ttest: 0.4647616\tbest: 0.4647616 (300)\ttotal: 40m 49s\tremaining: 3h 50m 26s\n",
      "325:\tlearn: 0.4905923\ttest: 0.4643906\tbest: 0.4643906 (325)\ttotal: 44m 18s\tremaining: 3h 47m 29s\n",
      "350:\tlearn: 0.4899380\ttest: 0.4637461\tbest: 0.4637461 (350)\ttotal: 47m 42s\tremaining: 3h 44m 9s\n",
      "375:\tlearn: 0.4894705\ttest: 0.4633634\tbest: 0.4633634 (375)\ttotal: 50m 59s\tremaining: 3h 40m 15s\n",
      "400:\tlearn: 0.4890608\ttest: 0.4630670\tbest: 0.4630670 (400)\ttotal: 54m 11s\tremaining: 3h 36m 5s\n",
      "425:\tlearn: 0.4887072\ttest: 0.4627569\tbest: 0.4627569 (425)\ttotal: 57m 26s\tremaining: 3h 32m 14s\n",
      "450:\tlearn: 0.4882043\ttest: 0.4622093\tbest: 0.4622093 (450)\ttotal: 1h 42s\tremaining: 3h 28m 29s\n",
      "475:\tlearn: 0.4877952\ttest: 0.4618486\tbest: 0.4618469 (473)\ttotal: 1h 3m 53s\tremaining: 3h 24m 34s\n",
      "500:\tlearn: 0.4874194\ttest: 0.4614549\tbest: 0.4614549 (500)\ttotal: 1h 7m 11s\tremaining: 3h 21m 2s\n",
      "525:\tlearn: 0.4872039\ttest: 0.4613278\tbest: 0.4613278 (525)\ttotal: 1h 10m 23s\tremaining: 3h 17m 15s\n",
      "550:\tlearn: 0.4868627\ttest: 0.4610432\tbest: 0.4610432 (550)\ttotal: 1h 13m 32s\tremaining: 3h 13m 23s\n",
      "575:\tlearn: 0.4866158\ttest: 0.4608308\tbest: 0.4608308 (575)\ttotal: 1h 16m 53s\tremaining: 3h 10m 5s\n",
      "600:\tlearn: 0.4864258\ttest: 0.4607281\tbest: 0.4607281 (600)\ttotal: 1h 20m 11s\tremaining: 3h 6m 39s\n",
      "625:\tlearn: 0.4860785\ttest: 0.4603912\tbest: 0.4603912 (625)\ttotal: 1h 23m 17s\tremaining: 3h 2m 48s\n",
      "650:\tlearn: 0.4857422\ttest: 0.4601053\tbest: 0.4601053 (650)\ttotal: 1h 26m 35s\tremaining: 2h 59m 25s\n",
      "675:\tlearn: 0.4854875\ttest: 0.4599333\tbest: 0.4599333 (675)\ttotal: 1h 29m 46s\tremaining: 2h 55m 49s\n",
      "700:\tlearn: 0.4853700\ttest: 0.4598912\tbest: 0.4598912 (700)\ttotal: 1h 32m 59s\tremaining: 2h 52m 19s\n",
      "725:\tlearn: 0.4851771\ttest: 0.4597472\tbest: 0.4597472 (725)\ttotal: 1h 36m 2s\tremaining: 2h 48m 31s\n",
      "750:\tlearn: 0.4850074\ttest: 0.4596346\tbest: 0.4596346 (750)\ttotal: 1h 39m 15s\tremaining: 2h 45m 4s\n",
      "775:\tlearn: 0.4847634\ttest: 0.4594502\tbest: 0.4594502 (775)\ttotal: 1h 42m 22s\tremaining: 2h 41m 28s\n",
      "800:\tlearn: 0.4843254\ttest: 0.4590056\tbest: 0.4590056 (800)\ttotal: 1h 45m 40s\tremaining: 2h 38m 10s\n",
      "825:\tlearn: 0.4841548\ttest: 0.4588853\tbest: 0.4588849 (823)\ttotal: 1h 48m 46s\tremaining: 2h 34m 35s\n",
      "850:\tlearn: 0.4840004\ttest: 0.4588275\tbest: 0.4588275 (850)\ttotal: 1h 52m 7s\tremaining: 2h 31m 23s\n",
      "875:\tlearn: 0.4837089\ttest: 0.4585569\tbest: 0.4585520 (871)\ttotal: 1h 55m 16s\tremaining: 2h 27m 54s\n",
      "900:\tlearn: 0.4834690\ttest: 0.4583638\tbest: 0.4583617 (897)\ttotal: 1h 58m 34s\tremaining: 2h 24m 38s\n",
      "925:\tlearn: 0.4831317\ttest: 0.4580330\tbest: 0.4580330 (925)\ttotal: 2h 1m 55s\tremaining: 2h 21m 25s\n",
      "950:\tlearn: 0.4829261\ttest: 0.4578687\tbest: 0.4578637 (947)\ttotal: 2h 5m 12s\tremaining: 2h 18m 6s\n",
      "975:\tlearn: 0.4827296\ttest: 0.4577681\tbest: 0.4577681 (975)\ttotal: 2h 8m 19s\tremaining: 2h 14m 38s\n",
      "1000:\tlearn: 0.4825582\ttest: 0.4576426\tbest: 0.4576401 (996)\ttotal: 2h 11m 28s\tremaining: 2h 11m 12s\n",
      "1025:\tlearn: 0.4823474\ttest: 0.4574711\tbest: 0.4574704 (1023)\ttotal: 2h 14m 39s\tremaining: 2h 7m 50s\n",
      "1050:\tlearn: 0.4822281\ttest: 0.4574331\tbest: 0.4574324 (1049)\ttotal: 2h 17m 57s\tremaining: 2h 4m 34s\n",
      "1075:\tlearn: 0.4820453\ttest: 0.4573079\tbest: 0.4573074 (1074)\ttotal: 2h 21m 8s\tremaining: 2h 1m 12s\n",
      "1100:\tlearn: 0.4819189\ttest: 0.4572669\tbest: 0.4572659 (1099)\ttotal: 2h 24m 10s\tremaining: 1h 57m 43s\n",
      "1125:\tlearn: 0.4817597\ttest: 0.4571593\tbest: 0.4571593 (1125)\ttotal: 2h 27m 19s\tremaining: 1h 54m 21s\n",
      "1150:\tlearn: 0.4815626\ttest: 0.4569962\tbest: 0.4569951 (1149)\ttotal: 2h 30m 29s\tremaining: 1h 51m\n",
      "1175:\tlearn: 0.4814510\ttest: 0.4569607\tbest: 0.4569597 (1174)\ttotal: 2h 33m 36s\tremaining: 1h 47m 38s\n",
      "1200:\tlearn: 0.4811239\ttest: 0.4566032\tbest: 0.4566032 (1200)\ttotal: 2h 36m 38s\tremaining: 1h 44m 12s\n",
      "1225:\tlearn: 0.4810055\ttest: 0.4565665\tbest: 0.4565641 (1223)\ttotal: 2h 39m 59s\tremaining: 1h 41m\n",
      "1250:\tlearn: 0.4808209\ttest: 0.4564384\tbest: 0.4564336 (1246)\ttotal: 2h 43m 14s\tremaining: 1h 37m 43s\n",
      "1275:\tlearn: 0.4805690\ttest: 0.4562261\tbest: 0.4562258 (1274)\ttotal: 2h 46m 18s\tremaining: 1h 34m 22s\n",
      "1300:\tlearn: 0.4804541\ttest: 0.4561995\tbest: 0.4561995 (1300)\ttotal: 2h 49m 31s\tremaining: 1h 31m 5s\n",
      "Stopped by overfitting detector  (10 iterations wait)\n",
      "\n",
      "bestTest = 0.4561401071\n",
      "bestIteration = 1310\n",
      "\n",
      "Shrink model to first 1311 iterations.\n"
     ]
    }
   ],
   "source": [
    "# Full dataset\n",
    "model_cb, pred_val_y = run_cb(train_X, train_y['target'], val_X, val_y['target'], cat_features,\n",
    "                              iterations=2000, learning_rate=0.3)"
   ]
  },
  {
   "cell_type": "code",
   "execution_count": 7,
   "metadata": {},
   "outputs": [
    {
     "name": "stdout",
     "output_type": "stream",
     "text": [
      "              precision    recall  f1-score   support\n",
      "\n",
      "         0.0       0.78      0.79      0.78    732500\n",
      "         1.0       0.79      0.78      0.78    742961\n",
      "\n",
      "   micro avg       0.78      0.78      0.78   1475461\n",
      "   macro avg       0.78      0.78      0.78   1475461\n",
      "weighted avg       0.78      0.78      0.78   1475461\n",
      "\n",
      "0.7817807913913396\n"
     ]
    }
   ],
   "source": [
    "#Analysis\n",
    "print(classification_report(val_y['target'], pred_val_y>0.5))\n",
    "print(roc_auc_score(val_y['target'],pred_val_y))"
   ]
  },
  {
   "cell_type": "code",
   "execution_count": 8,
   "metadata": {},
   "outputs": [
    {
     "name": "stdout",
     "output_type": "stream",
     "text": [
      "              precision    recall  f1-score   support\n",
      "\n",
      "         0.0       0.78      0.79      0.78    732814\n",
      "         1.0       0.79      0.78      0.78    742647\n",
      "\n",
      "   micro avg       0.78      0.78      0.78   1475461\n",
      "   macro avg       0.78      0.78      0.78   1475461\n",
      "weighted avg       0.78      0.78      0.78   1475461\n",
      "\n",
      "0.7822849047973764\n"
     ]
    }
   ],
   "source": [
    "pred_test_y = model_cb.predict(test_X)\n",
    "print(classification_report(test_y['target'], pred_test_y>0.5))\n",
    "print(roc_auc_score(test_y['target'],pred_test_y))"
   ]
  },
  {
   "cell_type": "code",
   "execution_count": 9,
   "metadata": {},
   "outputs": [],
   "source": [
    "#save results\n",
    "feat_imp = model_cb.get_feature_importance()\n",
    "np.savez('output/catboost_results.npz', val_target=val_y['target'], val_preds= pred_val_y,\n",
    "         test_target=test_y['target'], test_preds= pred_test_y, feature_importance = feat_imp)"
   ]
  },
  {
   "cell_type": "code",
   "execution_count": 10,
   "metadata": {
    "scrolled": true
   },
   "outputs": [
    {
     "data": {
      "text/plain": [
       "array([ 0.22045868, 12.08757098, 25.96270734,  8.28026767,  6.24937646,\n",
       "        3.04467856, 17.37165761,  0.50718669,  2.4003231 ,  7.06447148,\n",
       "        1.73862936,  2.03445932,  6.09314579,  0.29964326,  0.32316643,\n",
       "        0.21332816,  0.32438211,  3.46237783,  0.8278253 ,  1.49434386])"
      ]
     },
     "execution_count": 10,
     "metadata": {},
     "output_type": "execute_result"
    }
   ],
   "source": [
    "feat_imp"
   ]
  },
  {
   "cell_type": "code",
   "execution_count": 11,
   "metadata": {},
   "outputs": [
    {
     "data": {
      "text/plain": [
       "array([0., 1., 1., ..., 0., 0., 0.])"
      ]
     },
     "execution_count": 11,
     "metadata": {},
     "output_type": "execute_result"
    }
   ],
   "source": [
    "pred_test_y"
   ]
  },
  {
   "cell_type": "markdown",
   "metadata": {},
   "source": [
    "### Testing on Full Dataset (New data)"
   ]
  },
  {
   "cell_type": "code",
   "execution_count": 4,
   "metadata": {},
   "outputs": [],
   "source": [
    "train_X = pd.read_csv('new_data/new_train_X.csv')\n",
    "train_y = pd.read_csv('new_data/new_train_y.csv')\n",
    "\n",
    "val_X = pd.read_csv('new_data/new_valid_X.csv')\n",
    "val_y = pd.read_csv('new_data/new_valid_y.csv')\n",
    "\n",
    "test_X = pd.read_csv('new_data/new_test_X.csv')\n",
    "test_y = pd.read_csv('new_data/new_test_y.csv')"
   ]
  },
  {
   "cell_type": "code",
   "execution_count": 2,
   "metadata": {},
   "outputs": [],
   "source": [
    "cluster_train_X = pd.read_csv('new_data/cluster_train_X.csv')\n",
    "cluster_val_X = pd.read_csv('new_data/cluster_valid_X.csv')\n",
    "cluster_test_X = pd.read_csv('new_data/cluster_test_X.csv')"
   ]
  },
  {
   "cell_type": "code",
   "execution_count": 6,
   "metadata": {},
   "outputs": [
    {
     "data": {
      "text/html": [
       "<div>\n",
       "<style scoped>\n",
       "    .dataframe tbody tr th:only-of-type {\n",
       "        vertical-align: middle;\n",
       "    }\n",
       "\n",
       "    .dataframe tbody tr th {\n",
       "        vertical-align: top;\n",
       "    }\n",
       "\n",
       "    .dataframe thead th {\n",
       "        text-align: right;\n",
       "    }\n",
       "</style>\n",
       "<table border=\"1\" class=\"dataframe\">\n",
       "  <thead>\n",
       "    <tr style=\"text-align: right;\">\n",
       "      <th></th>\n",
       "      <th>Unnamed: 0</th>\n",
       "      <th>Unnamed: 0.1</th>\n",
       "      <th>msno</th>\n",
       "      <th>song_id</th>\n",
       "      <th>source_screen_name</th>\n",
       "      <th>source_system_tab</th>\n",
       "      <th>source_type</th>\n",
       "      <th>song_length</th>\n",
       "      <th>genre_ids</th>\n",
       "      <th>artist_name</th>\n",
       "      <th>composer</th>\n",
       "      <th>lyricist</th>\n",
       "      <th>language</th>\n",
       "      <th>city</th>\n",
       "      <th>bd</th>\n",
       "      <th>gender</th>\n",
       "      <th>registered_via</th>\n",
       "      <th>time</th>\n",
       "      <th>registration_init_time_int</th>\n",
       "      <th>expiration_date_int</th>\n",
       "    </tr>\n",
       "  </thead>\n",
       "  <tbody>\n",
       "    <tr>\n",
       "      <th>0</th>\n",
       "      <td>2971195</td>\n",
       "      <td>4410275</td>\n",
       "      <td>19953</td>\n",
       "      <td>290929</td>\n",
       "      <td>4</td>\n",
       "      <td>0</td>\n",
       "      <td>7</td>\n",
       "      <td>227631.0</td>\n",
       "      <td>548</td>\n",
       "      <td>7701</td>\n",
       "      <td>29509</td>\n",
       "      <td>11455</td>\n",
       "      <td>6</td>\n",
       "      <td>0</td>\n",
       "      <td>0</td>\n",
       "      <td>2</td>\n",
       "      <td>2</td>\n",
       "      <td>0.443948</td>\n",
       "      <td>5671</td>\n",
       "      <td>6482</td>\n",
       "    </tr>\n",
       "    <tr>\n",
       "      <th>1</th>\n",
       "      <td>543856</td>\n",
       "      <td>3016976</td>\n",
       "      <td>1574</td>\n",
       "      <td>234767</td>\n",
       "      <td>3</td>\n",
       "      <td>0</td>\n",
       "      <td>7</td>\n",
       "      <td>226069.0</td>\n",
       "      <td>371</td>\n",
       "      <td>2742</td>\n",
       "      <td>5696</td>\n",
       "      <td>26024</td>\n",
       "      <td>9</td>\n",
       "      <td>13</td>\n",
       "      <td>36</td>\n",
       "      <td>0</td>\n",
       "      <td>0</td>\n",
       "      <td>0.303696</td>\n",
       "      <td>4732</td>\n",
       "      <td>6532</td>\n",
       "    </tr>\n",
       "    <tr>\n",
       "      <th>2</th>\n",
       "      <td>3077911</td>\n",
       "      <td>1936206</td>\n",
       "      <td>5432</td>\n",
       "      <td>90102</td>\n",
       "      <td>18</td>\n",
       "      <td>7</td>\n",
       "      <td>7</td>\n",
       "      <td>246256.0</td>\n",
       "      <td>371</td>\n",
       "      <td>20609</td>\n",
       "      <td>20790</td>\n",
       "      <td>6777</td>\n",
       "      <td>9</td>\n",
       "      <td>2</td>\n",
       "      <td>22</td>\n",
       "      <td>1</td>\n",
       "      <td>0</td>\n",
       "      <td>0.194903</td>\n",
       "      <td>5519</td>\n",
       "      <td>6480</td>\n",
       "    </tr>\n",
       "    <tr>\n",
       "      <th>3</th>\n",
       "      <td>1160706</td>\n",
       "      <td>4269820</td>\n",
       "      <td>30083</td>\n",
       "      <td>206348</td>\n",
       "      <td>22</td>\n",
       "      <td>0</td>\n",
       "      <td>11</td>\n",
       "      <td>229041.0</td>\n",
       "      <td>364</td>\n",
       "      <td>43437</td>\n",
       "      <td>63250</td>\n",
       "      <td>26024</td>\n",
       "      <td>2</td>\n",
       "      <td>0</td>\n",
       "      <td>0</td>\n",
       "      <td>2</td>\n",
       "      <td>2</td>\n",
       "      <td>0.429810</td>\n",
       "      <td>5997</td>\n",
       "      <td>6319</td>\n",
       "    </tr>\n",
       "    <tr>\n",
       "      <th>4</th>\n",
       "      <td>1796776</td>\n",
       "      <td>526083</td>\n",
       "      <td>9703</td>\n",
       "      <td>161841</td>\n",
       "      <td>16</td>\n",
       "      <td>6</td>\n",
       "      <td>8</td>\n",
       "      <td>312450.0</td>\n",
       "      <td>371</td>\n",
       "      <td>44848</td>\n",
       "      <td>29258</td>\n",
       "      <td>9600</td>\n",
       "      <td>2</td>\n",
       "      <td>20</td>\n",
       "      <td>36</td>\n",
       "      <td>1</td>\n",
       "      <td>3</td>\n",
       "      <td>0.052957</td>\n",
       "      <td>4577</td>\n",
       "      <td>6486</td>\n",
       "    </tr>\n",
       "  </tbody>\n",
       "</table>\n",
       "</div>"
      ],
      "text/plain": [
       "   Unnamed: 0  Unnamed: 0.1   msno  song_id  source_screen_name  \\\n",
       "0     2971195       4410275  19953   290929                   4   \n",
       "1      543856       3016976   1574   234767                   3   \n",
       "2     3077911       1936206   5432    90102                  18   \n",
       "3     1160706       4269820  30083   206348                  22   \n",
       "4     1796776        526083   9703   161841                  16   \n",
       "\n",
       "   source_system_tab  source_type  song_length  genre_ids  artist_name  \\\n",
       "0                  0            7     227631.0        548         7701   \n",
       "1                  0            7     226069.0        371         2742   \n",
       "2                  7            7     246256.0        371        20609   \n",
       "3                  0           11     229041.0        364        43437   \n",
       "4                  6            8     312450.0        371        44848   \n",
       "\n",
       "   composer  lyricist  language  city  bd  gender  registered_via      time  \\\n",
       "0     29509     11455         6     0   0       2               2  0.443948   \n",
       "1      5696     26024         9    13  36       0               0  0.303696   \n",
       "2     20790      6777         9     2  22       1               0  0.194903   \n",
       "3     63250     26024         2     0   0       2               2  0.429810   \n",
       "4     29258      9600         2    20  36       1               3  0.052957   \n",
       "\n",
       "   registration_init_time_int  expiration_date_int  \n",
       "0                        5671                 6482  \n",
       "1                        4732                 6532  \n",
       "2                        5519                 6480  \n",
       "3                        5997                 6319  \n",
       "4                        4577                 6486  "
      ]
     },
     "execution_count": 6,
     "metadata": {},
     "output_type": "execute_result"
    }
   ],
   "source": [
    "cat_features = [2,3,4,5,6,8,9,10,11,12,13,14,15,16]\n",
    "train_X.head()"
   ]
  },
  {
   "cell_type": "code",
   "execution_count": 7,
   "metadata": {},
   "outputs": [
    {
     "data": {
      "text/html": [
       "<div>\n",
       "<style scoped>\n",
       "    .dataframe tbody tr th:only-of-type {\n",
       "        vertical-align: middle;\n",
       "    }\n",
       "\n",
       "    .dataframe tbody tr th {\n",
       "        vertical-align: top;\n",
       "    }\n",
       "\n",
       "    .dataframe thead th {\n",
       "        text-align: right;\n",
       "    }\n",
       "</style>\n",
       "<table border=\"1\" class=\"dataframe\">\n",
       "  <thead>\n",
       "    <tr style=\"text-align: right;\">\n",
       "      <th></th>\n",
       "      <th>Unnamed: 0</th>\n",
       "      <th>Unnamed: 0.1</th>\n",
       "      <th>msno</th>\n",
       "      <th>song_id</th>\n",
       "      <th>source_screen_name</th>\n",
       "      <th>source_system_tab</th>\n",
       "      <th>source_type</th>\n",
       "      <th>song_length</th>\n",
       "      <th>genre_ids</th>\n",
       "      <th>artist_name</th>\n",
       "      <th>...</th>\n",
       "      <th>language</th>\n",
       "      <th>city</th>\n",
       "      <th>bd</th>\n",
       "      <th>gender</th>\n",
       "      <th>registered_via</th>\n",
       "      <th>time</th>\n",
       "      <th>registration_init_time_int</th>\n",
       "      <th>expiration_date_int</th>\n",
       "      <th>song_cluster</th>\n",
       "      <th>ui_cluster</th>\n",
       "    </tr>\n",
       "  </thead>\n",
       "  <tbody>\n",
       "    <tr>\n",
       "      <th>0</th>\n",
       "      <td>2971195</td>\n",
       "      <td>4410275</td>\n",
       "      <td>19953</td>\n",
       "      <td>290929</td>\n",
       "      <td>4</td>\n",
       "      <td>0</td>\n",
       "      <td>7</td>\n",
       "      <td>227631.0</td>\n",
       "      <td>548</td>\n",
       "      <td>7701</td>\n",
       "      <td>...</td>\n",
       "      <td>6</td>\n",
       "      <td>0</td>\n",
       "      <td>0</td>\n",
       "      <td>2</td>\n",
       "      <td>2</td>\n",
       "      <td>0.443948</td>\n",
       "      <td>5671</td>\n",
       "      <td>6482</td>\n",
       "      <td>6</td>\n",
       "      <td>2</td>\n",
       "    </tr>\n",
       "    <tr>\n",
       "      <th>1</th>\n",
       "      <td>543856</td>\n",
       "      <td>3016976</td>\n",
       "      <td>1574</td>\n",
       "      <td>234767</td>\n",
       "      <td>3</td>\n",
       "      <td>0</td>\n",
       "      <td>7</td>\n",
       "      <td>226069.0</td>\n",
       "      <td>371</td>\n",
       "      <td>2742</td>\n",
       "      <td>...</td>\n",
       "      <td>9</td>\n",
       "      <td>13</td>\n",
       "      <td>36</td>\n",
       "      <td>0</td>\n",
       "      <td>0</td>\n",
       "      <td>0.303696</td>\n",
       "      <td>4732</td>\n",
       "      <td>6532</td>\n",
       "      <td>12</td>\n",
       "      <td>2</td>\n",
       "    </tr>\n",
       "    <tr>\n",
       "      <th>2</th>\n",
       "      <td>3077911</td>\n",
       "      <td>1936206</td>\n",
       "      <td>5432</td>\n",
       "      <td>90102</td>\n",
       "      <td>18</td>\n",
       "      <td>7</td>\n",
       "      <td>7</td>\n",
       "      <td>246256.0</td>\n",
       "      <td>371</td>\n",
       "      <td>20609</td>\n",
       "      <td>...</td>\n",
       "      <td>9</td>\n",
       "      <td>2</td>\n",
       "      <td>22</td>\n",
       "      <td>1</td>\n",
       "      <td>0</td>\n",
       "      <td>0.194903</td>\n",
       "      <td>5519</td>\n",
       "      <td>6480</td>\n",
       "      <td>12</td>\n",
       "      <td>2</td>\n",
       "    </tr>\n",
       "    <tr>\n",
       "      <th>3</th>\n",
       "      <td>1160706</td>\n",
       "      <td>4269820</td>\n",
       "      <td>30083</td>\n",
       "      <td>206348</td>\n",
       "      <td>22</td>\n",
       "      <td>0</td>\n",
       "      <td>11</td>\n",
       "      <td>229041.0</td>\n",
       "      <td>364</td>\n",
       "      <td>43437</td>\n",
       "      <td>...</td>\n",
       "      <td>2</td>\n",
       "      <td>0</td>\n",
       "      <td>0</td>\n",
       "      <td>2</td>\n",
       "      <td>2</td>\n",
       "      <td>0.429810</td>\n",
       "      <td>5997</td>\n",
       "      <td>6319</td>\n",
       "      <td>5</td>\n",
       "      <td>2</td>\n",
       "    </tr>\n",
       "    <tr>\n",
       "      <th>4</th>\n",
       "      <td>1796776</td>\n",
       "      <td>526083</td>\n",
       "      <td>9703</td>\n",
       "      <td>161841</td>\n",
       "      <td>16</td>\n",
       "      <td>6</td>\n",
       "      <td>8</td>\n",
       "      <td>312450.0</td>\n",
       "      <td>371</td>\n",
       "      <td>44848</td>\n",
       "      <td>...</td>\n",
       "      <td>2</td>\n",
       "      <td>20</td>\n",
       "      <td>36</td>\n",
       "      <td>1</td>\n",
       "      <td>3</td>\n",
       "      <td>0.052957</td>\n",
       "      <td>4577</td>\n",
       "      <td>6486</td>\n",
       "      <td>2</td>\n",
       "      <td>1</td>\n",
       "    </tr>\n",
       "  </tbody>\n",
       "</table>\n",
       "<p>5 rows × 22 columns</p>\n",
       "</div>"
      ],
      "text/plain": [
       "   Unnamed: 0  Unnamed: 0.1   msno  song_id  source_screen_name  \\\n",
       "0     2971195       4410275  19953   290929                   4   \n",
       "1      543856       3016976   1574   234767                   3   \n",
       "2     3077911       1936206   5432    90102                  18   \n",
       "3     1160706       4269820  30083   206348                  22   \n",
       "4     1796776        526083   9703   161841                  16   \n",
       "\n",
       "   source_system_tab  source_type  song_length  genre_ids  artist_name  ...  \\\n",
       "0                  0            7     227631.0        548         7701  ...   \n",
       "1                  0            7     226069.0        371         2742  ...   \n",
       "2                  7            7     246256.0        371        20609  ...   \n",
       "3                  0           11     229041.0        364        43437  ...   \n",
       "4                  6            8     312450.0        371        44848  ...   \n",
       "\n",
       "   language  city  bd  gender  registered_via      time  \\\n",
       "0         6     0   0       2               2  0.443948   \n",
       "1         9    13  36       0               0  0.303696   \n",
       "2         9     2  22       1               0  0.194903   \n",
       "3         2     0   0       2               2  0.429810   \n",
       "4         2    20  36       1               3  0.052957   \n",
       "\n",
       "   registration_init_time_int  expiration_date_int  song_cluster  ui_cluster  \n",
       "0                        5671                 6482             6           2  \n",
       "1                        4732                 6532            12           2  \n",
       "2                        5519                 6480            12           2  \n",
       "3                        5997                 6319             5           2  \n",
       "4                        4577                 6486             2           1  \n",
       "\n",
       "[5 rows x 22 columns]"
      ]
     },
     "execution_count": 7,
     "metadata": {},
     "output_type": "execute_result"
    }
   ],
   "source": [
    "cluster_cat_features = [2,3,4,5,6,8,9,10,11,12,13,14,15,16,20,21]\n",
    "cluster_train_X.head()"
   ]
  },
  {
   "cell_type": "code",
   "execution_count": 10,
   "metadata": {},
   "outputs": [
    {
     "data": {
      "text/plain": [
       "10000"
      ]
     },
     "execution_count": 10,
     "metadata": {},
     "output_type": "execute_result"
    }
   ],
   "source": [
    "train_X_sample = train_X[:10000]\n",
    "train_y_sample = train_y[:10000]\n",
    "cluster_train_X_sample = cluster_train_X[:10000]\n",
    "len(train_X_sample)"
   ]
  },
  {
   "cell_type": "code",
   "execution_count": 8,
   "metadata": {},
   "outputs": [],
   "source": [
    "def run_cb(train_X, train_y, val_X, val_y, cat_features, **kwards):\n",
    "    print(kwargs)\n",
    "    \n",
    "    model_cb = cb.CatBoostClassifier(\n",
    "        loss_function='Logloss',\n",
    "        thread_count=30,\n",
    "        random_seed=229,\n",
    "        use_best_model = True,\n",
    "        **kwargs\n",
    "    )\n",
    "    \n",
    "    eval_dataset = Pool(val_X,val_y,cat_features=cat_features)\n",
    "    \n",
    "    model = model_cb.fit(train_X, train_y, cat_features, eval_set=eval_dataset,\n",
    "                         verbose_eval=25, early_stopping_rounds = 10)\n",
    "\n",
    "    pred_val_y = model.predict(val_X)\n",
    "    return model, pred_val_y"
   ]
  },
  {
   "cell_type": "markdown",
   "metadata": {},
   "source": [
    "### Tuning on small dataset"
   ]
  },
  {
   "cell_type": "code",
   "execution_count": 11,
   "metadata": {},
   "outputs": [
    {
     "name": "stdout",
     "output_type": "stream",
     "text": [
      "{'learning_rate': 0.1, 'l2_leaf_reg': 2, 'iterations': 2000, 'depth': 6}\n",
      "0:\tlearn: 0.6838340\ttest: 0.6840242\tbest: 0.6840242 (0)\ttotal: 232ms\tremaining: 7m 44s\n",
      "25:\tlearn: 0.6150938\ttest: 0.6151234\tbest: 0.6151234 (25)\ttotal: 2.59s\tremaining: 3m 16s\n",
      "50:\tlearn: 0.6047780\ttest: 0.6072459\tbest: 0.6072459 (50)\ttotal: 4.39s\tremaining: 2m 47s\n",
      "75:\tlearn: 0.6003741\ttest: 0.6049701\tbest: 0.6049567 (73)\ttotal: 6.11s\tremaining: 2m 34s\n",
      "100:\tlearn: 0.5953492\ttest: 0.6032365\tbest: 0.6032365 (100)\ttotal: 7.82s\tremaining: 2m 27s\n",
      "125:\tlearn: 0.5886926\ttest: 0.6020945\tbest: 0.6020945 (125)\ttotal: 10s\tremaining: 2m 29s\n",
      "150:\tlearn: 0.5807376\ttest: 0.6015773\tbest: 0.6014980 (142)\ttotal: 12.4s\tremaining: 2m 31s\n",
      "Stopped by overfitting detector  (10 iterations wait)\n",
      "\n",
      "bestTest = 0.6014401232\n",
      "bestIteration = 154\n",
      "\n",
      "Shrink model to first 155 iterations.\n",
      "====== Validation ======\n",
      "              precision    recall  f1-score   support\n",
      "\n",
      "         0.0       0.66      0.68      0.67     45023\n",
      "         1.0       0.69      0.67      0.68     46757\n",
      "\n",
      "    accuracy                           0.68     91780\n",
      "   macro avg       0.68      0.68      0.68     91780\n",
      "weighted avg       0.68      0.68      0.68     91780\n",
      "\n",
      "0.6752397686027795\n",
      "====== Test ======\n",
      "              precision    recall  f1-score   support\n",
      "\n",
      "         0.0       0.66      0.67      0.67     45095\n",
      "         1.0       0.68      0.67      0.68     46685\n",
      "\n",
      "    accuracy                           0.67     91780\n",
      "   macro avg       0.67      0.67      0.67     91780\n",
      "weighted avg       0.67      0.67      0.67     91780\n",
      "\n",
      "0.6722907489232655\n"
     ]
    }
   ],
   "source": [
    "kwargs={'iterations': 2000, 'learning_rate': 0.1, 'depth': 6, 'l2_leaf_reg': 2}\n",
    "model_cb, pred_val_y = run_cb(train_X_sample, train_y_sample['target'], val_X, val_y['target'], cat_features, **kwargs)\n",
    "\n",
    "print(\"====== Validation ======\")\n",
    "print(classification_report(val_y['target'], pred_val_y>0.5))\n",
    "print(roc_auc_score(val_y['target'],pred_val_y))\n",
    "\n",
    "print(\"====== Test ======\")\n",
    "pred_test_y = model_cb.predict(test_X)\n",
    "print(classification_report(test_y['target'], pred_test_y>0.5))\n",
    "print(roc_auc_score(test_y['target'], pred_test_y))"
   ]
  },
  {
   "cell_type": "code",
   "execution_count": 12,
   "metadata": {},
   "outputs": [
    {
     "ename": "AttributeError",
     "evalue": "'CatBoostClassifier' object has no attribute 'boosting_type'",
     "output_type": "error",
     "traceback": [
      "\u001b[0;31m---------------------------------------------------------------------------\u001b[0m",
      "\u001b[0;31mAttributeError\u001b[0m                            Traceback (most recent call last)",
      "\u001b[0;32m<ipython-input-12-39d2cd3542c0>\u001b[0m in \u001b[0;36m<module>\u001b[0;34m\u001b[0m\n\u001b[0;32m----> 1\u001b[0;31m \u001b[0mmodel_cb\u001b[0m\u001b[0;34m.\u001b[0m\u001b[0mboosting_type\u001b[0m\u001b[0;34m\u001b[0m\u001b[0m\n\u001b[0m",
      "\u001b[0;31mAttributeError\u001b[0m: 'CatBoostClassifier' object has no attribute 'boosting_type'"
     ]
    }
   ],
   "source": [
    "model_cb.boosting_type"
   ]
  },
  {
   "cell_type": "markdown",
   "metadata": {},
   "source": [
    "### Tunning on small cluster dataset"
   ]
  },
  {
   "cell_type": "code",
   "execution_count": 37,
   "metadata": {},
   "outputs": [
    {
     "name": "stdout",
     "output_type": "stream",
     "text": [
      "{'depth': 6, 'l2_leaf_reg': 250, 'learning_rate': 0.1, 'iterations': 2000}\n",
      "0:\tlearn: 0.6832935\ttest: 0.6833385\tbest: 0.6833385 (0)\ttotal: 128ms\tremaining: 4m 15s\n",
      "25:\tlearn: 0.6177593\ttest: 0.6162599\tbest: 0.6162599 (25)\ttotal: 2.54s\tremaining: 3m 12s\n",
      "50:\tlearn: 0.6089046\ttest: 0.6079033\tbest: 0.6079033 (50)\ttotal: 4.64s\tremaining: 2m 57s\n",
      "75:\tlearn: 0.6041319\ttest: 0.6047107\tbest: 0.6047107 (75)\ttotal: 6.7s\tremaining: 2m 49s\n",
      "100:\tlearn: 0.6007732\ttest: 0.6029537\tbest: 0.6029537 (100)\ttotal: 8.85s\tremaining: 2m 46s\n",
      "125:\tlearn: 0.5948844\ttest: 0.6012072\tbest: 0.6012072 (125)\ttotal: 11.4s\tremaining: 2m 49s\n",
      "150:\tlearn: 0.5908466\ttest: 0.6003034\tbest: 0.6002819 (149)\ttotal: 13.9s\tremaining: 2m 49s\n",
      "175:\tlearn: 0.5866294\ttest: 0.5988145\tbest: 0.5988145 (175)\ttotal: 16.4s\tremaining: 2m 50s\n",
      "200:\tlearn: 0.5833718\ttest: 0.5983917\tbest: 0.5983146 (196)\ttotal: 19s\tremaining: 2m 49s\n",
      "225:\tlearn: 0.5800767\ttest: 0.5979090\tbest: 0.5978858 (224)\ttotal: 21.6s\tremaining: 2m 49s\n",
      "Stopped by overfitting detector  (10 iterations wait)\n",
      "\n",
      "bestTest = 0.5978857944\n",
      "bestIteration = 224\n",
      "\n",
      "Shrink model to first 225 iterations.\n",
      "====== Validation ======\n",
      "              precision    recall  f1-score   support\n",
      "\n",
      "         0.0       0.67      0.69      0.68     45023\n",
      "         1.0       0.69      0.67      0.68     46757\n",
      "\n",
      "    accuracy                           0.68     91780\n",
      "   macro avg       0.68      0.68      0.68     91780\n",
      "weighted avg       0.68      0.68      0.68     91780\n",
      "\n",
      "0.6805518441971518\n",
      "====== Test ======\n",
      "              precision    recall  f1-score   support\n",
      "\n",
      "         0.0       0.67      0.68      0.68     45095\n",
      "         1.0       0.69      0.67      0.68     46685\n",
      "\n",
      "    accuracy                           0.68     91780\n",
      "   macro avg       0.68      0.68      0.68     91780\n",
      "weighted avg       0.68      0.68      0.68     91780\n",
      "\n",
      "0.6772159551356143\n"
     ]
    }
   ],
   "source": [
    "kwargs={'iterations': 2000, 'learning_rate': 0.1, 'depth': 6, 'l2_leaf_reg': 250}\n",
    "model_cb, pred_val_y = run_cb(cluster_train_X_sample, train_y_sample['target'], cluster_val_X, val_y['target'], cluster_cat_features, **kwargs)\n",
    "\n",
    "print(\"====== Validation ======\")\n",
    "print(classification_report(val_y['target'], pred_val_y>0.5))\n",
    "print(roc_auc_score(val_y['target'],pred_val_y))\n",
    "\n",
    "print(\"====== Test ======\")\n",
    "pred_test_y = model_cb.predict(cluster_test_X)\n",
    "print(classification_report(test_y['target'], pred_test_y>0.5))\n",
    "print(roc_auc_score(test_y['target'], pred_test_y))"
   ]
  },
  {
   "cell_type": "markdown",
   "metadata": {},
   "source": [
    "### Full Dataset"
   ]
  },
  {
   "cell_type": "code",
   "execution_count": 46,
   "metadata": {},
   "outputs": [
    {
     "name": "stdout",
     "output_type": "stream",
     "text": [
      "{'depth': 6, 'l2_leaf_reg': 25, 'learning_rate': 0.1, 'iterations': 2000}\n",
      "0:\tlearn: 0.6679831\ttest: 0.6664260\tbest: 0.6664260 (0)\ttotal: 663ms\tremaining: 22m 6s\n",
      "25:\tlearn: 0.5255067\ttest: 0.5070245\tbest: 0.5070245 (25)\ttotal: 16.6s\tremaining: 21m 3s\n",
      "50:\tlearn: 0.5127644\ttest: 0.4918668\tbest: 0.4918668 (50)\ttotal: 34.5s\tremaining: 21m 56s\n",
      "75:\tlearn: 0.5075296\ttest: 0.4862509\tbest: 0.4862509 (75)\ttotal: 51.6s\tremaining: 21m 46s\n",
      "100:\tlearn: 0.5044863\ttest: 0.4832107\tbest: 0.4832107 (100)\ttotal: 1m 7s\tremaining: 21m 12s\n",
      "125:\tlearn: 0.5020526\ttest: 0.4807693\tbest: 0.4807693 (125)\ttotal: 1m 24s\tremaining: 20m 52s\n",
      "150:\tlearn: 0.5002603\ttest: 0.4789860\tbest: 0.4789860 (150)\ttotal: 1m 41s\tremaining: 20m 38s\n",
      "350:\tlearn: 0.4911995\ttest: 0.4705382\tbest: 0.4705382 (350)\ttotal: 3m 50s\tremaining: 18m 1s\n",
      "375:\tlearn: 0.4905379\ttest: 0.4699545\tbest: 0.4699545 (375)\ttotal: 4m 6s\tremaining: 17m 44s\n",
      "400:\tlearn: 0.4899302\ttest: 0.4694675\tbest: 0.4694675 (400)\ttotal: 4m 21s\tremaining: 17m 24s\n",
      "425:\tlearn: 0.4891235\ttest: 0.4687196\tbest: 0.4687196 (425)\ttotal: 4m 38s\tremaining: 17m 8s\n",
      "450:\tlearn: 0.4885812\ttest: 0.4682988\tbest: 0.4682988 (450)\ttotal: 4m 54s\tremaining: 16m 52s\n",
      "475:\tlearn: 0.4879985\ttest: 0.4678737\tbest: 0.4678737 (475)\ttotal: 5m 10s\tremaining: 16m 33s\n",
      "500:\tlearn: 0.4875369\ttest: 0.4675579\tbest: 0.4675571 (499)\ttotal: 5m 26s\tremaining: 16m 16s\n",
      "525:\tlearn: 0.4871766\ttest: 0.4673660\tbest: 0.4673660 (525)\ttotal: 5m 41s\tremaining: 15m 57s\n",
      "550:\tlearn: 0.4867471\ttest: 0.4671296\tbest: 0.4671296 (550)\ttotal: 5m 57s\tremaining: 15m 39s\n",
      "575:\tlearn: 0.4863682\ttest: 0.4669851\tbest: 0.4669851 (575)\ttotal: 6m 12s\tremaining: 15m 20s\n",
      "600:\tlearn: 0.4859922\ttest: 0.4667398\tbest: 0.4667375 (599)\ttotal: 6m 27s\tremaining: 15m 2s\n",
      "625:\tlearn: 0.4856574\ttest: 0.4665589\tbest: 0.4665586 (622)\ttotal: 6m 43s\tremaining: 14m 44s\n",
      "650:\tlearn: 0.4852051\ttest: 0.4662508\tbest: 0.4662508 (650)\ttotal: 6m 58s\tremaining: 14m 27s\n",
      "675:\tlearn: 0.4848298\ttest: 0.4660190\tbest: 0.4660190 (675)\ttotal: 7m 14s\tremaining: 14m 10s\n",
      "700:\tlearn: 0.4845177\ttest: 0.4658824\tbest: 0.4658824 (700)\ttotal: 7m 29s\tremaining: 13m 53s\n",
      "725:\tlearn: 0.4840945\ttest: 0.4655948\tbest: 0.4655935 (724)\ttotal: 7m 45s\tremaining: 13m 37s\n",
      "750:\tlearn: 0.4838299\ttest: 0.4655156\tbest: 0.4655156 (750)\ttotal: 8m\tremaining: 13m 19s\n",
      "775:\tlearn: 0.4833961\ttest: 0.4652382\tbest: 0.4652382 (775)\ttotal: 8m 16s\tremaining: 13m 3s\n",
      "800:\tlearn: 0.4831053\ttest: 0.4650648\tbest: 0.4650645 (799)\ttotal: 8m 32s\tremaining: 12m 47s\n",
      "825:\tlearn: 0.4827915\ttest: 0.4648983\tbest: 0.4648983 (825)\ttotal: 8m 48s\tremaining: 12m 30s\n",
      "850:\tlearn: 0.4824906\ttest: 0.4647188\tbest: 0.4647188 (850)\ttotal: 9m 3s\tremaining: 12m 14s\n",
      "875:\tlearn: 0.4821102\ttest: 0.4644667\tbest: 0.4644667 (875)\ttotal: 9m 19s\tremaining: 11m 57s\n",
      "900:\tlearn: 0.4817440\ttest: 0.4642014\tbest: 0.4642014 (900)\ttotal: 9m 34s\tremaining: 11m 41s\n",
      "925:\tlearn: 0.4814323\ttest: 0.4640208\tbest: 0.4640208 (925)\ttotal: 9m 49s\tremaining: 11m 24s\n",
      "950:\tlearn: 0.4810813\ttest: 0.4638629\tbest: 0.4638621 (949)\ttotal: 10m 5s\tremaining: 11m 7s\n",
      "975:\tlearn: 0.4808077\ttest: 0.4637492\tbest: 0.4637492 (975)\ttotal: 10m 20s\tremaining: 10m 51s\n",
      "1000:\tlearn: 0.4805021\ttest: 0.4636026\tbest: 0.4636026 (1000)\ttotal: 10m 36s\tremaining: 10m 34s\n",
      "1025:\tlearn: 0.4801970\ttest: 0.4635097\tbest: 0.4635071 (1023)\ttotal: 10m 52s\tremaining: 10m 19s\n",
      "1050:\tlearn: 0.4799343\ttest: 0.4634304\tbest: 0.4634304 (1050)\ttotal: 11m 7s\tremaining: 10m 2s\n",
      "1075:\tlearn: 0.4796385\ttest: 0.4632968\tbest: 0.4632968 (1075)\ttotal: 11m 24s\tremaining: 9m 47s\n",
      "1100:\tlearn: 0.4792803\ttest: 0.4631004\tbest: 0.4630983 (1098)\ttotal: 11m 39s\tremaining: 9m 30s\n",
      "1125:\tlearn: 0.4790142\ttest: 0.4630086\tbest: 0.4630086 (1125)\ttotal: 11m 54s\tremaining: 9m 14s\n",
      "1150:\tlearn: 0.4786602\ttest: 0.4627840\tbest: 0.4627840 (1150)\ttotal: 12m 9s\tremaining: 8m 57s\n",
      "1175:\tlearn: 0.4784179\ttest: 0.4627244\tbest: 0.4627194 (1172)\ttotal: 12m 24s\tremaining: 8m 41s\n",
      "1200:\tlearn: 0.4780946\ttest: 0.4625693\tbest: 0.4625693 (1200)\ttotal: 12m 39s\tremaining: 8m 25s\n",
      "1225:\tlearn: 0.4777537\ttest: 0.4624021\tbest: 0.4624021 (1225)\ttotal: 12m 55s\tremaining: 8m 9s\n",
      "1250:\tlearn: 0.4775124\ttest: 0.4623422\tbest: 0.4623422 (1250)\ttotal: 13m 10s\tremaining: 7m 53s\n",
      "1275:\tlearn: 0.4773186\ttest: 0.4622934\tbest: 0.4622934 (1275)\ttotal: 13m 24s\tremaining: 7m 36s\n",
      "1300:\tlearn: 0.4770286\ttest: 0.4621511\tbest: 0.4621511 (1300)\ttotal: 13m 39s\tremaining: 7m 20s\n",
      "1325:\tlearn: 0.4767913\ttest: 0.4620437\tbest: 0.4620437 (1325)\ttotal: 13m 54s\tremaining: 7m 4s\n",
      "1350:\tlearn: 0.4765785\ttest: 0.4620007\tbest: 0.4620003 (1346)\ttotal: 14m 9s\tremaining: 6m 48s\n",
      "1375:\tlearn: 0.4761908\ttest: 0.4617651\tbest: 0.4617651 (1375)\ttotal: 14m 25s\tremaining: 6m 32s\n",
      "1400:\tlearn: 0.4758927\ttest: 0.4616156\tbest: 0.4616124 (1399)\ttotal: 14m 41s\tremaining: 6m 16s\n",
      "1425:\tlearn: 0.4756451\ttest: 0.4615339\tbest: 0.4615339 (1425)\ttotal: 14m 56s\tremaining: 6m\n",
      "1450:\tlearn: 0.4753781\ttest: 0.4613824\tbest: 0.4613824 (1450)\ttotal: 15m 11s\tremaining: 5m 44s\n",
      "1475:\tlearn: 0.4751169\ttest: 0.4612790\tbest: 0.4612790 (1475)\ttotal: 15m 27s\tremaining: 5m 29s\n",
      "1500:\tlearn: 0.4749091\ttest: 0.4612457\tbest: 0.4612358 (1494)\ttotal: 15m 42s\tremaining: 5m 13s\n",
      "Stopped by overfitting detector  (10 iterations wait)\n",
      "\n",
      "bestTest = 0.4612358037\n",
      "bestIteration = 1494\n",
      "\n",
      "Shrink model to first 1495 iterations.\n"
     ]
    }
   ],
   "source": [
    "kwargs={'iterations': 2000, 'learning_rate': 0.1, 'depth': 6, 'l2_leaf_reg': 25}\n",
    "model_cb, pred_val_y = run_cb(train_X, train_y['target'], val_X, val_y['target'], cat_features, **kwargs)"
   ]
  },
  {
   "cell_type": "code",
   "execution_count": 47,
   "metadata": {},
   "outputs": [
    {
     "name": "stdout",
     "output_type": "stream",
     "text": [
      "====== Validation ======\n",
      "              precision    recall  f1-score   support\n",
      "\n",
      "         0.0       0.77      0.78      0.78     45023\n",
      "         1.0       0.79      0.77      0.78     46757\n",
      "\n",
      "    accuracy                           0.78     91780\n",
      "   macro avg       0.78      0.78      0.78     91780\n",
      "weighted avg       0.78      0.78      0.78     91780\n",
      "\n",
      "0.7795175202686278\n",
      "====== Test ======\n",
      "              precision    recall  f1-score   support\n",
      "\n",
      "         0.0       0.77      0.78      0.78     45095\n",
      "         1.0       0.79      0.77      0.78     46685\n",
      "\n",
      "    accuracy                           0.78     91780\n",
      "   macro avg       0.78      0.78      0.78     91780\n",
      "weighted avg       0.78      0.78      0.78     91780\n",
      "\n",
      "0.7782660367983276\n"
     ]
    }
   ],
   "source": [
    "#Analysis\n",
    "print('====== Validation ======')\n",
    "print(classification_report(val_y['target'], pred_val_y>0.5))\n",
    "print(roc_auc_score(val_y['target'],pred_val_y))\n",
    "\n",
    "print('====== Test ======')\n",
    "pred_test_y = model_cb.predict(test_X)\n",
    "print(classification_report(test_y['target'], pred_test_y>0.5))\n",
    "print(roc_auc_score(test_y['target'],pred_test_y))"
   ]
  },
  {
   "cell_type": "code",
   "execution_count": 48,
   "metadata": {},
   "outputs": [],
   "source": [
    "#save results\n",
    "feat_imp = model_cb.get_feature_importance()\n",
    "np.savez('output/catboost_results_new_l2_25.npz', val_target=val_y['target'], val_preds= pred_val_y,\n",
    "         test_target=test_y['target'], test_preds= pred_test_y, feature_importance = feat_imp)"
   ]
  },
  {
   "cell_type": "code",
   "execution_count": 18,
   "metadata": {
    "scrolled": true
   },
   "outputs": [
    {
     "data": {
      "text/plain": [
       "array([ 0.51052487,  6.5144231 , 22.14314636, 12.19364801,  6.44038638,\n",
       "        5.99666057, 16.63497658,  1.05133631,  2.51083374,  5.03806821,\n",
       "        0.57331622,  2.85103998,  4.1725927 ,  0.53724677,  0.57618427,\n",
       "        0.39445002,  0.51814337,  7.19154633,  1.47933179,  2.67214442])"
      ]
     },
     "execution_count": 18,
     "metadata": {},
     "output_type": "execute_result"
    }
   ],
   "source": [
    "feat_imp"
   ]
  },
  {
   "cell_type": "code",
   "execution_count": 19,
   "metadata": {},
   "outputs": [
    {
     "data": {
      "text/plain": [
       "array([1., 1., 1., ..., 0., 1., 1.])"
      ]
     },
     "execution_count": 19,
     "metadata": {},
     "output_type": "execute_result"
    }
   ],
   "source": [
    "pred_test_y"
   ]
  },
  {
   "cell_type": "markdown",
   "metadata": {},
   "source": [
    "### Full Cluster Dataset"
   ]
  },
  {
   "cell_type": "code",
   "execution_count": 40,
   "metadata": {},
   "outputs": [
    {
     "name": "stdout",
     "output_type": "stream",
     "text": [
      "{'depth': 6, 'l2_leaf_reg': 100, 'learning_rate': 0.1, 'iterations': 2000}\n",
      "0:\tlearn: 0.6675192\ttest: 0.6656368\tbest: 0.6656368 (0)\ttotal: 662ms\tremaining: 22m 3s\n",
      "25:\tlearn: 0.5243871\ttest: 0.5055019\tbest: 0.5055019 (25)\ttotal: 18s\tremaining: 22m 45s\n",
      "50:\tlearn: 0.5121282\ttest: 0.4916831\tbest: 0.4916831 (50)\ttotal: 36.2s\tremaining: 23m 3s\n",
      "75:\tlearn: 0.5068206\ttest: 0.4855854\tbest: 0.4855854 (75)\ttotal: 54.4s\tremaining: 22m 56s\n",
      "100:\tlearn: 0.5040254\ttest: 0.4826439\tbest: 0.4826439 (100)\ttotal: 1m 11s\tremaining: 22m 25s\n",
      "125:\tlearn: 0.5019086\ttest: 0.4804153\tbest: 0.4804153 (125)\ttotal: 1m 29s\tremaining: 22m 10s\n",
      "150:\tlearn: 0.5000738\ttest: 0.4786148\tbest: 0.4786148 (150)\ttotal: 1m 47s\tremaining: 22m 1s\n",
      "175:\tlearn: 0.4986021\ttest: 0.4771751\tbest: 0.4771751 (175)\ttotal: 2m 6s\tremaining: 21m 50s\n",
      "200:\tlearn: 0.4970529\ttest: 0.4755631\tbest: 0.4755631 (200)\ttotal: 2m 24s\tremaining: 21m 34s\n",
      "225:\tlearn: 0.4959834\ttest: 0.4744771\tbest: 0.4744771 (225)\ttotal: 2m 42s\tremaining: 21m 14s\n",
      "250:\tlearn: 0.4951091\ttest: 0.4736462\tbest: 0.4736462 (250)\ttotal: 2m 59s\tremaining: 20m 51s\n",
      "275:\tlearn: 0.4941559\ttest: 0.4727558\tbest: 0.4727558 (275)\ttotal: 3m 17s\tremaining: 20m 33s\n",
      "300:\tlearn: 0.4933477\ttest: 0.4719614\tbest: 0.4719614 (300)\ttotal: 3m 35s\tremaining: 20m 13s\n",
      "325:\tlearn: 0.4924996\ttest: 0.4711880\tbest: 0.4711880 (325)\ttotal: 3m 52s\tremaining: 19m 52s\n",
      "350:\tlearn: 0.4914969\ttest: 0.4702636\tbest: 0.4702636 (350)\ttotal: 4m 9s\tremaining: 19m 33s\n",
      "375:\tlearn: 0.4910383\ttest: 0.4699878\tbest: 0.4699878 (375)\ttotal: 4m 26s\tremaining: 19m 9s\n",
      "400:\tlearn: 0.4903247\ttest: 0.4694467\tbest: 0.4694467 (400)\ttotal: 4m 44s\tremaining: 18m 53s\n",
      "425:\tlearn: 0.4899340\ttest: 0.4692195\tbest: 0.4692195 (425)\ttotal: 5m\tremaining: 18m 31s\n",
      "450:\tlearn: 0.4893478\ttest: 0.4687041\tbest: 0.4687041 (450)\ttotal: 5m 17s\tremaining: 18m 11s\n",
      "475:\tlearn: 0.4889782\ttest: 0.4684641\tbest: 0.4684641 (475)\ttotal: 5m 34s\tremaining: 17m 50s\n",
      "500:\tlearn: 0.4885153\ttest: 0.4681319\tbest: 0.4681319 (500)\ttotal: 5m 51s\tremaining: 17m 31s\n",
      "525:\tlearn: 0.4879905\ttest: 0.4677000\tbest: 0.4677000 (525)\ttotal: 6m 8s\tremaining: 17m 13s\n",
      "550:\tlearn: 0.4875295\ttest: 0.4674496\tbest: 0.4674496 (550)\ttotal: 6m 25s\tremaining: 16m 53s\n",
      "575:\tlearn: 0.4872727\ttest: 0.4672882\tbest: 0.4672870 (574)\ttotal: 6m 41s\tremaining: 16m 31s\n",
      "600:\tlearn: 0.4869579\ttest: 0.4671312\tbest: 0.4671312 (600)\ttotal: 6m 58s\tremaining: 16m 13s\n",
      "625:\tlearn: 0.4865118\ttest: 0.4667702\tbest: 0.4667702 (625)\ttotal: 7m 15s\tremaining: 15m 55s\n",
      "650:\tlearn: 0.4860610\ttest: 0.4664477\tbest: 0.4664477 (650)\ttotal: 7m 33s\tremaining: 15m 38s\n",
      "675:\tlearn: 0.4857571\ttest: 0.4662982\tbest: 0.4662982 (675)\ttotal: 7m 49s\tremaining: 15m 20s\n",
      "700:\tlearn: 0.4854191\ttest: 0.4661085\tbest: 0.4661085 (700)\ttotal: 8m 7s\tremaining: 15m 3s\n",
      "725:\tlearn: 0.4850014\ttest: 0.4657715\tbest: 0.4657715 (725)\ttotal: 8m 23s\tremaining: 14m 44s\n",
      "750:\tlearn: 0.4846789\ttest: 0.4655558\tbest: 0.4655558 (750)\ttotal: 8m 40s\tremaining: 14m 25s\n",
      "775:\tlearn: 0.4844101\ttest: 0.4654188\tbest: 0.4654188 (775)\ttotal: 8m 57s\tremaining: 14m 8s\n",
      "800:\tlearn: 0.4839696\ttest: 0.4650614\tbest: 0.4650614 (800)\ttotal: 9m 15s\tremaining: 13m 50s\n",
      "825:\tlearn: 0.4837218\ttest: 0.4649708\tbest: 0.4649657 (821)\ttotal: 9m 31s\tremaining: 13m 32s\n",
      "850:\tlearn: 0.4834131\ttest: 0.4648023\tbest: 0.4648023 (850)\ttotal: 9m 48s\tremaining: 13m 14s\n",
      "875:\tlearn: 0.4830691\ttest: 0.4645859\tbest: 0.4645859 (875)\ttotal: 10m 4s\tremaining: 12m 55s\n",
      "900:\tlearn: 0.4826574\ttest: 0.4642694\tbest: 0.4642694 (900)\ttotal: 10m 21s\tremaining: 12m 38s\n",
      "925:\tlearn: 0.4823690\ttest: 0.4640820\tbest: 0.4640820 (925)\ttotal: 10m 38s\tremaining: 12m 20s\n",
      "950:\tlearn: 0.4821205\ttest: 0.4639754\tbest: 0.4639754 (950)\ttotal: 10m 55s\tremaining: 12m 3s\n",
      "975:\tlearn: 0.4818810\ttest: 0.4638778\tbest: 0.4638778 (975)\ttotal: 11m 12s\tremaining: 11m 45s\n",
      "1000:\tlearn: 0.4816444\ttest: 0.4637268\tbest: 0.4637268 (1000)\ttotal: 11m 28s\tremaining: 11m 27s\n",
      "1025:\tlearn: 0.4813675\ttest: 0.4635902\tbest: 0.4635902 (1025)\ttotal: 11m 45s\tremaining: 11m 9s\n",
      "1050:\tlearn: 0.4811892\ttest: 0.4635189\tbest: 0.4635189 (1050)\ttotal: 12m 2s\tremaining: 10m 51s\n",
      "1075:\tlearn: 0.4809166\ttest: 0.4633894\tbest: 0.4633877 (1074)\ttotal: 12m 18s\tremaining: 10m 34s\n",
      "1100:\tlearn: 0.4807161\ttest: 0.4633204\tbest: 0.4633204 (1100)\ttotal: 12m 35s\tremaining: 10m 16s\n",
      "1125:\tlearn: 0.4804349\ttest: 0.4631794\tbest: 0.4631794 (1125)\ttotal: 12m 52s\tremaining: 9m 59s\n",
      "1150:\tlearn: 0.4802516\ttest: 0.4631164\tbest: 0.4631164 (1150)\ttotal: 13m 8s\tremaining: 9m 41s\n",
      "1175:\tlearn: 0.4799669\ttest: 0.4629681\tbest: 0.4629681 (1175)\ttotal: 13m 25s\tremaining: 9m 24s\n",
      "1200:\tlearn: 0.4797260\ttest: 0.4628609\tbest: 0.4628584 (1199)\ttotal: 13m 41s\tremaining: 9m 6s\n",
      "1225:\tlearn: 0.4795081\ttest: 0.4627506\tbest: 0.4627500 (1221)\ttotal: 13m 57s\tremaining: 8m 48s\n",
      "1250:\tlearn: 0.4791916\ttest: 0.4625412\tbest: 0.4625400 (1246)\ttotal: 14m 14s\tremaining: 8m 31s\n",
      "1275:\tlearn: 0.4788058\ttest: 0.4622851\tbest: 0.4622841 (1270)\ttotal: 14m 31s\tremaining: 8m 14s\n",
      "1300:\tlearn: 0.4786091\ttest: 0.4622487\tbest: 0.4622487 (1300)\ttotal: 14m 48s\tremaining: 7m 57s\n",
      "1325:\tlearn: 0.4782873\ttest: 0.4620966\tbest: 0.4620966 (1325)\ttotal: 15m 4s\tremaining: 7m 39s\n",
      "1350:\tlearn: 0.4780796\ttest: 0.4619963\tbest: 0.4619963 (1350)\ttotal: 15m 21s\tremaining: 7m 22s\n",
      "1375:\tlearn: 0.4778104\ttest: 0.4618149\tbest: 0.4618149 (1375)\ttotal: 15m 37s\tremaining: 7m 5s\n",
      "1400:\tlearn: 0.4776025\ttest: 0.4617336\tbest: 0.4617330 (1399)\ttotal: 15m 52s\tremaining: 6m 47s\n",
      "1425:\tlearn: 0.4773339\ttest: 0.4615817\tbest: 0.4615817 (1425)\ttotal: 16m 9s\tremaining: 6m 30s\n",
      "1450:\tlearn: 0.4770895\ttest: 0.4614478\tbest: 0.4614433 (1449)\ttotal: 16m 26s\tremaining: 6m 13s\n",
      "1475:\tlearn: 0.4769211\ttest: 0.4614132\tbest: 0.4614132 (1475)\ttotal: 16m 42s\tremaining: 5m 55s\n",
      "1500:\tlearn: 0.4767237\ttest: 0.4613469\tbest: 0.4613453 (1499)\ttotal: 16m 58s\tremaining: 5m 38s\n",
      "1525:\tlearn: 0.4764626\ttest: 0.4612486\tbest: 0.4612486 (1525)\ttotal: 17m 14s\tremaining: 5m 21s\n",
      "1550:\tlearn: 0.4762608\ttest: 0.4611740\tbest: 0.4611740 (1550)\ttotal: 17m 31s\tremaining: 5m 4s\n",
      "1575:\tlearn: 0.4759483\ttest: 0.4609817\tbest: 0.4609817 (1575)\ttotal: 17m 47s\tremaining: 4m 47s\n",
      "1600:\tlearn: 0.4757278\ttest: 0.4608939\tbest: 0.4608939 (1600)\ttotal: 18m 4s\tremaining: 4m 30s\n",
      "1625:\tlearn: 0.4755022\ttest: 0.4608143\tbest: 0.4608034 (1619)\ttotal: 18m 21s\tremaining: 4m 13s\n",
      "1650:\tlearn: 0.4751444\ttest: 0.4606189\tbest: 0.4606128 (1646)\ttotal: 18m 37s\tremaining: 3m 56s\n",
      "1675:\tlearn: 0.4749496\ttest: 0.4605701\tbest: 0.4605701 (1675)\ttotal: 18m 54s\tremaining: 3m 39s\n",
      "1700:\tlearn: 0.4746942\ttest: 0.4604633\tbest: 0.4604631 (1699)\ttotal: 19m 10s\tremaining: 3m 22s\n",
      "1725:\tlearn: 0.4745066\ttest: 0.4604058\tbest: 0.4604058 (1725)\ttotal: 19m 26s\tremaining: 3m 5s\n",
      "1750:\tlearn: 0.4743115\ttest: 0.4603416\tbest: 0.4603406 (1748)\ttotal: 19m 43s\tremaining: 2m 48s\n",
      "Stopped by overfitting detector  (10 iterations wait)\n",
      "\n",
      "bestTest = 0.4603347963\n",
      "bestIteration = 1755\n",
      "\n",
      "Shrink model to first 1756 iterations.\n"
     ]
    }
   ],
   "source": [
    "kwargs={'iterations': 2000, 'learning_rate': 0.1, 'depth': 6, 'l2_leaf_reg': 100}\n",
    "model_cb, pred_val_y = run_cb(cluster_train_X, train_y['target'], cluster_val_X, val_y['target'], cluster_cat_features, **kwargs)"
   ]
  },
  {
   "cell_type": "code",
   "execution_count": 41,
   "metadata": {},
   "outputs": [
    {
     "name": "stdout",
     "output_type": "stream",
     "text": [
      "====== Validation ======\n",
      "              precision    recall  f1-score   support\n",
      "\n",
      "         0.0       0.77      0.79      0.78     45023\n",
      "         1.0       0.79      0.77      0.78     46757\n",
      "\n",
      "    accuracy                           0.78     91780\n",
      "   macro avg       0.78      0.78      0.78     91780\n",
      "weighted avg       0.78      0.78      0.78     91780\n",
      "\n",
      "0.780160002590915\n",
      "====== Test ======\n",
      "              precision    recall  f1-score   support\n",
      "\n",
      "         0.0       0.77      0.78      0.78     45095\n",
      "         1.0       0.79      0.77      0.78     46685\n",
      "\n",
      "    accuracy                           0.78     91780\n",
      "   macro avg       0.78      0.78      0.78     91780\n",
      "weighted avg       0.78      0.78      0.78     91780\n",
      "\n",
      "0.7792765283405663\n"
     ]
    }
   ],
   "source": [
    "#Analysis\n",
    "print('====== Validation ======')\n",
    "print(classification_report(val_y['target'], pred_val_y>0.5))\n",
    "print(roc_auc_score(val_y['target'],pred_val_y))\n",
    "\n",
    "print('====== Test ======')\n",
    "pred_test_y = model_cb.predict(cluster_test_X)\n",
    "print(classification_report(test_y['target'], pred_test_y>0.5))\n",
    "print(roc_auc_score(test_y['target'],pred_test_y))"
   ]
  },
  {
   "cell_type": "code",
   "execution_count": 42,
   "metadata": {},
   "outputs": [],
   "source": [
    "feat_imp = model_cb.get_feature_importance()\n",
    "np.savez('output/catboost_results_cluster.npz', val_target=val_y['target'], val_preds= pred_val_y,\n",
    "         test_target=test_y['target'], test_preds= pred_test_y, feature_importance = feat_imp)"
   ]
  },
  {
   "cell_type": "markdown",
   "metadata": {},
   "source": [
    "### Inspection"
   ]
  },
  {
   "cell_type": "code",
   "execution_count": 15,
   "metadata": {},
   "outputs": [
    {
     "data": {
      "text/plain": [
       "['val_target', 'val_preds', 'feature_importance', 'test_target', 'test_preds']"
      ]
     },
     "execution_count": 15,
     "metadata": {},
     "output_type": "execute_result"
    }
   ],
   "source": [
    "cluster_cb_result = np.load('output/catboost_results_cluster.npz')\n",
    "cluster_cb_result.files"
   ]
  },
  {
   "cell_type": "code",
   "execution_count": 16,
   "metadata": {},
   "outputs": [],
   "source": [
    "feature_impt= cluster_cb_result['feature_importance']"
   ]
  },
  {
   "cell_type": "code",
   "execution_count": 17,
   "metadata": {},
   "outputs": [
    {
     "data": {
      "text/plain": [
       "array([ 0.69249275,  9.39362615, 23.50958754,  9.45894704,  7.80315045,\n",
       "        3.86556479, 12.88759232,  1.21823341,  1.88639708,  7.07852164,\n",
       "        0.56300667,  0.77477691,  5.40516911,  0.79941537,  0.73149508,\n",
       "        0.38111232,  0.55084617,  4.9399306 ,  1.37786951,  1.95686375,\n",
       "        2.17598379,  2.54941752])"
      ]
     },
     "execution_count": 17,
     "metadata": {},
     "output_type": "execute_result"
    }
   ],
   "source": [
    "feature_impt"
   ]
  },
  {
   "cell_type": "code",
   "execution_count": 3,
   "metadata": {},
   "outputs": [
    {
     "name": "stdout",
     "output_type": "stream",
     "text": [
      "Unnamed: 0\n",
      "Unnamed: 0.1\n",
      "msno\n",
      "song_id\n",
      "source_screen_name\n",
      "source_system_tab\n",
      "source_type\n",
      "song_length\n",
      "genre_ids\n",
      "artist_name\n",
      "composer\n",
      "lyricist\n",
      "language\n",
      "city\n",
      "bd\n",
      "gender\n",
      "registered_via\n",
      "time\n",
      "registration_init_time_int\n",
      "expiration_date_int\n",
      "song_cluster\n",
      "ui_cluster\n"
     ]
    }
   ],
   "source": [
    "for col in cluster_train_X.columns: \n",
    "    print(col) "
   ]
  },
  {
   "cell_type": "code",
   "execution_count": null,
   "metadata": {},
   "outputs": [],
   "source": []
  }
 ],
 "metadata": {
  "kernelspec": {
   "display_name": "Python 3",
   "language": "python",
   "name": "python3"
  },
  "language_info": {
   "codemirror_mode": {
    "name": "ipython",
    "version": 3
   },
   "file_extension": ".py",
   "mimetype": "text/x-python",
   "name": "python",
   "nbconvert_exporter": "python",
   "pygments_lexer": "ipython3",
   "version": "3.5.3"
  }
 },
 "nbformat": 4,
 "nbformat_minor": 2
}
