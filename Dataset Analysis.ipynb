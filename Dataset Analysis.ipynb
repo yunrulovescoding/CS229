{
 "cells": [
  {
   "cell_type": "code",
   "execution_count": 1,
   "metadata": {},
   "outputs": [],
   "source": [
    "import pandas as pd\n",
    "import numpy as np"
   ]
  },
  {
   "cell_type": "code",
   "execution_count": 2,
   "metadata": {},
   "outputs": [],
   "source": [
    "train_X = pd.read_csv('music_data/train_X.csv')\n",
    "test_X = pd.read_csv('music_data/test_X.csv')\n",
    "val_X = pd.read_csv('music_data/valid_X.csv')\n",
    "train_y = pd.read_csv('music_data/train_Y.csv')\n",
    "test_y = pd.read_csv('music_data/test_Y.csv')\n",
    "val_y = pd.read_csv('music_data/valid_Y.csv')"
   ]
  },
  {
   "cell_type": "code",
   "execution_count": 19,
   "metadata": {},
   "outputs": [
    {
     "name": "stdout",
     "output_type": "stream",
     "text": [
      "====== Train Data ======\n",
      "X Dimension: (4426382, 19)\n",
      "Y Dimension: (4426382, 2)\n",
      "Y Ratio: 0.5035719917530841\n",
      "====== Test Data ======\n",
      "X Dimension: (1475461, 19)\n",
      "Y Dimension: (1475461, 2)\n",
      "Y Ratio: 0.5033321788918853\n",
      "====== Validation Data ======\n",
      "X Dimension: (1475461, 19)\n",
      "Y Dimension: (1475461, 2)\n",
      "Y Ratio: 0.5035449937341617\n"
     ]
    }
   ],
   "source": [
    "def get_basic_info(name, x, y):\n",
    "    print('======', name, '======')\n",
    "    print('X Dimension:', x.shape)\n",
    "    print('Y Dimension:', y.shape)\n",
    "    print('Y Ratio:', sum(y['target'])/y.shape[0])\n",
    "\n",
    "get_basic_info('Train Data', train_X, train_y)\n",
    "get_basic_info('Test Data', test_X, test_y)\n",
    "get_basic_info('Validation Data', val_X, val_y)"
   ]
  },
  {
   "cell_type": "code",
   "execution_count": null,
   "metadata": {},
   "outputs": [],
   "source": []
  }
 ],
 "metadata": {
  "kernelspec": {
   "display_name": "Python 3",
   "language": "python",
   "name": "python3"
  },
  "language_info": {
   "codemirror_mode": {
    "name": "ipython",
    "version": 3
   },
   "file_extension": ".py",
   "mimetype": "text/x-python",
   "name": "python",
   "nbconvert_exporter": "python",
   "pygments_lexer": "ipython3",
   "version": "3.5.3"
  }
 },
 "nbformat": 4,
 "nbformat_minor": 2
}
