{
 "cells": [
  {
   "cell_type": "code",
   "execution_count": 1,
   "metadata": {},
   "outputs": [],
   "source": [
    "import numpy as np\n",
    "import pandas as pd\n",
    "import matplotlib.pyplot as plt\n",
    "from datetime import datetime\n",
    "\n",
    "from sklearn.metrics import classification_report\n",
    "from sklearn.metrics import roc_auc_score\n",
    "\n",
    "import lightgbm as lgb\n",
    "import xgboost as xgb\n",
    "import catboost as cb\n",
    "from catboost import CatBoostClassifier, Pool\n",
    "\n",
    "import sklearn.datasets\n",
    "import gc"
   ]
  },
  {
   "cell_type": "markdown",
   "metadata": {},
   "source": [
    "### Data Prep."
   ]
  },
  {
   "cell_type": "code",
   "execution_count": 2,
   "metadata": {},
   "outputs": [],
   "source": [
    "# train_X = pd.read_csv('music_data/train_X.csv')\n",
    "train_X = pd.read_csv('music_data/train_X_date_converted.csv')\n",
    "train_y = pd.read_csv('music_data/train_Y.csv')\n",
    "\n",
    "# val_X = pd.read_csv('music_data/valid_X.csv')\n",
    "val_X = pd.read_csv('music_data/valid_X_date_converted.csv')\n",
    "val_y = pd.read_csv('music_data/valid_Y.csv')\n",
    "\n",
    "# test_X = pd.read_csv('music_data/test_X.csv')\n",
    "test_X = pd.read_csv('music_data/test_X_date_converted.csv')\n",
    "test_y = pd.read_csv('music_data/test_Y.csv')"
   ]
  },
  {
   "cell_type": "code",
   "execution_count": 3,
   "metadata": {},
   "outputs": [],
   "source": [
    "# train_tiny_X = pd.read_csv('music_data/train_tiny_X.csv')\n",
    "train_tiny_X = train_X[:10000].copy()\n",
    "train_tiny_y = train_y[:10000].copy()\n",
    "\n",
    "val_tiny_X = val_X[:1000].copy()\n",
    "#val_tiny_X = pd.read_csv('music_data/val_tiny_X_date_converted.csv')\n",
    "val_tiny_y = val_y[:1000].copy()"
   ]
  },
  {
   "cell_type": "code",
   "execution_count": 11,
   "metadata": {},
   "outputs": [
    {
     "name": "stdout",
     "output_type": "stream",
     "text": [
      "train x 2004-03-26 1970-01-01\n",
      "val x 2004-03-26 1970-01-01\n",
      "test x 2004-03-26 2004-10-16\n",
      "1 1970-01-01 in train set\n",
      "2 1970-01-01 in val set\n",
      "1 smaller than 2000-01-01 in train set\n",
      "2 smaller than 2000-01-01 in val set\n"
     ]
    }
   ],
   "source": [
    "# Observing reasonable date for date time conversion\n",
    "# 2004 seems to be the earliest date. '1970-01-01' is essentially null value (1 in train).\n",
    "print('train x', train_X['registration_init_time'].min(), train_X['expiration_date'].min())\n",
    "print('val x', val_X['registration_init_time'].min(), val_X['expiration_date'].min())\n",
    "print('test x', test_X['registration_init_time'].min(), test_X['expiration_date'].min())\n",
    "\n",
    "\n",
    "# Not many records smaller than '2000-01-01'. Reasonable to not treat them specially\n",
    "print(train_X['expiration_date'].apply(lambda date: date == '1970-01-01').sum(), '1970-01-01 in train set')\n",
    "print(val_X['expiration_date'].apply(lambda date: date == '1970-01-01').sum(), '1970-01-01 in val set')\n",
    "\n",
    "print(train_X['expiration_date'].apply(lambda date: date < '2000-01-01').sum(), 'smaller than 2000-01-01 in train set')\n",
    "print(val_X['expiration_date'].apply(lambda date: date < '2000-01-01').sum(), 'smaller than 2000-01-01 in val set')"
   ]
  },
  {
   "cell_type": "code",
   "execution_count": null,
   "metadata": {},
   "outputs": [],
   "source": [
    "def date_to_int(column, base_date=datetime.strptime('2000-01-01', \"%Y-%m-%d\")):\n",
    "    \"\"\"\n",
    "    Convert date to day counts since base_date for given columns.\n",
    "    \n",
    "    :param column: pandas column containing date representations as str value\n",
    "    :param base_date: base date from which date is counted. i.e. 2000-01-02 will be day '1' comparing to '2000-01-01'\n",
    "    \"\"\"\n",
    "    \n",
    "    def date_diff(date):\n",
    "        date = datetime.strptime(date, \"%Y-%m-%d\")\n",
    "        return (date - base_date).days\n",
    "    \n",
    "    return column.apply(date_diff)\n",
    "\n",
    "def convert_date_columns_to_int(dataframes, cols=['registration_init_time', 'expiration_date'], saving=True):\n",
    "    count = 0\n",
    "    total = len(dataframes)\n",
    "    for df_name, df in dataframes.items():\n",
    "        count += 1\n",
    "        print(\"Starting {} ...\".format(df_name))\n",
    "        for col in cols:\n",
    "            df[col+'_int'] = date_to_int(df[col])\n",
    "        df = df.drop(columns=cols)\n",
    "        dataframes[df_name] = df\n",
    "        \n",
    "        if saving:\n",
    "            print(\"Saving {} ...\".format(df_name))\n",
    "            df.to_csv('music_data/'+ df_name + '_date_converted.csv')\n",
    "        \n",
    "        print(\"====== Done {} / {} ======\".format(count, total))\n",
    "    return dataframes\n"
   ]
  },
  {
   "cell_type": "code",
   "execution_count": null,
   "metadata": {},
   "outputs": [
    {
     "name": "stdout",
     "output_type": "stream",
     "text": [
      "Starting val_tiny_X ...\n",
      "Saving val_tiny_X ...\n",
      "====== Done 1 / 5 ======\n",
      "Starting train_X ...\n",
      "Saving train_X ...\n"
     ]
    }
   ],
   "source": [
    "# Converting all data\n",
    "converted_dfs = convert_date_columns_to_int({\n",
    "    'train_X': train_X,\n",
    "    'valid_X': val_X,\n",
    "    'test_X': test_X,\n",
    "    'train_tiny_X': train_tiny_X,\n",
    "    'val_tiny_X': val_tiny_X,\n",
    "})\n",
    "train_X = converted_dfs['train_X']\n",
    "val_X = converted_dfs['valid_X']\n",
    "test_X = converted_dfs['test_X']\n",
    "train_tiny_X = converted_dfs['train_tiny_X']\n",
    "val_tiny_X = converted_dfs['val_tiny_X']"
   ]
  },
  {
   "cell_type": "markdown",
   "metadata": {},
   "source": [
    "## Gradient Boosting"
   ]
  },
  {
   "cell_type": "markdown",
   "metadata": {},
   "source": [
    "### LightGBM"
   ]
  },
  {
   "cell_type": "code",
   "execution_count": 19,
   "metadata": {},
   "outputs": [],
   "source": [
    "def run_lgbc(train_X, train_y, val_X, val_y):\n",
    "    params = {\n",
    "        \"objective\" : \"binary\",\n",
    "        \"metric\" : \"binary_logloss\", \n",
    "        \"num_leaves\" : 30,\n",
    "        \"min_child_samples\" : 100,\n",
    "        \"learning_rate\" : 0.1,\n",
    "        \"bagging_fraction\" : 0.7,\n",
    "        \"feature_fraction\" : 0.5,\n",
    "        \"bagging_frequency\" : 5,\n",
    "        \"bagging_seed\" : 2018,\n",
    "    }\n",
    "    \n",
    "    lgtrain = lgb.Dataset(train_X, label=train_y)\n",
    "    lgval = lgb.Dataset(val_X, label=val_y)\n",
    "    model = lgb.train(params, lgtrain, 1000, valid_sets=[lgval], early_stopping_rounds=100, verbose_eval=100)\n",
    "\n",
    "    pred_val_y = model.predict(val_X, num_iteration=model.best_iteration)\n",
    "    return model, pred_val_y"
   ]
  },
  {
   "cell_type": "markdown",
   "metadata": {},
   "source": [
    "#### Testing on tiny dataset"
   ]
  },
  {
   "cell_type": "code",
   "execution_count": 31,
   "metadata": {},
   "outputs": [
    {
     "name": "stdout",
     "output_type": "stream",
     "text": [
      "Training until validation scores don't improve for 100 rounds.\n",
      "[100]\tvalid_0's binary_logloss: 0.651618\n",
      "Early stopping, best iteration is:\n",
      "[30]\tvalid_0's binary_logloss: 0.639451\n",
      "              precision    recall  f1-score   support\n",
      "\n",
      "         0.0       0.58      0.69      0.63       477\n",
      "         1.0       0.66      0.55      0.60       523\n",
      "\n",
      "   micro avg       0.62      0.62      0.62      1000\n",
      "   macro avg       0.62      0.62      0.62      1000\n",
      "weighted avg       0.62      0.62      0.61      1000\n",
      "\n",
      "0.6819830761892165\n"
     ]
    }
   ],
   "source": [
    "modelC, pred_val_y = run_lgbc(train_tiny_X, train_tiny_y['target'], val_tiny_X, val_tiny_y['target'])\n",
    "print(classification_report(val_tiny_y['target'], modelC.predict(val_tiny_X)>0.5))\n",
    "print(roc_auc_score(val_tiny_y['target'], modelC.predict(val_tiny_X)))"
   ]
  },
  {
   "cell_type": "markdown",
   "metadata": {},
   "source": [
    "#### Running large data"
   ]
  },
  {
   "cell_type": "code",
   "execution_count": 32,
   "metadata": {
    "scrolled": true
   },
   "outputs": [
    {
     "name": "stdout",
     "output_type": "stream",
     "text": [
      "Training until validation scores don't improve for 100 rounds.\n",
      "[100]\tvalid_0's binary_logloss: 0.6224\n",
      "[200]\tvalid_0's binary_logloss: 0.616636\n",
      "[300]\tvalid_0's binary_logloss: 0.612586\n",
      "[400]\tvalid_0's binary_logloss: 0.609499\n",
      "[500]\tvalid_0's binary_logloss: 0.606984\n",
      "[600]\tvalid_0's binary_logloss: 0.604466\n",
      "[700]\tvalid_0's binary_logloss: 0.602129\n",
      "[800]\tvalid_0's binary_logloss: 0.60016\n",
      "[900]\tvalid_0's binary_logloss: 0.598241\n",
      "[1000]\tvalid_0's binary_logloss: 0.596447\n",
      "Did not meet early stopping. Best iteration is:\n",
      "[1000]\tvalid_0's binary_logloss: 0.596447\n",
      "              precision    recall  f1-score   support\n",
      "\n",
      "         0.0       0.67      0.70      0.68    732500\n",
      "         1.0       0.69      0.66      0.67    742961\n",
      "\n",
      "   micro avg       0.68      0.68      0.68   1475461\n",
      "   macro avg       0.68      0.68      0.68   1475461\n",
      "weighted avg       0.68      0.68      0.68   1475461\n",
      "\n",
      "0.7449332780580912\n"
     ]
    }
   ],
   "source": [
    "modelC, pred_val_y = run_lgbc(train_X, train_y['target'], val_X, val_y['target'])\n",
    "print(classification_report(val_y['target'], modelC.predict(val_X)>0.5))\n",
    "print(roc_auc_score(val_y['target'], modelC.predict(val_X)))"
   ]
  },
  {
   "cell_type": "markdown",
   "metadata": {},
   "source": [
    "### CatBoosting"
   ]
  },
  {
   "cell_type": "code",
   "execution_count": 4,
   "metadata": {},
   "outputs": [
    {
     "data": {
      "text/html": [
       "<div>\n",
       "<style scoped>\n",
       "    .dataframe tbody tr th:only-of-type {\n",
       "        vertical-align: middle;\n",
       "    }\n",
       "\n",
       "    .dataframe tbody tr th {\n",
       "        vertical-align: top;\n",
       "    }\n",
       "\n",
       "    .dataframe thead th {\n",
       "        text-align: right;\n",
       "    }\n",
       "</style>\n",
       "<table border=\"1\" class=\"dataframe\">\n",
       "  <thead>\n",
       "    <tr style=\"text-align: right;\">\n",
       "      <th></th>\n",
       "      <th>Unnamed: 0</th>\n",
       "      <th>Unnamed: 0.1</th>\n",
       "      <th>msno</th>\n",
       "      <th>song_id</th>\n",
       "      <th>source_screen_name</th>\n",
       "      <th>source_system_tab</th>\n",
       "      <th>source_type</th>\n",
       "      <th>song_length</th>\n",
       "      <th>genre_ids</th>\n",
       "      <th>artist_name</th>\n",
       "      <th>composer</th>\n",
       "      <th>lyricist</th>\n",
       "      <th>language</th>\n",
       "      <th>city</th>\n",
       "      <th>bd</th>\n",
       "      <th>gender</th>\n",
       "      <th>registered_via</th>\n",
       "      <th>time</th>\n",
       "      <th>registration_init_time_int</th>\n",
       "      <th>expiration_date_int</th>\n",
       "    </tr>\n",
       "  </thead>\n",
       "  <tbody>\n",
       "    <tr>\n",
       "      <th>0</th>\n",
       "      <td>4014890</td>\n",
       "      <td>7039846</td>\n",
       "      <td>785</td>\n",
       "      <td>141648</td>\n",
       "      <td>18</td>\n",
       "      <td>7</td>\n",
       "      <td>7</td>\n",
       "      <td>219454.0</td>\n",
       "      <td>371</td>\n",
       "      <td>44988</td>\n",
       "      <td>20734</td>\n",
       "      <td>4032</td>\n",
       "      <td>2</td>\n",
       "      <td>0</td>\n",
       "      <td>0</td>\n",
       "      <td>2</td>\n",
       "      <td>2</td>\n",
       "      <td>0.708647</td>\n",
       "      <td>4155</td>\n",
       "      <td>6465</td>\n",
       "    </tr>\n",
       "    <tr>\n",
       "      <th>1</th>\n",
       "      <td>865446</td>\n",
       "      <td>2067552</td>\n",
       "      <td>9176</td>\n",
       "      <td>156565</td>\n",
       "      <td>16</td>\n",
       "      <td>6</td>\n",
       "      <td>8</td>\n",
       "      <td>270001.0</td>\n",
       "      <td>127</td>\n",
       "      <td>8947</td>\n",
       "      <td>74276</td>\n",
       "      <td>26024</td>\n",
       "      <td>9</td>\n",
       "      <td>0</td>\n",
       "      <td>0</td>\n",
       "      <td>2</td>\n",
       "      <td>2</td>\n",
       "      <td>0.208124</td>\n",
       "      <td>4384</td>\n",
       "      <td>6487</td>\n",
       "    </tr>\n",
       "    <tr>\n",
       "      <th>2</th>\n",
       "      <td>1151370</td>\n",
       "      <td>5503771</td>\n",
       "      <td>31040</td>\n",
       "      <td>43786</td>\n",
       "      <td>11</td>\n",
       "      <td>0</td>\n",
       "      <td>7</td>\n",
       "      <td>265822.0</td>\n",
       "      <td>371</td>\n",
       "      <td>40039</td>\n",
       "      <td>84290</td>\n",
       "      <td>35947</td>\n",
       "      <td>2</td>\n",
       "      <td>12</td>\n",
       "      <td>33</td>\n",
       "      <td>1</td>\n",
       "      <td>3</td>\n",
       "      <td>0.554022</td>\n",
       "      <td>2890</td>\n",
       "      <td>6479</td>\n",
       "    </tr>\n",
       "    <tr>\n",
       "      <th>3</th>\n",
       "      <td>575108</td>\n",
       "      <td>639057</td>\n",
       "      <td>26412</td>\n",
       "      <td>387047</td>\n",
       "      <td>8</td>\n",
       "      <td>3</td>\n",
       "      <td>4</td>\n",
       "      <td>266031.0</td>\n",
       "      <td>364</td>\n",
       "      <td>42827</td>\n",
       "      <td>71260</td>\n",
       "      <td>26024</td>\n",
       "      <td>2</td>\n",
       "      <td>0</td>\n",
       "      <td>0</td>\n",
       "      <td>2</td>\n",
       "      <td>2</td>\n",
       "      <td>0.064329</td>\n",
       "      <td>6153</td>\n",
       "      <td>6486</td>\n",
       "    </tr>\n",
       "    <tr>\n",
       "      <th>4</th>\n",
       "      <td>460130</td>\n",
       "      <td>6368926</td>\n",
       "      <td>24075</td>\n",
       "      <td>136842</td>\n",
       "      <td>4</td>\n",
       "      <td>0</td>\n",
       "      <td>7</td>\n",
       "      <td>280346.0</td>\n",
       "      <td>364</td>\n",
       "      <td>43072</td>\n",
       "      <td>81070</td>\n",
       "      <td>31877</td>\n",
       "      <td>2</td>\n",
       "      <td>0</td>\n",
       "      <td>0</td>\n",
       "      <td>2</td>\n",
       "      <td>3</td>\n",
       "      <td>0.641111</td>\n",
       "      <td>5634</td>\n",
       "      <td>6874</td>\n",
       "    </tr>\n",
       "  </tbody>\n",
       "</table>\n",
       "</div>"
      ],
      "text/plain": [
       "   Unnamed: 0  Unnamed: 0.1   msno  song_id  source_screen_name  \\\n",
       "0     4014890       7039846    785   141648                  18   \n",
       "1      865446       2067552   9176   156565                  16   \n",
       "2     1151370       5503771  31040    43786                  11   \n",
       "3      575108        639057  26412   387047                   8   \n",
       "4      460130       6368926  24075   136842                   4   \n",
       "\n",
       "   source_system_tab  source_type  song_length  genre_ids  artist_name  \\\n",
       "0                  7            7     219454.0        371        44988   \n",
       "1                  6            8     270001.0        127         8947   \n",
       "2                  0            7     265822.0        371        40039   \n",
       "3                  3            4     266031.0        364        42827   \n",
       "4                  0            7     280346.0        364        43072   \n",
       "\n",
       "   composer  lyricist  language  city  bd  gender  registered_via      time  \\\n",
       "0     20734      4032         2     0   0       2               2  0.708647   \n",
       "1     74276     26024         9     0   0       2               2  0.208124   \n",
       "2     84290     35947         2    12  33       1               3  0.554022   \n",
       "3     71260     26024         2     0   0       2               2  0.064329   \n",
       "4     81070     31877         2     0   0       2               3  0.641111   \n",
       "\n",
       "   registration_init_time_int  expiration_date_int  \n",
       "0                        4155                 6465  \n",
       "1                        4384                 6487  \n",
       "2                        2890                 6479  \n",
       "3                        6153                 6486  \n",
       "4                        5634                 6874  "
      ]
     },
     "execution_count": 4,
     "metadata": {},
     "output_type": "execute_result"
    }
   ],
   "source": [
    "train_X.head()"
   ]
  },
  {
   "cell_type": "code",
   "execution_count": 5,
   "metadata": {},
   "outputs": [
    {
     "data": {
      "text/html": [
       "<div>\n",
       "<style scoped>\n",
       "    .dataframe tbody tr th:only-of-type {\n",
       "        vertical-align: middle;\n",
       "    }\n",
       "\n",
       "    .dataframe tbody tr th {\n",
       "        vertical-align: top;\n",
       "    }\n",
       "\n",
       "    .dataframe thead th {\n",
       "        text-align: right;\n",
       "    }\n",
       "</style>\n",
       "<table border=\"1\" class=\"dataframe\">\n",
       "  <thead>\n",
       "    <tr style=\"text-align: right;\">\n",
       "      <th></th>\n",
       "      <th>Unnamed: 0</th>\n",
       "      <th>Unnamed: 0.1</th>\n",
       "      <th>msno</th>\n",
       "      <th>song_id</th>\n",
       "      <th>source_screen_name</th>\n",
       "      <th>source_system_tab</th>\n",
       "      <th>source_type</th>\n",
       "      <th>song_length</th>\n",
       "      <th>genre_ids</th>\n",
       "      <th>artist_name</th>\n",
       "      <th>composer</th>\n",
       "      <th>lyricist</th>\n",
       "      <th>language</th>\n",
       "      <th>city</th>\n",
       "      <th>bd</th>\n",
       "      <th>gender</th>\n",
       "      <th>registered_via</th>\n",
       "      <th>time</th>\n",
       "      <th>registration_init_time_int</th>\n",
       "      <th>expiration_date_int</th>\n",
       "    </tr>\n",
       "  </thead>\n",
       "  <tbody>\n",
       "    <tr>\n",
       "      <th>0</th>\n",
       "      <td>481907</td>\n",
       "      <td>1914774</td>\n",
       "      <td>16381</td>\n",
       "      <td>209587</td>\n",
       "      <td>11</td>\n",
       "      <td>3</td>\n",
       "      <td>3</td>\n",
       "      <td>296542.0</td>\n",
       "      <td>364</td>\n",
       "      <td>42827</td>\n",
       "      <td>72356</td>\n",
       "      <td>26024</td>\n",
       "      <td>2</td>\n",
       "      <td>0</td>\n",
       "      <td>0</td>\n",
       "      <td>1</td>\n",
       "      <td>2</td>\n",
       "      <td>0.192746</td>\n",
       "      <td>4884</td>\n",
       "      <td>6467</td>\n",
       "    </tr>\n",
       "    <tr>\n",
       "      <th>1</th>\n",
       "      <td>1001872</td>\n",
       "      <td>2221821</td>\n",
       "      <td>22888</td>\n",
       "      <td>410176</td>\n",
       "      <td>8</td>\n",
       "      <td>3</td>\n",
       "      <td>3</td>\n",
       "      <td>333740.0</td>\n",
       "      <td>127</td>\n",
       "      <td>22395</td>\n",
       "      <td>74276</td>\n",
       "      <td>26024</td>\n",
       "      <td>9</td>\n",
       "      <td>13</td>\n",
       "      <td>26</td>\n",
       "      <td>1</td>\n",
       "      <td>3</td>\n",
       "      <td>0.223654</td>\n",
       "      <td>4148</td>\n",
       "      <td>6458</td>\n",
       "    </tr>\n",
       "    <tr>\n",
       "      <th>2</th>\n",
       "      <td>2468130</td>\n",
       "      <td>5800477</td>\n",
       "      <td>28551</td>\n",
       "      <td>102966</td>\n",
       "      <td>8</td>\n",
       "      <td>3</td>\n",
       "      <td>4</td>\n",
       "      <td>82464.0</td>\n",
       "      <td>608</td>\n",
       "      <td>27715</td>\n",
       "      <td>39002</td>\n",
       "      <td>26024</td>\n",
       "      <td>1</td>\n",
       "      <td>0</td>\n",
       "      <td>0</td>\n",
       "      <td>2</td>\n",
       "      <td>1</td>\n",
       "      <td>0.583889</td>\n",
       "      <td>6142</td>\n",
       "      <td>6487</td>\n",
       "    </tr>\n",
       "    <tr>\n",
       "      <th>3</th>\n",
       "      <td>1795430</td>\n",
       "      <td>349540</td>\n",
       "      <td>33321</td>\n",
       "      <td>181586</td>\n",
       "      <td>8</td>\n",
       "      <td>3</td>\n",
       "      <td>4</td>\n",
       "      <td>235075.0</td>\n",
       "      <td>371</td>\n",
       "      <td>36867</td>\n",
       "      <td>74276</td>\n",
       "      <td>26024</td>\n",
       "      <td>9</td>\n",
       "      <td>0</td>\n",
       "      <td>0</td>\n",
       "      <td>2</td>\n",
       "      <td>2</td>\n",
       "      <td>0.035185</td>\n",
       "      <td>6091</td>\n",
       "      <td>6486</td>\n",
       "    </tr>\n",
       "    <tr>\n",
       "      <th>4</th>\n",
       "      <td>621167</td>\n",
       "      <td>2966646</td>\n",
       "      <td>16427</td>\n",
       "      <td>73221</td>\n",
       "      <td>8</td>\n",
       "      <td>3</td>\n",
       "      <td>3</td>\n",
       "      <td>173557.0</td>\n",
       "      <td>364</td>\n",
       "      <td>43595</td>\n",
       "      <td>85837</td>\n",
       "      <td>34739</td>\n",
       "      <td>2</td>\n",
       "      <td>0</td>\n",
       "      <td>0</td>\n",
       "      <td>2</td>\n",
       "      <td>2</td>\n",
       "      <td>0.298629</td>\n",
       "      <td>6101</td>\n",
       "      <td>6465</td>\n",
       "    </tr>\n",
       "  </tbody>\n",
       "</table>\n",
       "</div>"
      ],
      "text/plain": [
       "   Unnamed: 0  Unnamed: 0.1   msno  song_id  source_screen_name  \\\n",
       "0      481907       1914774  16381   209587                  11   \n",
       "1     1001872       2221821  22888   410176                   8   \n",
       "2     2468130       5800477  28551   102966                   8   \n",
       "3     1795430        349540  33321   181586                   8   \n",
       "4      621167       2966646  16427    73221                   8   \n",
       "\n",
       "   source_system_tab  source_type  song_length  genre_ids  artist_name  \\\n",
       "0                  3            3     296542.0        364        42827   \n",
       "1                  3            3     333740.0        127        22395   \n",
       "2                  3            4      82464.0        608        27715   \n",
       "3                  3            4     235075.0        371        36867   \n",
       "4                  3            3     173557.0        364        43595   \n",
       "\n",
       "   composer  lyricist  language  city  bd  gender  registered_via      time  \\\n",
       "0     72356     26024         2     0   0       1               2  0.192746   \n",
       "1     74276     26024         9    13  26       1               3  0.223654   \n",
       "2     39002     26024         1     0   0       2               1  0.583889   \n",
       "3     74276     26024         9     0   0       2               2  0.035185   \n",
       "4     85837     34739         2     0   0       2               2  0.298629   \n",
       "\n",
       "   registration_init_time_int  expiration_date_int  \n",
       "0                        4884                 6467  \n",
       "1                        4148                 6458  \n",
       "2                        6142                 6487  \n",
       "3                        6091                 6486  \n",
       "4                        6101                 6465  "
      ]
     },
     "execution_count": 5,
     "metadata": {},
     "output_type": "execute_result"
    }
   ],
   "source": [
    "val_X.head()"
   ]
  },
  {
   "cell_type": "code",
   "execution_count": 6,
   "metadata": {},
   "outputs": [
    {
     "data": {
      "text/plain": [
       "(552909, 20)"
      ]
     },
     "execution_count": 6,
     "metadata": {},
     "output_type": "execute_result"
    }
   ],
   "source": [
    "train_X.shape"
   ]
  },
  {
   "cell_type": "code",
   "execution_count": 13,
   "metadata": {},
   "outputs": [],
   "source": [
    "cat_features = [2,3,4,5,6,8,9,10,11,12,13,14,15,16]"
   ]
  },
  {
   "cell_type": "code",
   "execution_count": 87,
   "metadata": {},
   "outputs": [],
   "source": [
    "def run_cb(train_X, train_y, val_X, val_y, cat_features, iterations=20, learning_rate=0.1, depth=6):\n",
    "    model_cb = cb.CatBoostClassifier(\n",
    "        iterations=iterations, \n",
    "        learning_rate=learning_rate, \n",
    "        depth=depth, \n",
    "        loss_function='Logloss',\n",
    "        thread_count=30,\n",
    "        random_seed=229,\n",
    "        use_best_model = True,\n",
    "        l2_leaf_reg = 2\n",
    "        *kwargs\n",
    "    )\n",
    "    eval_dataset = Pool(val_X,val_y,cat_features=cat_features)\n",
    "    \n",
    "    model = model_cb.fit(train_X, train_y, cat_features, eval_set=eval_dataset,\n",
    "                         verbose_eval=25, early_stopping_rounds = 10)\n",
    "\n",
    "    pred_val_y = model.predict(val_X)\n",
    "    return model, pred_val_y"
   ]
  },
  {
   "cell_type": "markdown",
   "metadata": {},
   "source": [
    "### Testing on Tiny Dataset"
   ]
  },
  {
   "cell_type": "code",
   "execution_count": 91,
   "metadata": {},
   "outputs": [
    {
     "name": "stdout",
     "output_type": "stream",
     "text": [
      "0:\tlearn: 0.6831207\ttest: 0.6836009\tbest: 0.6836009 (0)\ttotal: 155ms\tremaining: 46.3s\n",
      "25:\tlearn: 0.6197703\ttest: 0.6200814\tbest: 0.6200814 (25)\ttotal: 2.46s\tremaining: 26s\n",
      "50:\tlearn: 0.6059473\ttest: 0.6125745\tbest: 0.6123165 (49)\ttotal: 4.54s\tremaining: 22.2s\n",
      "75:\tlearn: 0.5958593\ttest: 0.6109585\tbest: 0.6109585 (75)\ttotal: 6.84s\tremaining: 20.2s\n",
      "100:\tlearn: 0.5861887\ttest: 0.6098933\tbest: 0.6094656 (96)\ttotal: 9.03s\tremaining: 17.8s\n",
      "125:\tlearn: 0.5759205\ttest: 0.6099270\tbest: 0.6094656 (96)\ttotal: 11.2s\tremaining: 15.5s\n",
      "150:\tlearn: 0.5659411\ttest: 0.6100231\tbest: 0.6094656 (96)\ttotal: 13.6s\tremaining: 13.4s\n",
      "175:\tlearn: 0.5563937\ttest: 0.6119087\tbest: 0.6094656 (96)\ttotal: 16.1s\tremaining: 11.3s\n",
      "Stopped by overfitting detector  (100 iterations wait)\n",
      "\n",
      "bestTest = 0.609465602\n",
      "bestIteration = 96\n",
      "\n",
      "Shrink model to first 97 iterations.\n"
     ]
    }
   ],
   "source": [
    "# Tiny dataset\n",
    "model_cb, pred_val_y = run_cb(train_tiny_X, train_tiny_y['target'], val_tiny_X, val_tiny_y['target'],cat_features)\n"
   ]
  },
  {
   "cell_type": "code",
   "execution_count": 93,
   "metadata": {},
   "outputs": [
    {
     "name": "stdout",
     "output_type": "stream",
     "text": [
      "              precision    recall  f1-score   support\n",
      "\n",
      "         0.0       0.65      0.74      0.69       477\n",
      "         1.0       0.73      0.63      0.68       523\n",
      "\n",
      "   micro avg       0.68      0.68      0.68      1000\n",
      "   macro avg       0.69      0.69      0.68      1000\n",
      "weighted avg       0.69      0.68      0.68      1000\n",
      "\n",
      "0.6854163409775085\n"
     ]
    }
   ],
   "source": [
    "#Analysis\n",
    "print(classification_report(val_tiny_y['target'], pred_val_y>0.5))\n",
    "print(roc_auc_score(val_tiny_y['target'],pred_val_y))"
   ]
  },
  {
   "cell_type": "code",
   "execution_count": 101,
   "metadata": {},
   "outputs": [
    {
     "data": {
      "text/plain": [
       "array([ 2.01723401,  8.75170032,  3.26461969, 11.93417377,  6.74938415,\n",
       "       11.20750328, 12.10402081,  2.41687205,  3.02796949,  4.01081244,\n",
       "        2.43845576,  0.73392845,  3.13813829,  3.8346574 ,  4.28264634,\n",
       "        2.37046235,  2.26047314,  8.30894994,  1.86662922,  5.2813691 ])"
      ]
     },
     "execution_count": 101,
     "metadata": {},
     "output_type": "execute_result"
    }
   ],
   "source": [
    "model_cb.get_feature_importance()"
   ]
  },
  {
   "cell_type": "code",
   "execution_count": 95,
   "metadata": {},
   "outputs": [],
   "source": [
    "#save score\n",
    "np.savez('output/catboost_small.npz', val_target=val_tiny_y['target'], val_preds= pred_val_y)"
   ]
  },
  {
   "cell_type": "code",
   "execution_count": 97,
   "metadata": {},
   "outputs": [
    {
     "data": {
      "text/plain": [
       "['val_target', 'val_preds']"
      ]
     },
     "execution_count": 97,
     "metadata": {},
     "output_type": "execute_result"
    }
   ],
   "source": [
    "#load score\n",
    "val_scores = np.load('output/catboost_small.npz')\n",
    "val_scores.files"
   ]
  },
  {
   "cell_type": "code",
   "execution_count": 99,
   "metadata": {},
   "outputs": [
    {
     "data": {
      "text/plain": [
       "array([0., 1., 1., 1., 0., 0., 1., 0., 0., 0.])"
      ]
     },
     "execution_count": 99,
     "metadata": {},
     "output_type": "execute_result"
    }
   ],
   "source": [
    "val_scores['val_preds'][:10]"
   ]
  },
  {
   "cell_type": "markdown",
   "metadata": {},
   "source": [
    "### Testing on Full Dataset (Old data)"
   ]
  },
  {
   "cell_type": "code",
   "execution_count": 6,
   "metadata": {},
   "outputs": [
    {
     "name": "stdout",
     "output_type": "stream",
     "text": [
      "0:\tlearn: 0.6284429\ttest: 0.6235821\tbest: 0.6235821 (0)\ttotal: 9.48s\tremaining: 5h 15m 52s\n",
      "25:\tlearn: 0.5141280\ttest: 0.4905989\tbest: 0.4905989 (25)\ttotal: 3m 27s\tremaining: 4h 22m 15s\n",
      "50:\tlearn: 0.5065182\ttest: 0.4815930\tbest: 0.4815930 (50)\ttotal: 6m 47s\tremaining: 4h 19m 36s\n",
      "75:\tlearn: 0.5030026\ttest: 0.4775023\tbest: 0.4775023 (75)\ttotal: 10m 8s\tremaining: 4h 16m 38s\n",
      "100:\tlearn: 0.5004828\ttest: 0.4747343\tbest: 0.4747343 (100)\ttotal: 13m 33s\tremaining: 4h 14m 56s\n",
      "125:\tlearn: 0.4986242\ttest: 0.4727999\tbest: 0.4727999 (125)\ttotal: 16m 54s\tremaining: 4h 11m 26s\n",
      "150:\tlearn: 0.4969893\ttest: 0.4710671\tbest: 0.4710671 (150)\ttotal: 20m 27s\tremaining: 4h 10m 32s\n",
      "175:\tlearn: 0.4952983\ttest: 0.4692347\tbest: 0.4692347 (175)\ttotal: 23m 54s\tremaining: 4h 7m 49s\n",
      "200:\tlearn: 0.4940872\ttest: 0.4679293\tbest: 0.4679293 (200)\ttotal: 27m 15s\tremaining: 4h 3m 57s\n",
      "225:\tlearn: 0.4931417\ttest: 0.4669468\tbest: 0.4669468 (225)\ttotal: 30m 38s\tremaining: 4h 34s\n",
      "250:\tlearn: 0.4920234\ttest: 0.4657479\tbest: 0.4657479 (250)\ttotal: 34m 4s\tremaining: 3h 57m 26s\n",
      "275:\tlearn: 0.4914686\ttest: 0.4652272\tbest: 0.4652272 (275)\ttotal: 37m 21s\tremaining: 3h 53m 23s\n",
      "300:\tlearn: 0.4910086\ttest: 0.4647616\tbest: 0.4647616 (300)\ttotal: 40m 49s\tremaining: 3h 50m 26s\n",
      "325:\tlearn: 0.4905923\ttest: 0.4643906\tbest: 0.4643906 (325)\ttotal: 44m 18s\tremaining: 3h 47m 29s\n",
      "350:\tlearn: 0.4899380\ttest: 0.4637461\tbest: 0.4637461 (350)\ttotal: 47m 42s\tremaining: 3h 44m 9s\n",
      "375:\tlearn: 0.4894705\ttest: 0.4633634\tbest: 0.4633634 (375)\ttotal: 50m 59s\tremaining: 3h 40m 15s\n",
      "400:\tlearn: 0.4890608\ttest: 0.4630670\tbest: 0.4630670 (400)\ttotal: 54m 11s\tremaining: 3h 36m 5s\n",
      "425:\tlearn: 0.4887072\ttest: 0.4627569\tbest: 0.4627569 (425)\ttotal: 57m 26s\tremaining: 3h 32m 14s\n",
      "450:\tlearn: 0.4882043\ttest: 0.4622093\tbest: 0.4622093 (450)\ttotal: 1h 42s\tremaining: 3h 28m 29s\n",
      "475:\tlearn: 0.4877952\ttest: 0.4618486\tbest: 0.4618469 (473)\ttotal: 1h 3m 53s\tremaining: 3h 24m 34s\n",
      "500:\tlearn: 0.4874194\ttest: 0.4614549\tbest: 0.4614549 (500)\ttotal: 1h 7m 11s\tremaining: 3h 21m 2s\n",
      "525:\tlearn: 0.4872039\ttest: 0.4613278\tbest: 0.4613278 (525)\ttotal: 1h 10m 23s\tremaining: 3h 17m 15s\n",
      "550:\tlearn: 0.4868627\ttest: 0.4610432\tbest: 0.4610432 (550)\ttotal: 1h 13m 32s\tremaining: 3h 13m 23s\n",
      "575:\tlearn: 0.4866158\ttest: 0.4608308\tbest: 0.4608308 (575)\ttotal: 1h 16m 53s\tremaining: 3h 10m 5s\n",
      "600:\tlearn: 0.4864258\ttest: 0.4607281\tbest: 0.4607281 (600)\ttotal: 1h 20m 11s\tremaining: 3h 6m 39s\n",
      "625:\tlearn: 0.4860785\ttest: 0.4603912\tbest: 0.4603912 (625)\ttotal: 1h 23m 17s\tremaining: 3h 2m 48s\n",
      "650:\tlearn: 0.4857422\ttest: 0.4601053\tbest: 0.4601053 (650)\ttotal: 1h 26m 35s\tremaining: 2h 59m 25s\n",
      "675:\tlearn: 0.4854875\ttest: 0.4599333\tbest: 0.4599333 (675)\ttotal: 1h 29m 46s\tremaining: 2h 55m 49s\n",
      "700:\tlearn: 0.4853700\ttest: 0.4598912\tbest: 0.4598912 (700)\ttotal: 1h 32m 59s\tremaining: 2h 52m 19s\n",
      "725:\tlearn: 0.4851771\ttest: 0.4597472\tbest: 0.4597472 (725)\ttotal: 1h 36m 2s\tremaining: 2h 48m 31s\n",
      "750:\tlearn: 0.4850074\ttest: 0.4596346\tbest: 0.4596346 (750)\ttotal: 1h 39m 15s\tremaining: 2h 45m 4s\n",
      "775:\tlearn: 0.4847634\ttest: 0.4594502\tbest: 0.4594502 (775)\ttotal: 1h 42m 22s\tremaining: 2h 41m 28s\n",
      "800:\tlearn: 0.4843254\ttest: 0.4590056\tbest: 0.4590056 (800)\ttotal: 1h 45m 40s\tremaining: 2h 38m 10s\n",
      "825:\tlearn: 0.4841548\ttest: 0.4588853\tbest: 0.4588849 (823)\ttotal: 1h 48m 46s\tremaining: 2h 34m 35s\n",
      "850:\tlearn: 0.4840004\ttest: 0.4588275\tbest: 0.4588275 (850)\ttotal: 1h 52m 7s\tremaining: 2h 31m 23s\n",
      "875:\tlearn: 0.4837089\ttest: 0.4585569\tbest: 0.4585520 (871)\ttotal: 1h 55m 16s\tremaining: 2h 27m 54s\n",
      "900:\tlearn: 0.4834690\ttest: 0.4583638\tbest: 0.4583617 (897)\ttotal: 1h 58m 34s\tremaining: 2h 24m 38s\n",
      "925:\tlearn: 0.4831317\ttest: 0.4580330\tbest: 0.4580330 (925)\ttotal: 2h 1m 55s\tremaining: 2h 21m 25s\n",
      "950:\tlearn: 0.4829261\ttest: 0.4578687\tbest: 0.4578637 (947)\ttotal: 2h 5m 12s\tremaining: 2h 18m 6s\n",
      "975:\tlearn: 0.4827296\ttest: 0.4577681\tbest: 0.4577681 (975)\ttotal: 2h 8m 19s\tremaining: 2h 14m 38s\n",
      "1000:\tlearn: 0.4825582\ttest: 0.4576426\tbest: 0.4576401 (996)\ttotal: 2h 11m 28s\tremaining: 2h 11m 12s\n",
      "1025:\tlearn: 0.4823474\ttest: 0.4574711\tbest: 0.4574704 (1023)\ttotal: 2h 14m 39s\tremaining: 2h 7m 50s\n",
      "1050:\tlearn: 0.4822281\ttest: 0.4574331\tbest: 0.4574324 (1049)\ttotal: 2h 17m 57s\tremaining: 2h 4m 34s\n",
      "1075:\tlearn: 0.4820453\ttest: 0.4573079\tbest: 0.4573074 (1074)\ttotal: 2h 21m 8s\tremaining: 2h 1m 12s\n",
      "1100:\tlearn: 0.4819189\ttest: 0.4572669\tbest: 0.4572659 (1099)\ttotal: 2h 24m 10s\tremaining: 1h 57m 43s\n",
      "1125:\tlearn: 0.4817597\ttest: 0.4571593\tbest: 0.4571593 (1125)\ttotal: 2h 27m 19s\tremaining: 1h 54m 21s\n",
      "1150:\tlearn: 0.4815626\ttest: 0.4569962\tbest: 0.4569951 (1149)\ttotal: 2h 30m 29s\tremaining: 1h 51m\n",
      "1175:\tlearn: 0.4814510\ttest: 0.4569607\tbest: 0.4569597 (1174)\ttotal: 2h 33m 36s\tremaining: 1h 47m 38s\n",
      "1200:\tlearn: 0.4811239\ttest: 0.4566032\tbest: 0.4566032 (1200)\ttotal: 2h 36m 38s\tremaining: 1h 44m 12s\n",
      "1225:\tlearn: 0.4810055\ttest: 0.4565665\tbest: 0.4565641 (1223)\ttotal: 2h 39m 59s\tremaining: 1h 41m\n",
      "1250:\tlearn: 0.4808209\ttest: 0.4564384\tbest: 0.4564336 (1246)\ttotal: 2h 43m 14s\tremaining: 1h 37m 43s\n",
      "1275:\tlearn: 0.4805690\ttest: 0.4562261\tbest: 0.4562258 (1274)\ttotal: 2h 46m 18s\tremaining: 1h 34m 22s\n",
      "1300:\tlearn: 0.4804541\ttest: 0.4561995\tbest: 0.4561995 (1300)\ttotal: 2h 49m 31s\tremaining: 1h 31m 5s\n",
      "Stopped by overfitting detector  (10 iterations wait)\n",
      "\n",
      "bestTest = 0.4561401071\n",
      "bestIteration = 1310\n",
      "\n",
      "Shrink model to first 1311 iterations.\n"
     ]
    }
   ],
   "source": [
    "# Full dataset\n",
    "model_cb, pred_val_y = run_cb(train_X, train_y['target'], val_X, val_y['target'], cat_features,\n",
    "                              iterations=2000, learning_rate=0.3)"
   ]
  },
  {
   "cell_type": "code",
   "execution_count": 7,
   "metadata": {},
   "outputs": [
    {
     "name": "stdout",
     "output_type": "stream",
     "text": [
      "              precision    recall  f1-score   support\n",
      "\n",
      "         0.0       0.78      0.79      0.78    732500\n",
      "         1.0       0.79      0.78      0.78    742961\n",
      "\n",
      "   micro avg       0.78      0.78      0.78   1475461\n",
      "   macro avg       0.78      0.78      0.78   1475461\n",
      "weighted avg       0.78      0.78      0.78   1475461\n",
      "\n",
      "0.7817807913913396\n"
     ]
    }
   ],
   "source": [
    "#Analysis\n",
    "print(classification_report(val_y['target'], pred_val_y>0.5))\n",
    "print(roc_auc_score(val_y['target'],pred_val_y))"
   ]
  },
  {
   "cell_type": "code",
   "execution_count": 8,
   "metadata": {},
   "outputs": [
    {
     "name": "stdout",
     "output_type": "stream",
     "text": [
      "              precision    recall  f1-score   support\n",
      "\n",
      "         0.0       0.78      0.79      0.78    732814\n",
      "         1.0       0.79      0.78      0.78    742647\n",
      "\n",
      "   micro avg       0.78      0.78      0.78   1475461\n",
      "   macro avg       0.78      0.78      0.78   1475461\n",
      "weighted avg       0.78      0.78      0.78   1475461\n",
      "\n",
      "0.7822849047973764\n"
     ]
    }
   ],
   "source": [
    "pred_test_y = model_cb.predict(test_X)\n",
    "print(classification_report(test_y['target'], pred_test_y>0.5))\n",
    "print(roc_auc_score(test_y['target'],pred_test_y))"
   ]
  },
  {
   "cell_type": "code",
   "execution_count": 9,
   "metadata": {},
   "outputs": [],
   "source": [
    "#save results\n",
    "feat_imp = model_cb.get_feature_importance()\n",
    "np.savez('output/catboost_results.npz', val_target=val_y['target'], val_preds= pred_val_y,\n",
    "         test_target=test_y['target'], test_preds= pred_test_y, feature_importance = feat_imp)"
   ]
  },
  {
   "cell_type": "code",
   "execution_count": 10,
   "metadata": {
    "scrolled": true
   },
   "outputs": [
    {
     "data": {
      "text/plain": [
       "array([ 0.22045868, 12.08757098, 25.96270734,  8.28026767,  6.24937646,\n",
       "        3.04467856, 17.37165761,  0.50718669,  2.4003231 ,  7.06447148,\n",
       "        1.73862936,  2.03445932,  6.09314579,  0.29964326,  0.32316643,\n",
       "        0.21332816,  0.32438211,  3.46237783,  0.8278253 ,  1.49434386])"
      ]
     },
     "execution_count": 10,
     "metadata": {},
     "output_type": "execute_result"
    }
   ],
   "source": [
    "feat_imp"
   ]
  },
  {
   "cell_type": "code",
   "execution_count": 11,
   "metadata": {},
   "outputs": [
    {
     "data": {
      "text/plain": [
       "array([0., 1., 1., ..., 0., 0., 0.])"
      ]
     },
     "execution_count": 11,
     "metadata": {},
     "output_type": "execute_result"
    }
   ],
   "source": [
    "pred_test_y"
   ]
  },
  {
   "cell_type": "markdown",
   "metadata": {},
   "source": [
    "### Testing on Full Dataset (New data)"
   ]
  },
  {
   "cell_type": "code",
   "execution_count": 2,
   "metadata": {},
   "outputs": [],
   "source": [
    "train_X = pd.read_csv('new_data/new_train_X.csv')\n",
    "train_y = pd.read_csv('new_data/new_train_y.csv')\n",
    "\n",
    "val_X = pd.read_csv('new_data/new_valid_X.csv')\n",
    "val_y = pd.read_csv('new_data/new_valid_y.csv')\n",
    "\n",
    "test_X = pd.read_csv('new_data/new_test_X.csv')\n",
    "test_y = pd.read_csv('new_data/new_test_y.csv')"
   ]
  },
  {
   "cell_type": "code",
   "execution_count": 3,
   "metadata": {},
   "outputs": [],
   "source": [
    "cluster_train_X = pd.read_csv('new_data/cluster_train_X.csv')\n",
    "cluster_val_X = pd.read_csv('new_data/cluster_valid_X.csv')\n",
    "cluster_test_X = pd.read_csv('new_data/cluster_test_X.csv')"
   ]
  },
  {
   "cell_type": "code",
   "execution_count": 52,
   "metadata": {},
   "outputs": [
    {
     "data": {
      "text/html": [
       "<div>\n",
       "<style scoped>\n",
       "    .dataframe tbody tr th:only-of-type {\n",
       "        vertical-align: middle;\n",
       "    }\n",
       "\n",
       "    .dataframe tbody tr th {\n",
       "        vertical-align: top;\n",
       "    }\n",
       "\n",
       "    .dataframe thead th {\n",
       "        text-align: right;\n",
       "    }\n",
       "</style>\n",
       "<table border=\"1\" class=\"dataframe\">\n",
       "  <thead>\n",
       "    <tr style=\"text-align: right;\">\n",
       "      <th></th>\n",
       "      <th>Unnamed: 0</th>\n",
       "      <th>Unnamed: 0.1</th>\n",
       "      <th>msno</th>\n",
       "      <th>song_id</th>\n",
       "      <th>source_screen_name</th>\n",
       "      <th>source_system_tab</th>\n",
       "      <th>source_type</th>\n",
       "      <th>song_length</th>\n",
       "      <th>genre_ids</th>\n",
       "      <th>artist_name</th>\n",
       "      <th>composer</th>\n",
       "      <th>lyricist</th>\n",
       "      <th>language</th>\n",
       "      <th>city</th>\n",
       "      <th>bd</th>\n",
       "      <th>gender</th>\n",
       "      <th>registered_via</th>\n",
       "      <th>time</th>\n",
       "      <th>registration_init_time_int</th>\n",
       "      <th>expiration_date_int</th>\n",
       "    </tr>\n",
       "  </thead>\n",
       "  <tbody>\n",
       "    <tr>\n",
       "      <th>0</th>\n",
       "      <td>2971195</td>\n",
       "      <td>4410275</td>\n",
       "      <td>19953</td>\n",
       "      <td>290929</td>\n",
       "      <td>4</td>\n",
       "      <td>0</td>\n",
       "      <td>7</td>\n",
       "      <td>227631.0</td>\n",
       "      <td>548</td>\n",
       "      <td>7701</td>\n",
       "      <td>29509</td>\n",
       "      <td>11455</td>\n",
       "      <td>6</td>\n",
       "      <td>0</td>\n",
       "      <td>0</td>\n",
       "      <td>2</td>\n",
       "      <td>2</td>\n",
       "      <td>0.443948</td>\n",
       "      <td>5671</td>\n",
       "      <td>6482</td>\n",
       "    </tr>\n",
       "    <tr>\n",
       "      <th>1</th>\n",
       "      <td>543856</td>\n",
       "      <td>3016976</td>\n",
       "      <td>1574</td>\n",
       "      <td>234767</td>\n",
       "      <td>3</td>\n",
       "      <td>0</td>\n",
       "      <td>7</td>\n",
       "      <td>226069.0</td>\n",
       "      <td>371</td>\n",
       "      <td>2742</td>\n",
       "      <td>5696</td>\n",
       "      <td>26024</td>\n",
       "      <td>9</td>\n",
       "      <td>13</td>\n",
       "      <td>36</td>\n",
       "      <td>0</td>\n",
       "      <td>0</td>\n",
       "      <td>0.303696</td>\n",
       "      <td>4732</td>\n",
       "      <td>6532</td>\n",
       "    </tr>\n",
       "    <tr>\n",
       "      <th>2</th>\n",
       "      <td>3077911</td>\n",
       "      <td>1936206</td>\n",
       "      <td>5432</td>\n",
       "      <td>90102</td>\n",
       "      <td>18</td>\n",
       "      <td>7</td>\n",
       "      <td>7</td>\n",
       "      <td>246256.0</td>\n",
       "      <td>371</td>\n",
       "      <td>20609</td>\n",
       "      <td>20790</td>\n",
       "      <td>6777</td>\n",
       "      <td>9</td>\n",
       "      <td>2</td>\n",
       "      <td>22</td>\n",
       "      <td>1</td>\n",
       "      <td>0</td>\n",
       "      <td>0.194903</td>\n",
       "      <td>5519</td>\n",
       "      <td>6480</td>\n",
       "    </tr>\n",
       "    <tr>\n",
       "      <th>3</th>\n",
       "      <td>1160706</td>\n",
       "      <td>4269820</td>\n",
       "      <td>30083</td>\n",
       "      <td>206348</td>\n",
       "      <td>22</td>\n",
       "      <td>0</td>\n",
       "      <td>11</td>\n",
       "      <td>229041.0</td>\n",
       "      <td>364</td>\n",
       "      <td>43437</td>\n",
       "      <td>63250</td>\n",
       "      <td>26024</td>\n",
       "      <td>2</td>\n",
       "      <td>0</td>\n",
       "      <td>0</td>\n",
       "      <td>2</td>\n",
       "      <td>2</td>\n",
       "      <td>0.429810</td>\n",
       "      <td>5997</td>\n",
       "      <td>6319</td>\n",
       "    </tr>\n",
       "    <tr>\n",
       "      <th>4</th>\n",
       "      <td>1796776</td>\n",
       "      <td>526083</td>\n",
       "      <td>9703</td>\n",
       "      <td>161841</td>\n",
       "      <td>16</td>\n",
       "      <td>6</td>\n",
       "      <td>8</td>\n",
       "      <td>312450.0</td>\n",
       "      <td>371</td>\n",
       "      <td>44848</td>\n",
       "      <td>29258</td>\n",
       "      <td>9600</td>\n",
       "      <td>2</td>\n",
       "      <td>20</td>\n",
       "      <td>36</td>\n",
       "      <td>1</td>\n",
       "      <td>3</td>\n",
       "      <td>0.052957</td>\n",
       "      <td>4577</td>\n",
       "      <td>6486</td>\n",
       "    </tr>\n",
       "  </tbody>\n",
       "</table>\n",
       "</div>"
      ],
      "text/plain": [
       "   Unnamed: 0  Unnamed: 0.1   msno  song_id  source_screen_name  \\\n",
       "0     2971195       4410275  19953   290929                   4   \n",
       "1      543856       3016976   1574   234767                   3   \n",
       "2     3077911       1936206   5432    90102                  18   \n",
       "3     1160706       4269820  30083   206348                  22   \n",
       "4     1796776        526083   9703   161841                  16   \n",
       "\n",
       "   source_system_tab  source_type  song_length  genre_ids  artist_name  \\\n",
       "0                  0            7     227631.0        548         7701   \n",
       "1                  0            7     226069.0        371         2742   \n",
       "2                  7            7     246256.0        371        20609   \n",
       "3                  0           11     229041.0        364        43437   \n",
       "4                  6            8     312450.0        371        44848   \n",
       "\n",
       "   composer  lyricist  language  city  bd  gender  registered_via      time  \\\n",
       "0     29509     11455         6     0   0       2               2  0.443948   \n",
       "1      5696     26024         9    13  36       0               0  0.303696   \n",
       "2     20790      6777         9     2  22       1               0  0.194903   \n",
       "3     63250     26024         2     0   0       2               2  0.429810   \n",
       "4     29258      9600         2    20  36       1               3  0.052957   \n",
       "\n",
       "   registration_init_time_int  expiration_date_int  \n",
       "0                        5671                 6482  \n",
       "1                        4732                 6532  \n",
       "2                        5519                 6480  \n",
       "3                        5997                 6319  \n",
       "4                        4577                 6486  "
      ]
     },
     "execution_count": 52,
     "metadata": {},
     "output_type": "execute_result"
    }
   ],
   "source": [
    "train_X.head()"
   ]
  },
  {
   "cell_type": "code",
   "execution_count": 57,
   "metadata": {},
   "outputs": [
    {
     "data": {
      "text/html": [
       "<div>\n",
       "<style scoped>\n",
       "    .dataframe tbody tr th:only-of-type {\n",
       "        vertical-align: middle;\n",
       "    }\n",
       "\n",
       "    .dataframe tbody tr th {\n",
       "        vertical-align: top;\n",
       "    }\n",
       "\n",
       "    .dataframe thead th {\n",
       "        text-align: right;\n",
       "    }\n",
       "</style>\n",
       "<table border=\"1\" class=\"dataframe\">\n",
       "  <thead>\n",
       "    <tr style=\"text-align: right;\">\n",
       "      <th></th>\n",
       "      <th>Unnamed: 0</th>\n",
       "      <th>Unnamed: 0.1</th>\n",
       "      <th>song_length</th>\n",
       "      <th>registered_via</th>\n",
       "      <th>time</th>\n",
       "      <th>registration_init_time_int</th>\n",
       "      <th>expiration_date_int</th>\n",
       "      <th>song_cluster</th>\n",
       "      <th>ui_cluster</th>\n",
       "    </tr>\n",
       "  </thead>\n",
       "  <tbody>\n",
       "    <tr>\n",
       "      <th>0</th>\n",
       "      <td>2971195</td>\n",
       "      <td>4410275</td>\n",
       "      <td>227631.0</td>\n",
       "      <td>2</td>\n",
       "      <td>0.443948</td>\n",
       "      <td>5671</td>\n",
       "      <td>6482</td>\n",
       "      <td>6</td>\n",
       "      <td>2</td>\n",
       "    </tr>\n",
       "    <tr>\n",
       "      <th>1</th>\n",
       "      <td>543856</td>\n",
       "      <td>3016976</td>\n",
       "      <td>226069.0</td>\n",
       "      <td>0</td>\n",
       "      <td>0.303696</td>\n",
       "      <td>4732</td>\n",
       "      <td>6532</td>\n",
       "      <td>12</td>\n",
       "      <td>2</td>\n",
       "    </tr>\n",
       "    <tr>\n",
       "      <th>2</th>\n",
       "      <td>3077911</td>\n",
       "      <td>1936206</td>\n",
       "      <td>246256.0</td>\n",
       "      <td>0</td>\n",
       "      <td>0.194903</td>\n",
       "      <td>5519</td>\n",
       "      <td>6480</td>\n",
       "      <td>12</td>\n",
       "      <td>2</td>\n",
       "    </tr>\n",
       "    <tr>\n",
       "      <th>3</th>\n",
       "      <td>1160706</td>\n",
       "      <td>4269820</td>\n",
       "      <td>229041.0</td>\n",
       "      <td>2</td>\n",
       "      <td>0.429810</td>\n",
       "      <td>5997</td>\n",
       "      <td>6319</td>\n",
       "      <td>5</td>\n",
       "      <td>2</td>\n",
       "    </tr>\n",
       "    <tr>\n",
       "      <th>4</th>\n",
       "      <td>1796776</td>\n",
       "      <td>526083</td>\n",
       "      <td>312450.0</td>\n",
       "      <td>3</td>\n",
       "      <td>0.052957</td>\n",
       "      <td>4577</td>\n",
       "      <td>6486</td>\n",
       "      <td>2</td>\n",
       "      <td>1</td>\n",
       "    </tr>\n",
       "  </tbody>\n",
       "</table>\n",
       "</div>"
      ],
      "text/plain": [
       "   Unnamed: 0  Unnamed: 0.1  song_length  registered_via      time  \\\n",
       "0     2971195       4410275     227631.0               2  0.443948   \n",
       "1      543856       3016976     226069.0               0  0.303696   \n",
       "2     3077911       1936206     246256.0               0  0.194903   \n",
       "3     1160706       4269820     229041.0               2  0.429810   \n",
       "4     1796776        526083     312450.0               3  0.052957   \n",
       "\n",
       "   registration_init_time_int  expiration_date_int  song_cluster  ui_cluster  \n",
       "0                        5671                 6482             6           2  \n",
       "1                        4732                 6532            12           2  \n",
       "2                        5519                 6480            12           2  \n",
       "3                        5997                 6319             5           2  \n",
       "4                        4577                 6486             2           1  "
      ]
     },
     "execution_count": 57,
     "metadata": {},
     "output_type": "execute_result"
    }
   ],
   "source": [
    "cluster_train_X_reduced.head()"
   ]
  },
  {
   "cell_type": "code",
   "execution_count": 4,
   "metadata": {},
   "outputs": [
    {
     "data": {
      "text/plain": [
       "10000"
      ]
     },
     "execution_count": 4,
     "metadata": {},
     "output_type": "execute_result"
    }
   ],
   "source": [
    "train_X_sample = train_X[:10000]\n",
    "train_y_sample = train_y[:10000]\n",
    "len(train_X_sample)"
   ]
  },
  {
   "cell_type": "code",
   "execution_count": 14,
   "metadata": {},
   "outputs": [],
   "source": [
    "def run_cb(train_X, train_y, val_X, val_y, cat_features, **kwards):\n",
    "    print(kwargs)\n",
    "    \n",
    "    model_cb = cb.CatBoostClassifier(\n",
    "        loss_function='Logloss',\n",
    "        thread_count=30,\n",
    "        random_seed=229,\n",
    "        use_best_model = True,\n",
    "        l2_leaf_reg = 2,\n",
    "        **kwargs\n",
    "    )\n",
    "    \n",
    "    eval_dataset = Pool(val_X,val_y,cat_features=cat_features)\n",
    "    \n",
    "    model = model_cb.fit(train_X, train_y, cat_features, eval_set=eval_dataset,\n",
    "                         verbose_eval=25, early_stopping_rounds = 10)\n",
    "\n",
    "    pred_val_y = model.predict(val_X)\n",
    "    return model, pred_val_y"
   ]
  },
  {
   "cell_type": "code",
   "execution_count": 15,
   "metadata": {},
   "outputs": [
    {
     "name": "stdout",
     "output_type": "stream",
     "text": [
      "{'iterations': 2000, 'learning_rate': 0.1, 'depth': 6, 'grow_policy': 'Depthwise'}\n"
     ]
    },
    {
     "ename": "CatBoostError",
     "evalue": "catboost/libs/options/json_helper.h:223: Error: change of option grow_policy is unimplemented for task type CPU and was not default in previous run",
     "output_type": "error",
     "traceback": [
      "\u001b[0;31m---------------------------------------------------------------------------\u001b[0m",
      "\u001b[0;31mCatBoostError\u001b[0m                             Traceback (most recent call last)",
      "\u001b[0;32m<ipython-input-15-1d4cf431fdb6>\u001b[0m in \u001b[0;36m<module>\u001b[0;34m\u001b[0m\n\u001b[1;32m      1\u001b[0m \u001b[0mkwargs\u001b[0m\u001b[0;34m=\u001b[0m\u001b[0;34m{\u001b[0m\u001b[0;34m'iterations'\u001b[0m\u001b[0;34m:\u001b[0m \u001b[0;36m2000\u001b[0m\u001b[0;34m,\u001b[0m \u001b[0;34m'learning_rate'\u001b[0m\u001b[0;34m:\u001b[0m \u001b[0;36m0.1\u001b[0m\u001b[0;34m,\u001b[0m \u001b[0;34m'depth'\u001b[0m\u001b[0;34m:\u001b[0m \u001b[0;36m6\u001b[0m\u001b[0;34m,\u001b[0m \u001b[0;34m'grow_policy'\u001b[0m\u001b[0;34m:\u001b[0m \u001b[0;34m'Depthwise'\u001b[0m\u001b[0;34m}\u001b[0m\u001b[0;34m\u001b[0m\u001b[0m\n\u001b[0;32m----> 2\u001b[0;31m \u001b[0mmodel_cb\u001b[0m\u001b[0;34m,\u001b[0m \u001b[0mpred_val_y\u001b[0m \u001b[0;34m=\u001b[0m \u001b[0mrun_cb\u001b[0m\u001b[0;34m(\u001b[0m\u001b[0mtrain_X_sample\u001b[0m\u001b[0;34m,\u001b[0m \u001b[0mtrain_y_sample\u001b[0m\u001b[0;34m[\u001b[0m\u001b[0;34m'target'\u001b[0m\u001b[0;34m]\u001b[0m\u001b[0;34m,\u001b[0m \u001b[0mval_X\u001b[0m\u001b[0;34m,\u001b[0m \u001b[0mval_y\u001b[0m\u001b[0;34m[\u001b[0m\u001b[0;34m'target'\u001b[0m\u001b[0;34m]\u001b[0m\u001b[0;34m,\u001b[0m \u001b[0mcat_features\u001b[0m\u001b[0;34m,\u001b[0m \u001b[0;34m**\u001b[0m\u001b[0mkwargs\u001b[0m\u001b[0;34m)\u001b[0m\u001b[0;34m\u001b[0m\u001b[0m\n\u001b[0m\u001b[1;32m      3\u001b[0m \u001b[0;34m\u001b[0m\u001b[0m\n\u001b[1;32m      4\u001b[0m \u001b[0mprint\u001b[0m\u001b[0;34m(\u001b[0m\u001b[0;34m\"====== Validation ======\"\u001b[0m\u001b[0;34m)\u001b[0m\u001b[0;34m\u001b[0m\u001b[0m\n\u001b[1;32m      5\u001b[0m \u001b[0mprint\u001b[0m\u001b[0;34m(\u001b[0m\u001b[0mclassification_report\u001b[0m\u001b[0;34m(\u001b[0m\u001b[0mval_y\u001b[0m\u001b[0;34m[\u001b[0m\u001b[0;34m'target'\u001b[0m\u001b[0;34m]\u001b[0m\u001b[0;34m,\u001b[0m \u001b[0mpred_val_y\u001b[0m\u001b[0;34m>\u001b[0m\u001b[0;36m0.5\u001b[0m\u001b[0;34m)\u001b[0m\u001b[0;34m)\u001b[0m\u001b[0;34m\u001b[0m\u001b[0m\n",
      "\u001b[0;32m<ipython-input-14-add8a6121ea5>\u001b[0m in \u001b[0;36mrun_cb\u001b[0;34m(train_X, train_y, val_X, val_y, cat_features, **kwards)\u001b[0m\n\u001b[1;32m     14\u001b[0m \u001b[0;34m\u001b[0m\u001b[0m\n\u001b[1;32m     15\u001b[0m     model = model_cb.fit(train_X, train_y, cat_features, eval_set=eval_dataset,\n\u001b[0;32m---> 16\u001b[0;31m                          verbose_eval=25, early_stopping_rounds = 10)\n\u001b[0m\u001b[1;32m     17\u001b[0m \u001b[0;34m\u001b[0m\u001b[0m\n\u001b[1;32m     18\u001b[0m     \u001b[0mpred_val_y\u001b[0m \u001b[0;34m=\u001b[0m \u001b[0mmodel\u001b[0m\u001b[0;34m.\u001b[0m\u001b[0mpredict\u001b[0m\u001b[0;34m(\u001b[0m\u001b[0mval_X\u001b[0m\u001b[0;34m)\u001b[0m\u001b[0;34m\u001b[0m\u001b[0m\n",
      "\u001b[0;32m/opt/anaconda3/lib/python3.7/site-packages/catboost/core.py\u001b[0m in \u001b[0;36mfit\u001b[0;34m(self, X, y, cat_features, sample_weight, baseline, use_best_model, eval_set, verbose, logging_level, plot, column_description, verbose_eval, metric_period, silent, early_stopping_rounds, save_snapshot, snapshot_file, snapshot_interval, init_model)\u001b[0m\n\u001b[1;32m   2801\u001b[0m         self._fit(X, y, cat_features, None, sample_weight, None, None, None, None, baseline, use_best_model,\n\u001b[1;32m   2802\u001b[0m                   \u001b[0meval_set\u001b[0m\u001b[0;34m,\u001b[0m \u001b[0mverbose\u001b[0m\u001b[0;34m,\u001b[0m \u001b[0mlogging_level\u001b[0m\u001b[0;34m,\u001b[0m \u001b[0mplot\u001b[0m\u001b[0;34m,\u001b[0m \u001b[0mcolumn_description\u001b[0m\u001b[0;34m,\u001b[0m \u001b[0mverbose_eval\u001b[0m\u001b[0;34m,\u001b[0m \u001b[0mmetric_period\u001b[0m\u001b[0;34m,\u001b[0m\u001b[0;34m\u001b[0m\u001b[0m\n\u001b[0;32m-> 2803\u001b[0;31m                   silent, early_stopping_rounds, save_snapshot, snapshot_file, snapshot_interval, init_model)\n\u001b[0m\u001b[1;32m   2804\u001b[0m         \u001b[0;32mreturn\u001b[0m \u001b[0mself\u001b[0m\u001b[0;34m\u001b[0m\u001b[0m\n\u001b[1;32m   2805\u001b[0m \u001b[0;34m\u001b[0m\u001b[0m\n",
      "\u001b[0;32m/opt/anaconda3/lib/python3.7/site-packages/catboost/core.py\u001b[0m in \u001b[0;36m_fit\u001b[0;34m(self, X, y, cat_features, pairs, sample_weight, group_id, group_weight, subgroup_id, pairs_weight, baseline, use_best_model, eval_set, verbose, logging_level, plot, column_description, verbose_eval, metric_period, silent, early_stopping_rounds, save_snapshot, snapshot_file, snapshot_interval, init_model)\u001b[0m\n\u001b[1;32m   1229\u001b[0m         \u001b[0m_check_param_types\u001b[0m\u001b[0;34m(\u001b[0m\u001b[0mparams\u001b[0m\u001b[0;34m)\u001b[0m\u001b[0;34m\u001b[0m\u001b[0m\n\u001b[1;32m   1230\u001b[0m         \u001b[0mparams\u001b[0m \u001b[0;34m=\u001b[0m \u001b[0m_params_type_cast\u001b[0m\u001b[0;34m(\u001b[0m\u001b[0mparams\u001b[0m\u001b[0;34m)\u001b[0m\u001b[0;34m\u001b[0m\u001b[0m\n\u001b[0;32m-> 1231\u001b[0;31m         \u001b[0m_check_train_params\u001b[0m\u001b[0;34m(\u001b[0m\u001b[0mparams\u001b[0m\u001b[0;34m)\u001b[0m\u001b[0;34m\u001b[0m\u001b[0m\n\u001b[0m\u001b[1;32m   1232\u001b[0m \u001b[0;34m\u001b[0m\u001b[0m\n\u001b[1;32m   1233\u001b[0m         \u001b[0mtrain_pool\u001b[0m \u001b[0;34m=\u001b[0m \u001b[0m_build_train_pool\u001b[0m\u001b[0;34m(\u001b[0m\u001b[0mX\u001b[0m\u001b[0;34m,\u001b[0m \u001b[0my\u001b[0m\u001b[0;34m,\u001b[0m \u001b[0mcat_features\u001b[0m\u001b[0;34m,\u001b[0m \u001b[0mpairs\u001b[0m\u001b[0;34m,\u001b[0m \u001b[0msample_weight\u001b[0m\u001b[0;34m,\u001b[0m \u001b[0mgroup_id\u001b[0m\u001b[0;34m,\u001b[0m \u001b[0mgroup_weight\u001b[0m\u001b[0;34m,\u001b[0m \u001b[0msubgroup_id\u001b[0m\u001b[0;34m,\u001b[0m \u001b[0mpairs_weight\u001b[0m\u001b[0;34m,\u001b[0m \u001b[0mbaseline\u001b[0m\u001b[0;34m,\u001b[0m \u001b[0mcolumn_description\u001b[0m\u001b[0;34m)\u001b[0m\u001b[0;34m\u001b[0m\u001b[0m\n",
      "\u001b[0;32m_catboost.pyx\u001b[0m in \u001b[0;36m_catboost._check_train_params\u001b[0;34m()\u001b[0m\n",
      "\u001b[0;32m_catboost.pyx\u001b[0m in \u001b[0;36m_catboost._check_train_params\u001b[0;34m()\u001b[0m\n",
      "\u001b[0;31mCatBoostError\u001b[0m: catboost/libs/options/json_helper.h:223: Error: change of option grow_policy is unimplemented for task type CPU and was not default in previous run"
     ]
    }
   ],
   "source": [
    "kwargs={'iterations': 2000, 'learning_rate': 0.1, 'depth': 6, 'grow_policy': 'Depthwise'}\n",
    "model_cb, pred_val_y = run_cb(train_X_sample, train_y_sample['target'], val_X, val_y['target'], cat_features, **kwargs)\n",
    "\n",
    "print(\"====== Validation ======\")\n",
    "print(classification_report(val_y['target'], pred_val_y>0.5))\n",
    "print(roc_auc_score(val_y['target'],pred_val_y))\n",
    "\n",
    "print(\"====== Test ======\")\n",
    "pred_test_y = model_cb.predict(test_X)\n",
    "print(classification_report(test_y['target'], pred_test_y>0.5))\n",
    "print(roc_auc_score(test_y['target'], pred_test_y))"
   ]
  },
  {
   "cell_type": "code",
   "execution_count": 16,
   "metadata": {},
   "outputs": [
    {
     "name": "stdout",
     "output_type": "stream",
     "text": [
      "{'iterations': 2000, 'learning_rate': 0.3, 'depth': 6}\n",
      "0:\tlearn: 0.6274706\ttest: 0.6232051\tbest: 0.6232051 (0)\ttotal: 1.3s\tremaining: 43m 22s\n",
      "25:\tlearn: 0.5092070\ttest: 0.4878547\tbest: 0.4878547 (25)\ttotal: 22s\tremaining: 27m 49s\n",
      "50:\tlearn: 0.5012721\ttest: 0.4801034\tbest: 0.4801034 (50)\ttotal: 42.1s\tremaining: 26m 48s\n",
      "75:\tlearn: 0.4970894\ttest: 0.4755828\tbest: 0.4755828 (75)\ttotal: 1m 2s\tremaining: 26m 17s\n",
      "100:\tlearn: 0.4941539\ttest: 0.4726991\tbest: 0.4726991 (100)\ttotal: 1m 22s\tremaining: 25m 47s\n",
      "125:\tlearn: 0.4915802\ttest: 0.4705364\tbest: 0.4705364 (125)\ttotal: 1m 42s\tremaining: 25m 17s\n",
      "150:\tlearn: 0.4898084\ttest: 0.4691844\tbest: 0.4691844 (150)\ttotal: 2m 1s\tremaining: 24m 51s\n",
      "175:\tlearn: 0.4884625\ttest: 0.4683720\tbest: 0.4683720 (175)\ttotal: 2m 21s\tremaining: 24m 23s\n",
      "200:\tlearn: 0.4872431\ttest: 0.4678459\tbest: 0.4678459 (200)\ttotal: 2m 40s\tremaining: 23m 54s\n",
      "225:\tlearn: 0.4852771\ttest: 0.4663719\tbest: 0.4663719 (225)\ttotal: 2m 59s\tremaining: 23m 32s\n",
      "250:\tlearn: 0.4842119\ttest: 0.4658932\tbest: 0.4658932 (250)\ttotal: 3m 19s\tremaining: 23m 8s\n",
      "275:\tlearn: 0.4828148\ttest: 0.4650171\tbest: 0.4650171 (275)\ttotal: 3m 38s\tremaining: 22m 44s\n",
      "300:\tlearn: 0.4814225\ttest: 0.4638726\tbest: 0.4638726 (300)\ttotal: 3m 57s\tremaining: 22m 22s\n",
      "325:\tlearn: 0.4805219\ttest: 0.4635080\tbest: 0.4635053 (324)\ttotal: 4m 17s\tremaining: 22m 3s\n",
      "350:\tlearn: 0.4793991\ttest: 0.4630660\tbest: 0.4630660 (350)\ttotal: 4m 37s\tremaining: 21m 43s\n",
      "375:\tlearn: 0.4784589\ttest: 0.4626183\tbest: 0.4626183 (375)\ttotal: 4m 56s\tremaining: 21m 21s\n",
      "400:\tlearn: 0.4776182\ttest: 0.4624391\tbest: 0.4624203 (392)\ttotal: 5m 16s\tremaining: 21m 2s\n",
      "425:\tlearn: 0.4769527\ttest: 0.4623755\tbest: 0.4623628 (423)\ttotal: 5m 35s\tremaining: 20m 41s\n",
      "450:\tlearn: 0.4762323\ttest: 0.4622640\tbest: 0.4622407 (446)\ttotal: 5m 55s\tremaining: 20m 19s\n",
      "475:\tlearn: 0.4754165\ttest: 0.4619538\tbest: 0.4619395 (470)\ttotal: 6m 14s\tremaining: 19m 59s\n",
      "500:\tlearn: 0.4745710\ttest: 0.4617929\tbest: 0.4617929 (500)\ttotal: 6m 34s\tremaining: 19m 39s\n",
      "Stopped by overfitting detector  (10 iterations wait)\n",
      "\n",
      "bestTest = 0.4617929207\n",
      "bestIteration = 500\n",
      "\n",
      "Shrink model to first 501 iterations.\n"
     ]
    }
   ],
   "source": [
    "# Full dataset\n",
    "kwargs={'iterations': 2000, 'learning_rate': 0.3, 'depth': 6}\n",
    "model_cb, pred_val_y = run_cb(train_X, train_y['target'], val_X, val_y['target'], cat_features, **kwargs)"
   ]
  },
  {
   "cell_type": "code",
   "execution_count": 18,
   "metadata": {},
   "outputs": [
    {
     "data": {
      "text/plain": [
       "array([1., 1., 1., ..., 1., 1., 1.])"
      ]
     },
     "execution_count": 18,
     "metadata": {},
     "output_type": "execute_result"
    }
   ],
   "source": [
    "pred_val_y"
   ]
  },
  {
   "cell_type": "code",
   "execution_count": 17,
   "metadata": {},
   "outputs": [
    {
     "name": "stdout",
     "output_type": "stream",
     "text": [
      "====== Validation ======\n",
      "              precision    recall  f1-score   support\n",
      "\n",
      "         0.0       0.77      0.79      0.78     45023\n",
      "         1.0       0.79      0.77      0.78     46757\n",
      "\n",
      "   micro avg       0.78      0.78      0.78     91780\n",
      "   macro avg       0.78      0.78      0.78     91780\n",
      "weighted avg       0.78      0.78      0.78     91780\n",
      "\n",
      "0.7791967416657036\n",
      "====== Test ======\n",
      "              precision    recall  f1-score   support\n",
      "\n",
      "         0.0       0.77      0.78      0.78     45095\n",
      "         1.0       0.79      0.77      0.78     46685\n",
      "\n",
      "   micro avg       0.78      0.78      0.78     91780\n",
      "   macro avg       0.78      0.78      0.78     91780\n",
      "weighted avg       0.78      0.78      0.78     91780\n",
      "\n",
      "0.7785385613224058\n"
     ]
    }
   ],
   "source": [
    "#Analysis\n",
    "print('====== Validation ======')\n",
    "print(classification_report(val_y['target'], pred_val_y>0.5))\n",
    "print(roc_auc_score(val_y['target'],pred_val_y))\n",
    "\n",
    "print('====== Test ======')\n",
    "pred_test_y = model_cb.predict(test_X)\n",
    "print(classification_report(test_y['target'], pred_test_y>0.5))\n",
    "print(roc_auc_score(test_y['target'],pred_test_y))"
   ]
  },
  {
   "cell_type": "code",
   "execution_count": 110,
   "metadata": {},
   "outputs": [
    {
     "name": "stdout",
     "output_type": "stream",
     "text": [
      "              precision    recall  f1-score   support\n",
      "\n",
      "         0.0       0.71      0.72      0.72     45095\n",
      "         1.0       0.73      0.72      0.72     46685\n",
      "\n",
      "   micro avg       0.72      0.72      0.72     91780\n",
      "   macro avg       0.72      0.72      0.72     91780\n",
      "weighted avg       0.72      0.72      0.72     91780\n",
      "\n",
      "0.7198437549336987\n"
     ]
    }
   ],
   "source": []
  },
  {
   "cell_type": "code",
   "execution_count": 30,
   "metadata": {},
   "outputs": [],
   "source": [
    "#save results\n",
    "feat_imp = model_cb.get_feature_importance()\n",
    "np.savez('output/catboost_results_new.npz', val_target=val_y['target'], val_preds= pred_val_y,\n",
    "         test_target=test_y['target'], test_preds= pred_test_y, feature_importance = feat_imp)"
   ]
  },
  {
   "cell_type": "code",
   "execution_count": 18,
   "metadata": {
    "scrolled": true
   },
   "outputs": [
    {
     "data": {
      "text/plain": [
       "array([ 0.51052487,  6.5144231 , 22.14314636, 12.19364801,  6.44038638,\n",
       "        5.99666057, 16.63497658,  1.05133631,  2.51083374,  5.03806821,\n",
       "        0.57331622,  2.85103998,  4.1725927 ,  0.53724677,  0.57618427,\n",
       "        0.39445002,  0.51814337,  7.19154633,  1.47933179,  2.67214442])"
      ]
     },
     "execution_count": 18,
     "metadata": {},
     "output_type": "execute_result"
    }
   ],
   "source": [
    "feat_imp"
   ]
  },
  {
   "cell_type": "code",
   "execution_count": 19,
   "metadata": {},
   "outputs": [
    {
     "data": {
      "text/plain": [
       "array([1., 1., 1., ..., 0., 1., 1.])"
      ]
     },
     "execution_count": 19,
     "metadata": {},
     "output_type": "execute_result"
    }
   ],
   "source": [
    "pred_test_y"
   ]
  },
  {
   "cell_type": "code",
   "execution_count": null,
   "metadata": {},
   "outputs": [],
   "source": []
  }
 ],
 "metadata": {
  "kernelspec": {
   "display_name": "Python 3",
   "language": "python",
   "name": "python3"
  },
  "language_info": {
   "codemirror_mode": {
    "name": "ipython",
    "version": 3
   },
   "file_extension": ".py",
   "mimetype": "text/x-python",
   "name": "python",
   "nbconvert_exporter": "python",
   "pygments_lexer": "ipython3",
   "version": "3.7.0"
  }
 },
 "nbformat": 4,
 "nbformat_minor": 2
}
