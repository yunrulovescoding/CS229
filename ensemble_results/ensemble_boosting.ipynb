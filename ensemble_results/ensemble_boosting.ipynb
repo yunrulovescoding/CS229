{
 "cells": [
  {
   "cell_type": "code",
   "execution_count": 2,
   "metadata": {},
   "outputs": [],
   "source": [
    "import numpy as np\n",
    "import json\n",
    "from sklearn.metrics import f1_score\n",
    "from sklearn.metrics import classification_report\n",
    "from sklearn.metrics import confusion_matrix\n",
    "from sklearn.metrics import roc_auc_score\n",
    "from collections import Counter"
   ]
  },
  {
   "cell_type": "code",
   "execution_count": 3,
   "metadata": {},
   "outputs": [],
   "source": [
    "#load logits\n",
    "catc = np.load('catboost_results_cluster.npz')#0.78\n",
    "lgbc = np.load('cluster_lgb_latest_results.npz')#0.85\n",
    "lgb = np.load('lgb_latest_results.npz')#0.85\n",
    "xgb = np.load('new_xgb_preds_results.npz')#0.86\n",
    "log = np.load('logistic_new_results.npz')#0.77\n"
   ]
  },
  {
   "cell_type": "code",
   "execution_count": 21,
   "metadata": {},
   "outputs": [],
   "source": [
    "catc_val_pred = np.array(catc['val_preds']).reshape(-1,1)\n",
    "lgb_val_pred = np.array(lgb['val_preds']).reshape(-1,1)\n",
    "xgb_val_pred = np.array(xgb['val_preds']).reshape(-1,1)\n",
    "log_val_pred = np.array(log['val_preds']).reshape(-1,1)"
   ]
  },
  {
   "cell_type": "code",
   "execution_count": 28,
   "metadata": {},
   "outputs": [],
   "source": []
  },
  {
   "cell_type": "code",
   "execution_count": 29,
   "metadata": {},
   "outputs": [
    {
     "name": "stdout",
     "output_type": "stream",
     "text": [
      "[[1.]\n",
      " [1.]\n",
      " [1.]\n",
      " ...\n",
      " [1.]\n",
      " [1.]\n",
      " [1.]] [[1.]\n",
      " [1.]\n",
      " [1.]\n",
      " ...\n",
      " [1.]\n",
      " [1.]\n",
      " [1.]] [[1.]\n",
      " [1.]\n",
      " [1.]\n",
      " ...\n",
      " [1.]\n",
      " [1.]\n",
      " [1.]] [[1.]\n",
      " [1.]\n",
      " [1.]\n",
      " ...\n",
      " [1.]\n",
      " [1.]\n",
      " [1.]]\n"
     ]
    }
   ],
   "source": [
    "print(catc_val_pred,lgb_val_pred,xgb_val_pred,log_val_pred)"
   ]
  },
  {
   "cell_type": "code",
   "execution_count": 5,
   "metadata": {},
   "outputs": [
    {
     "data": {
      "text/plain": [
       "(['val_target',\n",
       "  'val_preds',\n",
       "  'feature_importance',\n",
       "  'test_target',\n",
       "  'test_preds'],\n",
       " ['val_target', 'val_preds', 'test_target', 'test_preds'],\n",
       " ['val_target', 'val_preds', 'test_target', 'test_preds'],\n",
       " ['val_target',\n",
       "  'val_preds',\n",
       "  'test_target',\n",
       "  'new_test_preds',\n",
       "  'feature_importance'],\n",
       " ['val_target', 'val_preds', 'test_target', 'test_preds'])"
      ]
     },
     "execution_count": 5,
     "metadata": {},
     "output_type": "execute_result"
    }
   ],
   "source": [
    "catc.files,lgbc.files,lgb.files,xgb.files,log.files"
   ]
  },
  {
   "cell_type": "code",
   "execution_count": 8,
   "metadata": {},
   "outputs": [
    {
     "data": {
      "text/plain": [
       "array([ 0.69249275,  9.39362615, 23.50958754,  9.45894704,  7.80315045,\n",
       "        3.86556479, 12.88759232,  1.21823341,  1.88639708,  7.07852164,\n",
       "        0.56300667,  0.77477691,  5.40516911,  0.79941537,  0.73149508,\n",
       "        0.38111232,  0.55084617,  4.9399306 ,  1.37786951,  1.95686375,\n",
       "        2.17598379,  2.54941752])"
      ]
     },
     "execution_count": 8,
     "metadata": {},
     "output_type": "execute_result"
    }
   ],
   "source": [
    "catc['feature_importance']"
   ]
  },
  {
   "cell_type": "code",
   "execution_count": 30,
   "metadata": {},
   "outputs": [
    {
     "data": {
      "text/plain": [
       "array([0.2392638 , 0.2607362 , 0.26380368, 0.23619632])"
      ]
     },
     "execution_count": 30,
     "metadata": {},
     "output_type": "execute_result"
    }
   ],
   "source": [
    "score = np.array([0.78,0.85,0.86,0.77])\n",
    "score_avg = score/np.sum(score)\n",
    "score_avg"
   ]
  },
  {
   "cell_type": "code",
   "execution_count": 10,
   "metadata": {},
   "outputs": [
    {
     "name": "stdout",
     "output_type": "stream",
     "text": [
      "(91780,) (91780,) (91780,) (91780,) (91780,)\n"
     ]
    }
   ],
   "source": [
    "print(catc['val_preds'].shape,lgbc['val_preds'].shape,lgb['val_preds'].shape,xgb['val_preds'].shape,log['val_preds'].shape)"
   ]
  },
  {
   "cell_type": "code",
   "execution_count": 11,
   "metadata": {},
   "outputs": [],
   "source": [
    "true_val_y=catc['val_target']\n",
    "true_test_y=catc['test_target']"
   ]
  },
  {
   "cell_type": "code",
   "execution_count": 9,
   "metadata": {},
   "outputs": [],
   "source": [
    "def pred(x):\n",
    "    x_pred = 1 / (1 + np.exp(-x))\n",
    "    x_pred[x_pred>=0.5]=1\n",
    "    x_pred[x_pred<0.5]=0\n",
    "    return x_pred"
   ]
  },
  {
   "cell_type": "code",
   "execution_count": 69,
   "metadata": {},
   "outputs": [],
   "source": [
    "# weighted vote on [0,1] results val_preds\n",
    "#all_preds = score_avg[0]*catc_val_pred+score_avg[1]*lgb_val_pred+score_avg[2]*xgb_val_pred+ score_avg[3]*log_val_pred\n",
    "all_preds = 0.4*lgb['val_preds']+0.6*xgb['val_preds']"
   ]
  },
  {
   "cell_type": "code",
   "execution_count": 70,
   "metadata": {},
   "outputs": [
    {
     "name": "stdout",
     "output_type": "stream",
     "text": [
      "              precision    recall  f1-score   support\n",
      "\n",
      "         0.0       0.77      0.79      0.78     45023\n",
      "         1.0       0.79      0.77      0.78     46757\n",
      "\n",
      "    accuracy                           0.78     91780\n",
      "   macro avg       0.78      0.78      0.78     91780\n",
      "weighted avg       0.78      0.78      0.78     91780\n",
      "\n",
      "0.8603590603914353\n"
     ]
    }
   ],
   "source": [
    "print(classification_report(true_val_y,all_preds>0.5))\n",
    "print(roc_auc_score(true_val_y,all_preds))"
   ]
  },
  {
   "cell_type": "code",
   "execution_count": null,
   "metadata": {},
   "outputs": [],
   "source": []
  },
  {
   "cell_type": "code",
   "execution_count": 52,
   "metadata": {},
   "outputs": [
    {
     "name": "stdout",
     "output_type": "stream",
     "text": [
      "              precision    recall  f1-score   support\n",
      "\n",
      "         0.0       0.76      0.78      0.77     45023\n",
      "         1.0       0.78      0.77      0.78     46757\n",
      "\n",
      "    accuracy                           0.77     91780\n",
      "   macro avg       0.77      0.77      0.77     91780\n",
      "weighted avg       0.77      0.77      0.77     91780\n",
      "\n",
      "0.8526378210313116\n"
     ]
    }
   ],
   "source": [
    "print(classification_report(lgb['val_target'],lgb['val_preds']>0.5))\n",
    "print(roc_auc_score(lgb['val_target'], lgb['val_preds']))"
   ]
  },
  {
   "cell_type": "code",
   "execution_count": 34,
   "metadata": {},
   "outputs": [
    {
     "data": {
      "text/plain": [
       "(91780, 4)"
      ]
     },
     "execution_count": 34,
     "metadata": {},
     "output_type": "execute_result"
    }
   ],
   "source": [
    "#majority vote\n",
    "all_preds_concat = np.concatenate((catc_val_pred,\n",
    "                                   lgb_val_pred,\n",
    "                                   xgb_val_pred,\n",
    "                                   log_val_pred),axis=1)\n",
    "all_preds_concat.shape"
   ]
  },
  {
   "cell_type": "code",
   "execution_count": 38,
   "metadata": {},
   "outputs": [
    {
     "data": {
      "text/plain": [
       "array([4., 4., 4., ..., 4., 4., 4.])"
      ]
     },
     "execution_count": 38,
     "metadata": {},
     "output_type": "execute_result"
    }
   ],
   "source": [
    "all_preds_vote = np.sum(all_preds_concat,axis=1)\n",
    "all_preds_vote"
   ]
  },
  {
   "cell_type": "code",
   "execution_count": 39,
   "metadata": {},
   "outputs": [],
   "source": [
    "all_preds_vote[all_preds_vote<=2]=0\n",
    "all_preds_vote[all_preds_vote>2]=1"
   ]
  },
  {
   "cell_type": "code",
   "execution_count": 40,
   "metadata": {},
   "outputs": [
    {
     "name": "stdout",
     "output_type": "stream",
     "text": [
      "              precision    recall  f1-score   support\n",
      "\n",
      "         0.0       0.75      0.82      0.78     45023\n",
      "         1.0       0.81      0.74      0.77     46757\n",
      "\n",
      "    accuracy                           0.78     91780\n",
      "   macro avg       0.78      0.78      0.78     91780\n",
      "weighted avg       0.78      0.78      0.78     91780\n",
      "\n",
      "0.7786748608000571\n"
     ]
    }
   ],
   "source": [
    "print(classification_report(true_val_y,all_preds_vote>0.5))\n",
    "print(roc_auc_score(true_val_y, all_preds_vote))"
   ]
  },
  {
   "cell_type": "code",
   "execution_count": 30,
   "metadata": {},
   "outputs": [],
   "source": [
    "# #weighted logits prediction\n",
    "# logits = f1_weight[0]*final_logits+f1_weight[1]*janet_logits+\\\n",
    "#             f1_weight[2]*carson_logits+f1_weight[3]*joyce_logits+ f1_weight[4]*dense_logits #(n_pic,n_class)\n",
    "# #for [0,1]\n",
    "# all_preds = pred(logits)\n",
    "# f1_eval = f1_score(Final['test_true_ans'][:8600], all_preds, average='weighted')\n",
    "# f1_each = f1_score(Final['test_true_ans'][:8600], all_preds, average=None)"
   ]
  },
  {
   "cell_type": "code",
   "execution_count": 31,
   "metadata": {},
   "outputs": [
    {
     "name": "stdout",
     "output_type": "stream",
     "text": [
      "0.9404482344779621 [0.93642384 0.897343   0.93625771 0.944      0.97088693 0.94566254\n",
      " 0.94470353 0.95290102 0.91307324 0.94414169 0.90879479 0.97286296\n",
      " 0.94688222]\n"
     ]
    }
   ],
   "source": [
    "# print(f1_eval,f1_each)"
   ]
  },
  {
   "cell_type": "code",
   "execution_count": 23,
   "metadata": {},
   "outputs": [
    {
     "name": "stdout",
     "output_type": "stream",
     "text": [
      "(8645,) (8645,)\n",
      "[7 7 7 7 7 7 7 7 7 7] [7 7 7 7 7 7 7 7 7 7]\n"
     ]
    }
   ],
   "source": [
    "y_true = [np.argmax(t) for t in  Final['test_true_ans']]\n",
    "y_pred = [np.argmax(t) for t in all_preds]\n",
    "y_true = np.array(y_true)\n",
    "y_pred = np.array(y_pred)\n",
    "print(y_true.shape,y_pred.shape)\n",
    "print(y_true[:10],y_pred[:10])\n",
    "#print(y_true[10:20], Final['test_true_ans'][10:20])\n",
    "#print(y_pred[10:20], all_preds[10:20])"
   ]
  },
  {
   "cell_type": "code",
   "execution_count": 25,
   "metadata": {},
   "outputs": [
    {
     "name": "stdout",
     "output_type": "stream",
     "text": [
      "              precision    recall  f1-score   support\n",
      "\n",
      "       empty       0.80      0.95      0.87       750\n",
      "     opossum       0.82      0.99      0.90       750\n",
      "      bobcat       0.96      0.91      0.94       750\n",
      "        deer       0.94      0.94      0.94       750\n",
      "    squirrel       0.99      0.96      0.97       750\n",
      "      rabbit       0.99      0.91      0.95       548\n",
      "     raccoon       0.95      0.95      0.95       750\n",
      "      coyote       0.97      0.93      0.95       750\n",
      "         fox       0.94      0.89      0.91       750\n",
      "         cat       0.97      0.92      0.94       750\n",
      "       skunk       0.98      0.86      0.91       328\n",
      "      rodent       0.99      0.96      0.97       750\n",
      "         dog       0.98      0.92      0.95       269\n",
      "\n",
      "   micro avg       0.93      0.93      0.93      8645\n",
      "   macro avg       0.94      0.93      0.94      8645\n",
      "weighted avg       0.94      0.93      0.93      8645\n",
      "\n"
     ]
    }
   ],
   "source": [
    "labels = ['empty', 'opossum', 'bobcat','deer','squirrel', 'rabbit','raccoon', 'coyote', 'fox','cat', 'skunk', 'rodent','dog']\n",
    "print(classification_report(y_true, y_pred, target_names=labels))"
   ]
  },
  {
   "cell_type": "code",
   "execution_count": 27,
   "metadata": {},
   "outputs": [
    {
     "name": "stdout",
     "output_type": "stream",
     "text": [
      "[[713  13   1  10   0   0   4   0   2   7   0   0   0]\n",
      " [  1 743   0   1   3   0   1   0   0   0   1   0   0]\n",
      " [ 14   8 685   2   0   3   6   9  17   3   0   2   1]\n",
      " [ 23  10   1 707   0   0   4   0   2   2   1   0   0]\n",
      " [  8  19   0   1 718   1   2   0   0   0   1   0   0]\n",
      " [  7  32   6   2   0 497   0   0   2   0   0   0   2]\n",
      " [ 11  14   1   4   0   0 709   0  11   0   0   0   0]\n",
      " [  9  29   7   1   0   0   1 696   2   3   0   2   0]\n",
      " [ 27  18   2   9   2   0  12   3 669   6   2   0   0]\n",
      " [ 32   3   5   8   0   0   0   5   2 692   0   3   0]\n",
      " [ 24   4   2   5   1   1   6   0   2   1 281   0   1]\n",
      " [ 11   8   2   1   0   0   3   2   2   3   1 717   0]\n",
      " [ 10   6   0   1   1   0   2   0   2   0   0   0 247]]\n"
     ]
    }
   ],
   "source": [
    "print(confusion_matrix(y_true, y_pred))"
   ]
  },
  {
   "cell_type": "code",
   "execution_count": null,
   "metadata": {},
   "outputs": [],
   "source": []
  }
 ],
 "metadata": {
  "kernelspec": {
   "display_name": "Python 3",
   "language": "python",
   "name": "python3"
  },
  "language_info": {
   "codemirror_mode": {
    "name": "ipython",
    "version": 3
   },
   "file_extension": ".py",
   "mimetype": "text/x-python",
   "name": "python",
   "nbconvert_exporter": "python",
   "pygments_lexer": "ipython3",
   "version": "3.5.3"
  }
 },
 "nbformat": 4,
 "nbformat_minor": 2
}
