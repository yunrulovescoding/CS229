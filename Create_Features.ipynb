{
 "cells": [
  {
   "cell_type": "code",
   "execution_count": 11,
   "metadata": {},
   "outputs": [],
   "source": [
    "from itertools import combinations\n",
    "\n",
    "import pandas as pd\n",
    "import numpy as np\n",
    "import scipy.sparse as sp\n",
    "from scipy.sparse import coo_matrix\n",
    "from lightfm import LightFM\n",
    "from sklearn.preprocessing import LabelEncoder\n",
    "import seaborn as sns\n",
    "import matplotlib.pyplot as plt\n",
    "from sklearn.model_selection import train_test_split"
   ]
  },
  {
   "cell_type": "code",
   "execution_count": 3,
   "metadata": {},
   "outputs": [
    {
     "data": {
      "text/html": [
       "<div>\n",
       "<style scoped>\n",
       "    .dataframe tbody tr th:only-of-type {\n",
       "        vertical-align: middle;\n",
       "    }\n",
       "\n",
       "    .dataframe tbody tr th {\n",
       "        vertical-align: top;\n",
       "    }\n",
       "\n",
       "    .dataframe thead th {\n",
       "        text-align: right;\n",
       "    }\n",
       "</style>\n",
       "<table border=\"1\" class=\"dataframe\">\n",
       "  <thead>\n",
       "    <tr style=\"text-align: right;\">\n",
       "      <th></th>\n",
       "      <th>Unnamed: 0</th>\n",
       "      <th>msno</th>\n",
       "      <th>song_id</th>\n",
       "      <th>source_screen_name</th>\n",
       "      <th>source_system_tab</th>\n",
       "      <th>source_type</th>\n",
       "      <th>target</th>\n",
       "      <th>song_length</th>\n",
       "      <th>genre_ids</th>\n",
       "      <th>artist_name</th>\n",
       "      <th>composer</th>\n",
       "      <th>lyricist</th>\n",
       "      <th>language</th>\n",
       "      <th>city</th>\n",
       "      <th>bd</th>\n",
       "      <th>gender</th>\n",
       "      <th>registered_via</th>\n",
       "      <th>registration_init_time</th>\n",
       "      <th>expiration_date</th>\n",
       "      <th>time</th>\n",
       "    </tr>\n",
       "  </thead>\n",
       "  <tbody>\n",
       "    <tr>\n",
       "      <th>0</th>\n",
       "      <td>0</td>\n",
       "      <td>9176</td>\n",
       "      <td>86884</td>\n",
       "      <td>7</td>\n",
       "      <td>1</td>\n",
       "      <td>7</td>\n",
       "      <td>1.0</td>\n",
       "      <td>206471.0</td>\n",
       "      <td>307</td>\n",
       "      <td>3784</td>\n",
       "      <td>16653</td>\n",
       "      <td>26024</td>\n",
       "      <td>9</td>\n",
       "      <td>0</td>\n",
       "      <td>0</td>\n",
       "      <td>2</td>\n",
       "      <td>2</td>\n",
       "      <td>2012-01-02</td>\n",
       "      <td>2017-10-05</td>\n",
       "      <td>0.000000e+00</td>\n",
       "    </tr>\n",
       "    <tr>\n",
       "      <th>1</th>\n",
       "      <td>1</td>\n",
       "      <td>19273</td>\n",
       "      <td>260594</td>\n",
       "      <td>8</td>\n",
       "      <td>3</td>\n",
       "      <td>4</td>\n",
       "      <td>1.0</td>\n",
       "      <td>284584.0</td>\n",
       "      <td>97</td>\n",
       "      <td>36867</td>\n",
       "      <td>74276</td>\n",
       "      <td>26024</td>\n",
       "      <td>9</td>\n",
       "      <td>11</td>\n",
       "      <td>24</td>\n",
       "      <td>0</td>\n",
       "      <td>3</td>\n",
       "      <td>2011-05-25</td>\n",
       "      <td>2017-09-11</td>\n",
       "      <td>1.006623e-07</td>\n",
       "    </tr>\n",
       "    <tr>\n",
       "      <th>2</th>\n",
       "      <td>2</td>\n",
       "      <td>19273</td>\n",
       "      <td>140755</td>\n",
       "      <td>8</td>\n",
       "      <td>3</td>\n",
       "      <td>4</td>\n",
       "      <td>1.0</td>\n",
       "      <td>225396.0</td>\n",
       "      <td>97</td>\n",
       "      <td>24601</td>\n",
       "      <td>51540</td>\n",
       "      <td>26024</td>\n",
       "      <td>9</td>\n",
       "      <td>11</td>\n",
       "      <td>24</td>\n",
       "      <td>0</td>\n",
       "      <td>3</td>\n",
       "      <td>2011-05-25</td>\n",
       "      <td>2017-09-11</td>\n",
       "      <td>2.013246e-07</td>\n",
       "    </tr>\n",
       "  </tbody>\n",
       "</table>\n",
       "</div>"
      ],
      "text/plain": [
       "   Unnamed: 0   msno  song_id  source_screen_name  source_system_tab  \\\n",
       "0           0   9176    86884                   7                  1   \n",
       "1           1  19273   260594                   8                  3   \n",
       "2           2  19273   140755                   8                  3   \n",
       "\n",
       "   source_type  target  song_length  genre_ids  artist_name  composer  \\\n",
       "0            7     1.0     206471.0        307         3784     16653   \n",
       "1            4     1.0     284584.0         97        36867     74276   \n",
       "2            4     1.0     225396.0         97        24601     51540   \n",
       "\n",
       "   lyricist  language  city  bd  gender  registered_via  \\\n",
       "0     26024         9     0   0       2               2   \n",
       "1     26024         9    11  24       0               3   \n",
       "2     26024         9    11  24       0               3   \n",
       "\n",
       "  registration_init_time expiration_date          time  \n",
       "0             2012-01-02      2017-10-05  0.000000e+00  \n",
       "1             2011-05-25      2017-09-11  1.006623e-07  \n",
       "2             2011-05-25      2017-09-11  2.013246e-07  "
      ]
     },
     "execution_count": 3,
     "metadata": {},
     "output_type": "execute_result"
    }
   ],
   "source": [
    "date_cols = ['expiration_date', 'registration_init_time']\n",
    "\n",
    "train_data = pd.read_csv('music_data_raw/train_data_updated.csv', parse_dates=date_cols)\n",
    "test_data = pd.read_csv('music_data_raw/test_data_updated.csv', parse_dates=date_cols)\n",
    "all_data = pd.concat([train_data, test_data])\n",
    "all_data[:3]"
   ]
  },
  {
   "cell_type": "code",
   "execution_count": 15,
   "metadata": {},
   "outputs": [
    {
     "name": "stdout",
     "output_type": "stream",
     "text": [
      "(9934208, 20)\n",
      "0.6312980360387058\n"
     ]
    }
   ],
   "source": [
    "print(all_data.shape)\n",
    "print(np.count_nonzero(all_data['target'])/all_data.shape[0])"
   ]
  },
  {
   "cell_type": "code",
   "execution_count": 18,
   "metadata": {},
   "outputs": [
    {
     "name": "stdout",
     "output_type": "stream",
     "text": [
      "<class 'pandas.core.frame.DataFrame'>\n",
      "RangeIndex: 2556790 entries, 0 to 2556789\n",
      "Data columns (total 20 columns):\n",
      "Unnamed: 0                int64\n",
      "msno                      int64\n",
      "song_id                   int64\n",
      "source_screen_name        int64\n",
      "source_system_tab         int64\n",
      "source_type               int64\n",
      "target                    float64\n",
      "song_length               float64\n",
      "genre_ids                 int64\n",
      "artist_name               int64\n",
      "composer                  int64\n",
      "lyricist                  int64\n",
      "language                  int64\n",
      "city                      int64\n",
      "bd                        int64\n",
      "gender                    int64\n",
      "registered_via            int64\n",
      "registration_init_time    datetime64[ns]\n",
      "expiration_date           datetime64[ns]\n",
      "time                      float64\n",
      "dtypes: datetime64[ns](2), float64(3), int64(15)\n",
      "memory usage: 390.1 MB\n"
     ]
    }
   ],
   "source": [
    "test_data.info()"
   ]
  },
  {
   "cell_type": "code",
   "execution_count": 4,
   "metadata": {},
   "outputs": [],
   "source": [
    "catCols = ['msno', 'song_id', 'source_screen_name', 'source_system_tab', 'source_type', 'genre_ids', 'artist_name', \n",
    "           'composer', 'lyricist', 'language', 'city', 'gender', 'registered_via']\n",
    "numCols = ['bd', 'song_length']"
   ]
  },
  {
   "cell_type": "code",
   "execution_count": 9,
   "metadata": {},
   "outputs": [
    {
     "data": {
      "text/plain": [
       "(0, 100)"
      ]
     },
     "execution_count": 9,
     "metadata": {},
     "output_type": "execute_result"
    },
    {
     "data": {
      "image/png": "[encoded data removed]",
      "text/plain": [
       "<Figure size 432x288 with 1 Axes>"
      ]
     },
     "metadata": {
      "needs_background": "light"
     },
     "output_type": "display_data"
    }
   ],
   "source": [
    "vis1 = sns.distplot(test_data[\"bd\"], bins = 80)\n",
    "plt.xlim(0, 100)"
   ]
  },
  {
   "cell_type": "code",
   "execution_count": null,
   "metadata": {},
   "outputs": [],
   "source": []
  }
 ],
 "metadata": {
  "kernelspec": {
   "display_name": "Python 3",
   "language": "python",
   "name": "python3"
  },
  "language_info": {
   "codemirror_mode": {
    "name": "ipython",
    "version": 3
   },
   "file_extension": ".py",
   "mimetype": "text/x-python",
   "name": "python",
   "nbconvert_exporter": "python",
   "pygments_lexer": "ipython3",
   "version": "3.5.3"
  }
 },
 "nbformat": 4,
 "nbformat_minor": 2
}
