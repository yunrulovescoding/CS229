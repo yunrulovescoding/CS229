{
 "cells": [
  {
   "cell_type": "code",
   "execution_count": 1,
   "metadata": {},
   "outputs": [],
   "source": [
    "import numpy as np\n",
    "import pandas as pd\n",
    "import matplotlib.pyplot as plt\n",
    "from datetime import datetime\n",
    "\n",
    "from sklearn.metrics import classification_report\n",
    "from sklearn.metrics import roc_auc_score\n",
    "from sklearn.metrics import accuracy_score\n",
    "from sklearn import metrics\n",
    "\n",
    "import lightgbm as lgb\n",
    "import xgboost as xgb\n",
    "import sklearn.datasets\n",
    "import gc"
   ]
  },
  {
   "cell_type": "code",
   "execution_count": 2,
   "metadata": {},
   "outputs": [],
   "source": [
    "# train_X = pd.read_csv('music_data/train_X.csv')\n",
    "train_X = pd.read_csv('music_data/train_X_date_converted.csv')\n",
    "train_y = pd.read_csv('music_data/train_Y.csv')\n",
    "\n",
    "# val_X = pd.read_csv('music_data/valid_X.csv')\n",
    "val_X = pd.read_csv('music_data/valid_X_date_converted.csv')\n",
    "val_y = pd.read_csv('music_data/valid_Y.csv')\n",
    "\n",
    "# test_X = pd.read_csv('music_data/test_X.csv')\n",
    "test_X = pd.read_csv('music_data/test_X_date_converted.csv')\n",
    "test_y = pd.read_csv('music_data/test_Y.csv')\n",
    "\n",
    "# train_tiny_X = pd.read_csv('music_data/train_tiny_X.csv')\n",
    "train_tiny_X = pd.read_csv('music_data/train_tiny_X_date_converted.csv')\n",
    "train_tiny_y = pd.read_csv('music_data/train_tiny_Y.csv')\n",
    "\n",
    "# val_tiny_X = val_X[:1000].copy()\n",
    "val_tiny_X = pd.read_csv('music_data/val_tiny_X_date_converted.csv')\n",
    "val_tiny_y = val_y[:1000].copy()"
   ]
  },
  {
   "cell_type": "code",
   "execution_count": 5,
   "metadata": {},
   "outputs": [],
   "source": [
    "def run_lgbc(train_X, train_y, val_X, val_y):\n",
    "    params = {\n",
    "        \"objective\" : \"binary\",\n",
    "        \"metric\" : \"binary_logloss\", \n",
    "        \"num_leaves\" : 15,\n",
    "        \"min_child_samples\" : 100,\n",
    "        \"learning_rate\" : 0.05,\n",
    "        \"bagging_fraction\" : 0.7,\n",
    "        \"feature_fraction\" : 0.7,\n",
    "        \"bagging_frequency\" : 5,\n",
    "        \"bagging_seed\" : 2018,\n",
    "    }\n",
    "    \n",
    "    lgtrain = lgb.Dataset(train_X, label=train_y)\n",
    "    lgval = lgb.Dataset(val_X, label=val_y)\n",
    "    model = lgb.train(params, lgtrain, 5000, valid_sets=[lgval], early_stopping_rounds=100, verbose_eval=100)\n",
    "                      #,learning_rates=[0.05] * 1500 + [0.01] * 500)\n",
    "\n",
    "    pred_val_y = model.predict(val_X, num_iteration=model.best_iteration)\n",
    "    return model, pred_val_y"
   ]
  },
  {
   "cell_type": "code",
   "execution_count": 92,
   "metadata": {},
   "outputs": [
    {
     "name": "stdout",
     "output_type": "stream",
     "text": [
      "Training until validation scores don't improve for 100 rounds.\n",
      "[100]\tvalid_0's binary_logloss: 0.637592\n",
      "Early stopping, best iteration is:\n",
      "[67]\tvalid_0's binary_logloss: 0.637379\n",
      "              precision    recall  f1-score   support\n",
      "\n",
      "         0.0       0.60      0.71      0.65       477\n",
      "         1.0       0.68      0.57      0.62       523\n",
      "\n",
      "   micro avg       0.63      0.63      0.63      1000\n",
      "   macro avg       0.64      0.64      0.63      1000\n",
      "weighted avg       0.64      0.63      0.63      1000\n",
      "\n",
      "0.6905051088102424\n"
     ]
    }
   ],
   "source": [
    "#tiny\n",
    "modelC, pred_val_y = run_lgbc(train_tiny_X, train_tiny_y['target'], val_tiny_X, val_tiny_y['target'])\n",
    "print(classification_report(val_tiny_y['target'], modelC.predict(val_tiny_X)>0.5))\n",
    "print(roc_auc_score(val_tiny_y['target'], modelC.predict(val_tiny_X)))"
   ]
  },
  {
   "cell_type": "code",
   "execution_count": 7,
   "metadata": {},
   "outputs": [],
   "source": [
    "def run_lgbc(train_X, train_y, val_X, val_y):\n",
    "    params = {\n",
    "        \"objective\" : \"binary\",\n",
    "        \"metric\" : \"binary_logloss\", \n",
    "        \"num_leaves\" : 15,\n",
    "        \"min_child_samples\" : 100,\n",
    "        \"learning_rate\" : 0.5,\n",
    "        \"bagging_fraction\" : 0.7,\n",
    "        \"feature_fraction\" : 0.7,\n",
    "        \"bagging_frequency\" : 5,\n",
    "        \"bagging_seed\" : 2018,\n",
    "    }\n",
    "    \n",
    "    lgtrain = lgb.Dataset(train_X, label=train_y)\n",
    "    lgval = lgb.Dataset(val_X, label=val_y)\n",
    "    model = lgb.train(params, lgtrain, 10000, valid_sets=[lgval], early_stopping_rounds=100, verbose_eval=500)\n",
    "                      #,learning_rates=[0.05] * 1500 + [0.01] * 500)\n",
    "\n",
    "    pred_val_y = model.predict(val_X, num_iteration=model.best_iteration)\n",
    "    return model, pred_val_y"
   ]
  },
  {
   "cell_type": "code",
   "execution_count": 8,
   "metadata": {},
   "outputs": [
    {
     "name": "stdout",
     "output_type": "stream",
     "text": [
      "Training until validation scores don't improve for 100 rounds.\n",
      "[500]\tvalid_0's binary_logloss: 0.594526\n",
      "[1000]\tvalid_0's binary_logloss: 0.579599\n",
      "[1500]\tvalid_0's binary_logloss: 0.570783\n",
      "[2000]\tvalid_0's binary_logloss: 0.564472\n",
      "[2500]\tvalid_0's binary_logloss: 0.558984\n",
      "[3000]\tvalid_0's binary_logloss: 0.55488\n",
      "[3500]\tvalid_0's binary_logloss: 0.551954\n",
      "[4000]\tvalid_0's binary_logloss: 0.548954\n",
      "[4500]\tvalid_0's binary_logloss: 0.546206\n",
      "[5000]\tvalid_0's binary_logloss: 0.543999\n",
      "[5500]\tvalid_0's binary_logloss: 0.542265\n",
      "[6000]\tvalid_0's binary_logloss: 0.541018\n",
      "[6500]\tvalid_0's binary_logloss: 0.539853\n",
      "[7000]\tvalid_0's binary_logloss: 0.538518\n",
      "[7500]\tvalid_0's binary_logloss: 0.537506\n",
      "[8000]\tvalid_0's binary_logloss: 0.536668\n",
      "[8500]\tvalid_0's binary_logloss: 0.535484\n",
      "[9000]\tvalid_0's binary_logloss: 0.534512\n",
      "[9500]\tvalid_0's binary_logloss: 0.533923\n",
      "[10000]\tvalid_0's binary_logloss: 0.533322\n",
      "Did not meet early stopping. Best iteration is:\n",
      "[9998]\tvalid_0's binary_logloss: 0.53332\n",
      "              precision    recall  f1-score   support\n",
      "\n",
      "         0.0       0.73      0.73      0.73    732500\n",
      "         1.0       0.74      0.73      0.73    742961\n",
      "\n",
      "   micro avg       0.73      0.73      0.73   1475461\n",
      "   macro avg       0.73      0.73      0.73   1475461\n",
      "weighted avg       0.73      0.73      0.73   1475461\n",
      "\n",
      "0.8082609651897769\n"
     ]
    }
   ],
   "source": [
    "#10000, 0.5\n",
    "modelC, pred_val_y = run_lgbc(train_X, train_y['target'], val_X, val_y['target'])\n",
    "y_pred =  modelC.predict(val_X)\n",
    "print(classification_report(val_y['target'], y_pred>0.5))\n",
    "print(roc_auc_score(val_y['target'], y_pred))"
   ]
  },
  {
   "cell_type": "code",
   "execution_count": 19,
   "metadata": {},
   "outputs": [],
   "source": [
    "def run_lgbc(train_X, train_y, val_X, val_y):\n",
    "    params = {\n",
    "        \"objective\" : \"binary\",\n",
    "        \"metric\" : \"binary_logloss\", \n",
    "        \"num_leaves\" : 15,\n",
    "        \"min_child_samples\" : 100,\n",
    "        \"learning_rate\" : 0.5,\n",
    "        \"bagging_fraction\" : 0.7,\n",
    "        \"feature_fraction\" : 0.7,\n",
    "        \"bagging_frequency\" : 5,\n",
    "        \"bagging_seed\" : 2018,\n",
    "    }\n",
    "    \n",
    "    lgtrain = lgb.Dataset(train_X, label=train_y)\n",
    "    lgval = lgb.Dataset(val_X, label=val_y)\n",
    "    model = lgb.train(params, lgtrain, 15000, valid_sets=[lgval], early_stopping_rounds=100, verbose_eval=500\n",
    "                      ,learning_rates=[0.5] * 10000 + [0.1] * 5000)\n",
    "\n",
    "    pred_val_y = model.predict(val_X, num_iteration=model.best_iteration)\n",
    "    return model, pred_val_y"
   ]
  },
  {
   "cell_type": "code",
   "execution_count": 20,
   "metadata": {},
   "outputs": [
    {
     "name": "stdout",
     "output_type": "stream",
     "text": [
      "Training until validation scores don't improve for 100 rounds.\n",
      "[500]\tvalid_0's binary_logloss: 0.594526\n",
      "[1000]\tvalid_0's binary_logloss: 0.579599\n",
      "[1500]\tvalid_0's binary_logloss: 0.570783\n",
      "[2000]\tvalid_0's binary_logloss: 0.564472\n",
      "[2500]\tvalid_0's binary_logloss: 0.558984\n",
      "[3000]\tvalid_0's binary_logloss: 0.55488\n",
      "[3500]\tvalid_0's binary_logloss: 0.551954\n",
      "[4000]\tvalid_0's binary_logloss: 0.548954\n",
      "[4500]\tvalid_0's binary_logloss: 0.546206\n",
      "[5000]\tvalid_0's binary_logloss: 0.543999\n",
      "[5500]\tvalid_0's binary_logloss: 0.542265\n",
      "[6000]\tvalid_0's binary_logloss: 0.541018\n",
      "[6500]\tvalid_0's binary_logloss: 0.539853\n",
      "[7000]\tvalid_0's binary_logloss: 0.538518\n",
      "[7500]\tvalid_0's binary_logloss: 0.537506\n",
      "[8000]\tvalid_0's binary_logloss: 0.536668\n",
      "[8500]\tvalid_0's binary_logloss: 0.535484\n",
      "[9000]\tvalid_0's binary_logloss: 0.534512\n",
      "[9500]\tvalid_0's binary_logloss: 0.533923\n",
      "[10000]\tvalid_0's binary_logloss: 0.533322\n",
      "[10500]\tvalid_0's binary_logloss: 0.533041\n",
      "[11000]\tvalid_0's binary_logloss: 0.532816\n",
      "[11500]\tvalid_0's binary_logloss: 0.532621\n",
      "[12000]\tvalid_0's binary_logloss: 0.532437\n",
      "[12500]\tvalid_0's binary_logloss: 0.532249\n",
      "[13000]\tvalid_0's binary_logloss: 0.532031\n",
      "[13500]\tvalid_0's binary_logloss: 0.531815\n",
      "[14000]\tvalid_0's binary_logloss: 0.531596\n",
      "[14500]\tvalid_0's binary_logloss: 0.531415\n",
      "[15000]\tvalid_0's binary_logloss: 0.531215\n",
      "Did not meet early stopping. Best iteration is:\n",
      "[14997]\tvalid_0's binary_logloss: 0.531214\n",
      "              precision    recall  f1-score   support\n",
      "\n",
      "         0.0       0.73      0.74      0.73    732500\n",
      "         1.0       0.74      0.73      0.73    742961\n",
      "\n",
      "   micro avg       0.73      0.73      0.73   1475461\n",
      "   macro avg       0.73      0.73      0.73   1475461\n",
      "weighted avg       0.73      0.73      0.73   1475461\n",
      "\n",
      "0.8101565521758101\n"
     ]
    }
   ],
   "source": [
    "modelC, pred_val_y = run_lgbc(train_X, train_y['target'], val_X, val_y['target'])\n",
    "y_pred =  modelC.predict(val_X)\n",
    "print(classification_report(val_y['target'],y_pred>0.5))\n",
    "print(roc_auc_score(val_y['target'], y_pred))"
   ]
  },
  {
   "cell_type": "markdown",
   "metadata": {},
   "source": [
    "Feature Importance"
   ]
  },
  {
   "cell_type": "code",
   "execution_count": 3,
   "metadata": {},
   "outputs": [
    {
     "name": "stdout",
     "output_type": "stream",
     "text": [
      "Training until validation scores don't improve for 100 rounds.\n",
      "[500]\tvalid_0's binary_logloss: 0.594526\n",
      "[1000]\tvalid_0's binary_logloss: 0.579599\n",
      "[1500]\tvalid_0's binary_logloss: 0.570783\n",
      "[2000]\tvalid_0's binary_logloss: 0.564472\n",
      "[2500]\tvalid_0's binary_logloss: 0.558984\n",
      "[3000]\tvalid_0's binary_logloss: 0.55488\n",
      "[3500]\tvalid_0's binary_logloss: 0.551954\n",
      "[4000]\tvalid_0's binary_logloss: 0.548954\n",
      "[4500]\tvalid_0's binary_logloss: 0.546206\n",
      "[5000]\tvalid_0's binary_logloss: 0.543999\n",
      "[5500]\tvalid_0's binary_logloss: 0.542265\n",
      "[6000]\tvalid_0's binary_logloss: 0.541018\n",
      "[6500]\tvalid_0's binary_logloss: 0.539853\n",
      "[7000]\tvalid_0's binary_logloss: 0.538518\n",
      "[7500]\tvalid_0's binary_logloss: 0.537506\n",
      "[8000]\tvalid_0's binary_logloss: 0.536668\n",
      "[8500]\tvalid_0's binary_logloss: 0.535484\n",
      "[9000]\tvalid_0's binary_logloss: 0.534512\n",
      "[9500]\tvalid_0's binary_logloss: 0.533923\n",
      "[10000]\tvalid_0's binary_logloss: 0.533322\n",
      "Early stopping, best iteration is:\n",
      "[10233]\tvalid_0's binary_logloss: 0.53308\n",
      "              precision    recall  f1-score   support\n",
      "\n",
      "         0.0       0.73      0.73      0.73    732500\n",
      "         1.0       0.74      0.73      0.73    742961\n",
      "\n",
      "   micro avg       0.73      0.73      0.73   1475461\n",
      "   macro avg       0.73      0.73      0.73   1475461\n",
      "weighted avg       0.73      0.73      0.73   1475461\n",
      "\n",
      "0.8084862356786897\n"
     ]
    },
    {
     "data": {
      "image/png": "[encoded data removed]",
      "text/plain": [
       "<Figure size 432x288 with 1 Axes>"
      ]
     },
     "metadata": {
      "needs_background": "light"
     },
     "output_type": "display_data"
    }
   ],
   "source": [
    "def run_lgbc(train_X, train_y, val_X, val_y):\n",
    "    params = {\n",
    "        \"objective\" : \"binary\",\n",
    "        \"metric\" : \"binary_logloss\", \n",
    "        \"num_leaves\" : 15,\n",
    "        \"min_child_samples\" : 100,\n",
    "        \"learning_rate\" : 0.5,\n",
    "        \"bagging_fraction\" : 0.7,\n",
    "        \"feature_fraction\" : 0.7,\n",
    "        \"bagging_frequency\" : 5,\n",
    "        \"bagging_seed\" : 2018,\n",
    "    }\n",
    "    \n",
    "    lgtrain = lgb.Dataset(train_X, label=train_y)\n",
    "    lgval = lgb.Dataset(val_X, label=val_y)\n",
    "    model = lgb.train(params, lgtrain, 15000, valid_sets=[lgval], early_stopping_rounds=100, verbose_eval=500)\n",
    "                      #,learning_rates=[0.5] * 10000 + [0.1] * 5000)\n",
    "    lgb.plot_importance(model)\n",
    "    pred_val_y = model.predict(val_X, num_iteration=model.best_iteration)\n",
    "    return model, pred_val_y\n",
    "\n",
    "modelC, pred_val_y = run_lgbc(train_X, train_y['target'], val_X, val_y['target'])\n",
    "y_pred =  modelC.predict(val_X)\n",
    "print(classification_report(val_y['target'],y_pred>0.5))\n",
    "print(roc_auc_score(val_y['target'], y_pred))"
   ]
  },
  {
   "cell_type": "code",
   "execution_count": null,
   "metadata": {},
   "outputs": [],
   "source": []
  }
 ],
 "metadata": {
  "kernelspec": {
   "display_name": "Python 3",
   "language": "python",
   "name": "python3"
  },
  "language_info": {
   "codemirror_mode": {
    "name": "ipython",
    "version": 3
   },
   "file_extension": ".py",
   "mimetype": "text/x-python",
   "name": "python",
   "nbconvert_exporter": "python",
   "pygments_lexer": "ipython3",
   "version": "3.5.3"
  }
 },
 "nbformat": 4,
 "nbformat_minor": 2
}
